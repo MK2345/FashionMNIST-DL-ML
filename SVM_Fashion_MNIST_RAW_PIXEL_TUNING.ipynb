{
 "cells": [
  {
   "cell_type": "code",
   "execution_count": 62,
   "metadata": {},
   "outputs": [],
   "source": [
    "from keras.datasets import fashion_mnist\n",
    "import numpy as np\n",
    "from numpy import mean, std\n",
    "import matplotlib.pyplot as plt\n",
    "\n",
    "import math\n",
    "\n",
    "from sklearn.svm import SVC\n",
    "from sklearn.svm import LinearSVC\n",
    "#from sklearn.multiclass import OneVsRestClassifier\n",
    "\n",
    "from sklearn.model_selection import train_test_split\n",
    "#from sklearn.model_selection import LeaveOneOut\n",
    "from sklearn.model_selection import GridSearchCV, RandomizedSearchCV\n",
    "from sklearn.model_selection import RepeatedStratifiedKFold\n",
    "from sklearn.model_selection import cross_val_score\n",
    "from sklearn.model_selection import validation_curve\n",
    "from sklearn.model_selection import learning_curve\n",
    "from sklearn.model_selection import ShuffleSplit\n",
    "\n",
    "from sklearn.pipeline import Pipeline\n",
    "\n",
    "from sklearn.preprocessing import StandardScaler\n",
    "from sklearn.preprocessing import MinMaxScaler\n",
    "\n",
    "from sklearn.metrics import accuracy_score, confusion_matrix, classification_report, roc_curve, roc_auc_score\n",
    "from sklearn.metrics import precision_score\n",
    "from sklearn.metrics import recall_score\n",
    "from sklearn.metrics import f1_score\n",
    "from sklearn.metrics import auc, average_precision_score, f1_score, roc_auc_score\n",
    "from sklearn.metrics import roc_curve, auc\n",
    "\n",
    "from sklearn.utils import shuffle\n",
    "from sklearn.utils.multiclass import unique_labels\n",
    "\n",
    "from skimage import exposure, feature, transform\n",
    "import pickle as pkl\n",
    "from sklearn.decomposition import PCA\n",
    "\n",
    "from itertools import product\n",
    "\n",
    "\n",
    "import seaborn as sns\n",
    "\n",
    "import time\n",
    "import timeit\n",
    "from timeit import default_timer as timer"
   ]
  },
  {
   "cell_type": "code",
   "execution_count": 2,
   "metadata": {},
   "outputs": [
    {
     "name": "stdout",
     "output_type": "stream",
     "text": [
      "x_train shape:  (60000, 28, 28) y_train shape:  (60000,)\n",
      "x test.shape:  (10000, 28, 28)  y_test shape:  (10000,)\n"
     ]
    }
   ],
   "source": [
    "'''\n",
    "Datensätze (Grauwertbilder) laden. Die Bilder haben eine Größe von 28x28 Pixel und sind bereits segmentiert, \n",
    "jedes enthält nur ein Kleidungsstück\n",
    "\n",
    "Label Beschreibung\n",
    "0     T-shirt/top\n",
    "1     Trousers\n",
    "2     Pullover\n",
    "3     Dress\n",
    "4     Coat\n",
    "5     Sandal\n",
    "6     Shirt\n",
    "7     Sneaker\n",
    "8     Bag\n",
    "9     Ankle boot\n",
    "''' \n",
    "\n",
    "# Trainingsmenge (60.000 Bilder, gelabelt) und Testmenge (10.000 Bilder, gelabelt) laden, \n",
    "(X_train, y_train), (X_test, y_test) = fashion_mnist.load_data()\n",
    "print(\"x_train shape: \", X_train.shape, \"y_train shape: \", y_train.shape)\n",
    "print(\"x test.shape: \", X_test.shape, \" y_test shape: \", y_test.shape)\n",
    "\n",
    "\n",
    "'''\n",
    "Normalisieren von [0,255] nach [0,1]\n",
    "\n",
    "'''\n",
    "X_train = X_train/255.0\n",
    "X_test = X_test/255.0\n",
    "\n",
    "'''\n",
    "Teilmengen aus Trainingsdatensatz generieren\n",
    "\n",
    "'''\n",
    "\n",
    "#Trainingsmenge mit 50.000 Bilder erzeugen\n",
    "X_train_50000, X_test_10000, y_train_50000, y_test_10000 = train_test_split(X_train, y_train, random_state = 0, test_size=1/6, stratify=y_train)\n",
    "\n",
    "#Trainingsmenge mit 40.000 Bilder erzeugen\n",
    "X_train_40000, X_test_10000_b, y_train_40000, y_test_10000_b = train_test_split(X_train_50000, y_train_50000, random_state = 0, test_size=1/5, stratify=y_train_50000)\n",
    "\n",
    "#Trainingsmenge mit 30.000 Bilder erzeugen\n",
    "X_train_30000, X_test_10000_c, y_train_30000, y_test_10000_c = train_test_split(X_train_40000, y_train_40000, random_state = 0, test_size=1/4, stratify=y_train_40000)\n",
    "\n",
    "#Trainingsmenge mit 20.000 Bilder erzeugen\n",
    "X_train_20000, X_test_10000_d, y_train_20000, y_test_10000_d = train_test_split(X_train_30000, y_train_30000, random_state = 0, test_size=1/3, stratify=y_train_30000)\n",
    "\n",
    "#Trainingsmenge mit 10.000 Bilder erzeugen\n",
    "X_train_10000, X_test_10000_e, y_train_10000, y_test_10000_e = train_test_split(X_train_20000, y_train_20000, random_state = 0, test_size=1/2, stratify=y_train_20000)\n",
    "\n",
    "#Trainingsmenge mit 5.000 Bilder erzeugen\n",
    "X_train_5000, X_test_5000, y_train_5000, y_test_5000 = train_test_split(X_train_10000, y_train_10000, random_state = 0, test_size=1/2, stratify=y_train_10000)\n",
    "\n",
    "#Trainingsmenge mit 2.000 Bilder erzeugen\n",
    "X_train_2000, X_test_3000, y_train_2000, y_test_3000 = train_test_split(X_train_5000, y_train_5000, random_state = 0, test_size=3/5, stratify=y_train_5000)\n",
    "\n",
    "#Trainingsmenge mit 1.000 Bilder erzeugen\n",
    "X_train_1000, X_test_1000, y_train_1000, y_test_1000 = train_test_split(X_train_2000, y_train_2000, random_state = 0, test_size=1/2, stratify=y_train_2000)\n",
    "\n",
    "#Trainingsmenge mit 500 Bilder erzeugen\n",
    "X_train_500, X_test_500, y_train_500, y_test_500 = train_test_split(X_train_1000, y_train_1000, random_state = 0, test_size=1/2, stratify=y_train_1000)"
   ]
  },
  {
   "cell_type": "code",
   "execution_count": 4,
   "metadata": {},
   "outputs": [],
   "source": [
    "'''\n",
    "speichert trainierte Modelle als Pickle-Datei.\n",
    "Diese gespeicherten Modelle können mit Funktion   load_trained_model_from_pkl(name)\n",
    "'''\n",
    "\n",
    "def save_trained_model_as_pkl(model, filename):\n",
    "    with open(filename, 'wb') as file:\n",
    "        pkl.dump(model, file)   "
   ]
  },
  {
   "cell_type": "code",
   "execution_count": 5,
   "metadata": {},
   "outputs": [],
   "source": [
    "'''\n",
    "lädt bereits trainiertes, als Pickle-Datei gespeichertes Modell\n",
    "'''\n",
    "def load_trained_model_from_pkl(filename):\n",
    "    with open(filename, 'rb') as file:\n",
    "        new_model=pkl.load(file)\n",
    "    return new_model"
   ]
  },
  {
   "cell_type": "code",
   "execution_count": 81,
   "metadata": {},
   "outputs": [],
   "source": [
    "'''\n",
    "Erstellt eine nicht normalisierte Konfusionsmatrix \n",
    "'''\n",
    "\n",
    "def plot_confusion_matrix(model, X_test, y_test):\n",
    "    #y_pred = model.fit(X_train, y_train).predict(X_test)\n",
    "    y_pred = model.predict(X_test)\n",
    "\n",
    "    normalize=False\n",
    "    cmap = plt.cm.Blues\n",
    "    #cmap = plt.cm.OrRd\n",
    "    #cmap = plt.cm.YlGn\n",
    "    #cmap = plt.cm.Greens\n",
    "    classes = ['T-shirt', 'Trousers', 'Pullover', 'Dress', 'Coat', 'Sandal', 'Shirt', 'Sneaker','Bag', 'Ankle-boot']\n",
    "    \n",
    "    title = 'confusion matrix'    \n",
    "    cm = confusion_matrix(y_test, y_pred)\n",
    "        \n",
    "    fig, ax = plt.subplots()\n",
    "    im = ax.imshow(cm, interpolation='nearest', cmap=cmap)\n",
    "    ax.figure.colorbar(im, ax=ax)\n",
    "    ax.set(xticks=np.arange(cm.shape[1]),\n",
    "          yticks=np.arange(cm.shape[0]),\n",
    "          xticklabels=classes, yticklabels=classes,\n",
    "          title=title,\n",
    "          ylabel = 'true classes',\n",
    "          xlabel = 'predicted classes')\n",
    "    plt.setp(ax.get_xticklabels(), rotation=45, ha=\"right\",\n",
    "            rotation_mode=\"anchor\")\n",
    "    \n",
    "    fmt = 'd'\n",
    "    thresh = cm.max() / 2.\n",
    "    for i in range(cm.shape[0]):\n",
    "        for j in range(cm.shape[1]):\n",
    "            ax.text(j, i, format(cm[i, j], fmt),\n",
    "                    ha=\"center\", va=\"center\",\n",
    "                    color=\"white\" if cm[i, j] > thresh else \"black\")\n",
    "    fig.tight_layout()\n",
    "    \n",
    "    np.set_printoptions(precision=2)\n",
    "    plt.show()"
   ]
  },
  {
   "cell_type": "code",
   "execution_count": 339,
   "metadata": {},
   "outputs": [],
   "source": [
    "def plot_confusion_matrix_norm(model, X_test, y_test):\n",
    "    \n",
    "    y_pred = model.predict(X_test)\n",
    "    \n",
    "    \n",
    "    classes = ['T-shirt', 'Trousers', 'Pullover', 'Dress', 'Coat', 'Sandal', 'Shirt', 'Sneaker','Bag', 'Ankle-boot']\n",
    "    \n",
    "    cm = confusion_matrix(y_test, y_pred)\n",
    "    \n",
    "    \n",
    "    np.set_printoptions(precision=3)\n",
    "    \n",
    "    plt.figure(figsize=(4.5*2, 2.5*2))\n",
    "    \n",
    "    normalize=True\n",
    "    \"\"\"\n",
    "    This function prints and plots the confusion matrix.\n",
    "    Normalization can be applied by setting `normalize=True`.\n",
    "    \"\"\"\n",
    "    if normalize:\n",
    "        cm = cm.astype('float') / cm.sum(axis=1)[:, np.newaxis]\n",
    "        print(\"Normalized confusion matrix\")\n",
    "    else:\n",
    "        print('Confusion matrix, without normalization')\n",
    "\n",
    "    #print(cm)\n",
    "\n",
    "    plt.imshow(cm, interpolation='nearest', cmap=plt.cm.Blues)\n",
    "    plt.title('confusion matrix')\n",
    "    plt.colorbar()\n",
    "    tick_marks = np.arange(len(classes))\n",
    "    plt.xticks(tick_marks, classes, rotation=45)\n",
    "    plt.yticks(tick_marks, classes)\n",
    "\n",
    "    fmt = '.2f' if normalize else 'd'\n",
    "    thresh = cm.max() / 1.5\n",
    "    for i in range(cm.shape[0]):\n",
    "        for j in range(cm.shape[1]):\n",
    "            \n",
    "    #for i, j in product(range(cm.shape[0]), range(cm.shape[1])):\n",
    "            plt.text(j, i, format(cm[i, j], fmt),\n",
    "                     horizontalalignment=\"center\",\n",
    "                     color=\"white\" if cm[i, j] > thresh else \"black\")\n",
    "\n",
    "    plt.ylabel('True label')\n",
    "    plt.xlabel('Predicted label')\n",
    "    plt.tight_layout()\n",
    "    plt.show()\n",
    "\n"
   ]
  },
  {
   "cell_type": "code",
   "execution_count": 7,
   "metadata": {},
   "outputs": [
    {
     "name": "stderr",
     "output_type": "stream",
     "text": [
      "C:\\Users\\Martins-Lapt\\AppData\\Local\\conda\\conda\\envs\\python36\\lib\\site-packages\\sklearn\\svm\\base.py:931: ConvergenceWarning: Liblinear failed to converge, increase the number of iterations.\n",
      "  \"the number of iterations.\", ConvergenceWarning)\n"
     ]
    },
    {
     "data": {
      "image/png": "[encoded data removed]",
      "text/plain": [
       "<Figure size 432x288 with 2 Axes>"
      ]
     },
     "metadata": {
      "needs_background": "light"
     },
     "output_type": "display_data"
    }
   ],
   "source": [
    "m = LinearSVC()\n",
    "m.fit(X_train_500.reshape(-1,784), y_train_500)\n",
    "plot_confusion_mat(m, X_test.reshape(-1,784), y_test)"
   ]
  },
  {
   "cell_type": "code",
   "execution_count": 90,
   "metadata": {},
   "outputs": [
    {
     "name": "stdout",
     "output_type": "stream",
     "text": [
      "Normalized confusion matrix\n"
     ]
    },
    {
     "data": {
      "image/png": "[encoded data removed]",
      "text/plain": [
       "<Figure size 648x360 with 2 Axes>"
      ]
     },
     "metadata": {
      "needs_background": "light"
     },
     "output_type": "display_data"
    }
   ],
   "source": [
    "plot_confusion_matrix_norm(m, X_test.reshape(-1,784), y_test)"
   ]
  },
  {
   "cell_type": "code",
   "execution_count": null,
   "metadata": {},
   "outputs": [],
   "source": []
  },
  {
   "cell_type": "code",
   "execution_count": 92,
   "metadata": {},
   "outputs": [
    {
     "data": {
      "text/plain": [
       "array([1.e-06, 1.e-05, 1.e-04, 1.e-03, 1.e-02, 1.e-01, 1.e+00, 1.e+01,\n",
       "       1.e+02, 1.e+03, 1.e+04, 1.e+05, 1.e+06, 1.e+07, 1.e+08, 1.e+09,\n",
       "       1.e+10])"
      ]
     },
     "execution_count": 92,
     "metadata": {},
     "output_type": "execute_result"
    }
   ],
   "source": [
    "np.logspace(-6,10,17)"
   ]
  },
  {
   "cell_type": "code",
   "execution_count": 95,
   "metadata": {},
   "outputs": [
    {
     "name": "stdout",
     "output_type": "stream",
     "text": [
      "treffer\n"
     ]
    }
   ],
   "source": [
    "b = np.logspace(-6,10,17)\n",
    "if 10**-6 in b:\n",
    "    print(\"treffer\")"
   ]
  },
  {
   "cell_type": "code",
   "execution_count": 96,
   "metadata": {},
   "outputs": [
    {
     "data": {
      "text/plain": [
       "array([1.562e-02, 3.125e-02, 6.250e-02, 1.250e-01, 2.500e-01, 5.000e-01,\n",
       "       1.000e+00, 2.000e+00, 4.000e+00, 8.000e+00, 1.600e+01, 3.200e+01,\n",
       "       6.400e+01, 1.280e+02, 2.560e+02, 5.120e+02, 1.024e+03])"
      ]
     },
     "execution_count": 96,
     "metadata": {},
     "output_type": "execute_result"
    }
   ],
   "source": [
    "np.logspace(-6,10,17,base=2.0)"
   ]
  },
  {
   "cell_type": "code",
   "execution_count": 98,
   "metadata": {},
   "outputs": [
    {
     "data": {
      "text/plain": [
       "16"
      ]
     },
     "execution_count": 98,
     "metadata": {},
     "output_type": "execute_result"
    }
   ],
   "source": [
    "b.argmax()"
   ]
  },
  {
   "cell_type": "code",
   "execution_count": 105,
   "metadata": {},
   "outputs": [
    {
     "name": "stdout",
     "output_type": "stream",
     "text": [
      "[1.562e-02 3.125e-02 6.250e-02 1.250e-01 2.500e-01 5.000e-01 1.000e+00\n",
      " 2.000e+00 4.000e+00 8.000e+00 1.600e+01 3.200e+01 6.400e+01 1.280e+02\n",
      " 2.560e+02 5.120e+02 1.024e+03]\n"
     ]
    }
   ],
   "source": [
    "c=np.logspace(-6,10,17,base=2.0)\n",
    "print(c)"
   ]
  },
  {
   "cell_type": "code",
   "execution_count": 103,
   "metadata": {},
   "outputs": [
    {
     "data": {
      "text/plain": [
       "10000000000.0"
      ]
     },
     "execution_count": 103,
     "metadata": {},
     "output_type": "execute_result"
    }
   ],
   "source": [
    "b.max()"
   ]
  },
  {
   "cell_type": "code",
   "execution_count": 110,
   "metadata": {},
   "outputs": [
    {
     "data": {
      "text/plain": [
       "array([1.e-04, 1.e-03, 1.e-02, 1.e-01, 1.e+00, 1.e+01, 1.e+02])"
      ]
     },
     "execution_count": 110,
     "metadata": {},
     "output_type": "execute_result"
    }
   ],
   "source": [
    "np.logspace(-4,2,7)"
   ]
  },
  {
   "cell_type": "code",
   "execution_count": 145,
   "metadata": {},
   "outputs": [],
   "source": [
    "'''\n",
    "Tuning der Hyperparameter mit GridSearchCV\n",
    "'''\n",
    "\n",
    "def tuning_hyper_params(X, y, kernel, cv, scoring, c_range, gamma_range):\n",
    "    \n",
    "    param_grid=[]\n",
    "    scores = scoring\n",
    "    if kernel == 'linear':\n",
    "        param_grid = [{'kernel':['linear'],\n",
    "                     'C': c_range}]\n",
    "    elif kernel == 'poly':\n",
    "        param_grid = [{'kernel':['poly'],\n",
    "                      'C': c_range,\n",
    "                      'gamma': gamma_range,\n",
    "                      'degree': [1,2,3]}]\n",
    "        \n",
    "    elif kernel == 'rbf':\n",
    "        param_grid = [{'kernel': ['rbf'],\n",
    "                     'C': c_range,\n",
    "                      'gamma': gamma_range}]\n",
    "    elif kernel == 'sigmoid':\n",
    "        param_grid = [{'kernel': ['sigmoid'],\n",
    "                      'C': c_range,\n",
    "                      'gamma': gamma_range}]\n",
    "    else:\n",
    "        print(\"Fehlerhafte Eingabe\")\n",
    "        \n",
    "    \n",
    "    print(\"Tuning Hyperparameter zu Score\", scoring)\n",
    "    print()\n",
    "    clf = GridSearchCV(SVC(), param_grid, cv=cv, scoring=scoring, n_jobs=-1)\n",
    "    start=time.time()\n",
    "    start2 = time.process_time()\n",
    "    start3 = time.perf_counter()\n",
    "    clf.fit(X,y)\n",
    "    print(\"Zeit für Suche: \", time.time()-start)\n",
    "    print(\"Zeit für Suche: \", time.process_time()-start2)\n",
    "    print(\"Zeit für Suche: \", time.perf_counter()-start3)\n",
    "        \n",
    "    print(\"Besten gefundenen Parameter lauten:\")\n",
    "    print()\n",
    "    print(clf.best_params_)\n",
    "    print()\n",
    "    means = clf.cv_results_['mean_test_score']\n",
    "    stds = clf.cv_results_['std_test_score']\n",
    "    #params = clf.cv_results_['params']\n",
    "    \n",
    "    #for mean, stdev, param in zip(means, stds, params):\n",
    "     #   print(\"%f (%f) mit: %r\" % (mean, stdev, param))\n",
    "        \n",
    "    for mean, std, params in zip(means, stds, clf.cv_results_['params']):\n",
    "        print(\"%0.3f (+/-%0.03f) for %r\"\n",
    "             % (mean, std * 2, params))\n",
    "    print()\n",
    "    print(\"Klassifikationsreport\")\n",
    "    print()\n",
    "    y_true, y_pred = y_test, clf.predict(X_test.reshape(-1,784))\n",
    "    print(classification_report(y_true, y_pred))\n",
    "    print()\n",
    "    return clf                             \n",
    "                "
   ]
  },
  {
   "cell_type": "code",
   "execution_count": 250,
   "metadata": {},
   "outputs": [],
   "source": [
    "'''\n",
    "Tuning des Hyperparameters C von LinearSVC\n",
    "'''\n",
    "\n",
    "def tuning_hyper_param_LinearSVC(X, y, cv, scoring, c_range):\n",
    "    param_grid=[{'C': c_range}]\n",
    "    print(\"Tuning des Hyperparameters C zu Score\", scoring)\n",
    "    print()\n",
    "    clf=GridSearchCV(LinearSVC(), param_grid, cv=cv, scoring=scoring, n_jobs=-1)\n",
    "    start=time.time()\n",
    "    start2 = time.process_time()\n",
    "    start3 = time.perf_counter()\n",
    "    clf.fit(X,y)\n",
    "    print(\"Zeit für Suche: \", time.time()-start)\n",
    "    print(\"Zeit für Suche: \", time.process_time()-start2)\n",
    "    print(\"Zeit für Suche: \", time.perf_counter()-start3)\n",
    "        \n",
    "    print(\"Besten gefundenen Parameter lauten:\")\n",
    "    print()\n",
    "    print(clf.best_params_)\n",
    "    print()\n",
    "    means = clf.cv_results_['mean_test_score']\n",
    "    stds = clf.cv_results_['std_test_score']\n",
    "            \n",
    "    for mean, std, params in zip(means, stds, clf.cv_results_['params']):\n",
    "        print(\"%0.3f (+/-%0.03f) for %r\"\n",
    "             % (mean, std * 2, params))\n",
    "    print()\n",
    "    print(\"Klassifikationsreport\")\n",
    "    print()\n",
    "    y_true, y_pred = y_test, clf.predict(X_test.reshape(-1,784))\n",
    "    print(classification_report(y_true, y_pred))\n",
    "    print()\n",
    "    return clf                             \n",
    "    "
   ]
  },
  {
   "cell_type": "code",
   "execution_count": null,
   "metadata": {},
   "outputs": [],
   "source": [
    "'''\n",
    "TRAININGSMENGE 500\n",
    "\n",
    "'''"
   ]
  },
  {
   "cell_type": "code",
   "execution_count": null,
   "metadata": {},
   "outputs": [],
   "source": []
  },
  {
   "cell_type": "code",
   "execution_count": 193,
   "metadata": {},
   "outputs": [
    {
     "name": "stdout",
     "output_type": "stream",
     "text": [
      "Tuning des Hyperparameers C zu Score accuracy\n",
      "\n",
      "Zeit für Suche:  15.03300952911377\n",
      "Zeit für Suche:  0.9516060999999922\n",
      "Zeit für Suche:  15.033921004026524\n",
      "Besten gefundenen Parameter lauten:\n",
      "\n",
      "{'C': 0.1}\n",
      "\n",
      "0.658 (+/-0.043) for {'C': 0.0001}\n",
      "0.706 (+/-0.047) for {'C': 0.001}\n",
      "0.776 (+/-0.073) for {'C': 0.01}\n",
      "0.778 (+/-0.048) for {'C': 0.1}\n",
      "0.764 (+/-0.037) for {'C': 1.0}\n",
      "0.758 (+/-0.043) for {'C': 10.0}\n",
      "0.760 (+/-0.033) for {'C': 100.0}\n",
      "\n",
      "Klassifikationsreport\n",
      "\n",
      "              precision    recall  f1-score   support\n",
      "\n",
      "           0       0.82      0.69      0.75      1000\n",
      "           1       0.97      0.94      0.95      1000\n",
      "           2       0.60      0.69      0.64      1000\n",
      "           3       0.78      0.82      0.80      1000\n",
      "           4       0.60      0.71      0.65      1000\n",
      "           5       0.88      0.80      0.84      1000\n",
      "           6       0.55      0.42      0.48      1000\n",
      "           7       0.83      0.86      0.85      1000\n",
      "           8       0.89      0.90      0.89      1000\n",
      "           9       0.84      0.90      0.87      1000\n",
      "\n",
      "   micro avg       0.77      0.77      0.77     10000\n",
      "   macro avg       0.78      0.77      0.77     10000\n",
      "weighted avg       0.78      0.77      0.77     10000\n",
      "\n",
      "\n"
     ]
    }
   ],
   "source": [
    "gs_linearSVC_cv5_500= tuning_hyper_param_LinearSVC(X_train_500.reshape(-1,784),y_train_500,\n",
    "                                                   5, 'accuracy', np.logspace(-4,2,7))"
   ]
  },
  {
   "cell_type": "code",
   "execution_count": 194,
   "metadata": {},
   "outputs": [
    {
     "data": {
      "text/plain": [
       "0.7745"
      ]
     },
     "execution_count": 194,
     "metadata": {},
     "output_type": "execute_result"
    }
   ],
   "source": [
    "gs_linearSVC_cv5_500.score(X_test.reshape(-1,784), y_test)"
   ]
  },
  {
   "cell_type": "code",
   "execution_count": 195,
   "metadata": {},
   "outputs": [
    {
     "name": "stdout",
     "output_type": "stream",
     "text": [
      "Tuning des Hyperparameers C zu Score accuracy\n",
      "\n",
      "Zeit für Suche:  26.710525274276733\n",
      "Zeit für Suche:  1.0920069999999669\n",
      "Zeit für Suche:  26.71311504638561\n",
      "Besten gefundenen Parameter lauten:\n",
      "\n",
      "{'C': 0.1}\n",
      "\n",
      "0.662 (+/-0.052) for {'C': 0.0001}\n",
      "0.704 (+/-0.056) for {'C': 0.001}\n",
      "0.772 (+/-0.097) for {'C': 0.01}\n",
      "0.780 (+/-0.101) for {'C': 0.1}\n",
      "0.764 (+/-0.094) for {'C': 1.0}\n",
      "0.762 (+/-0.090) for {'C': 10.0}\n",
      "0.764 (+/-0.089) for {'C': 100.0}\n",
      "\n",
      "Klassifikationsreport\n",
      "\n",
      "              precision    recall  f1-score   support\n",
      "\n",
      "           0       0.82      0.69      0.75      1000\n",
      "           1       0.97      0.94      0.95      1000\n",
      "           2       0.60      0.69      0.64      1000\n",
      "           3       0.78      0.82      0.80      1000\n",
      "           4       0.60      0.71      0.65      1000\n",
      "           5       0.88      0.80      0.84      1000\n",
      "           6       0.55      0.42      0.48      1000\n",
      "           7       0.83      0.86      0.85      1000\n",
      "           8       0.89      0.90      0.89      1000\n",
      "           9       0.84      0.90      0.87      1000\n",
      "\n",
      "   micro avg       0.77      0.77      0.77     10000\n",
      "   macro avg       0.78      0.77      0.77     10000\n",
      "weighted avg       0.78      0.77      0.77     10000\n",
      "\n",
      "\n"
     ]
    }
   ],
   "source": [
    "gs_linearSVC_cv10_500= tuning_hyper_param_LinearSVC(X_train_500.reshape(-1,784),y_train_500,\n",
    "                                                   10, 'accuracy', np.logspace(-4,2,7))"
   ]
  },
  {
   "cell_type": "code",
   "execution_count": 196,
   "metadata": {},
   "outputs": [
    {
     "data": {
      "text/plain": [
       "0.7745"
      ]
     },
     "execution_count": 196,
     "metadata": {},
     "output_type": "execute_result"
    }
   ],
   "source": [
    "gs_linearSVC_cv10_500.score(X_test.reshape(-1,784), y_test)"
   ]
  },
  {
   "cell_type": "code",
   "execution_count": 199,
   "metadata": {},
   "outputs": [
    {
     "name": "stdout",
     "output_type": "stream",
     "text": [
      "Tuning des Hyperparameers C zu Score accuracy\n",
      "\n",
      "Zeit für Suche:  18.827457904815674\n",
      "Zeit für Suche:  0.4836030999999821\n",
      "Zeit für Suche:  18.835234875124115\n",
      "Besten gefundenen Parameter lauten:\n",
      "\n",
      "{'C': 0.03162277660168379}\n",
      "\n",
      "0.772 (+/-0.097) for {'C': 0.01}\n",
      "0.788 (+/-0.115) for {'C': 0.03162277660168379}\n",
      "0.780 (+/-0.101) for {'C': 0.1}\n",
      "0.770 (+/-0.092) for {'C': 0.31622776601683794}\n",
      "0.766 (+/-0.091) for {'C': 1.0}\n",
      "\n",
      "Klassifikationsreport\n",
      "\n",
      "              precision    recall  f1-score   support\n",
      "\n",
      "           0       0.81      0.72      0.76      1000\n",
      "           1       0.97      0.94      0.95      1000\n",
      "           2       0.61      0.68      0.65      1000\n",
      "           3       0.78      0.84      0.81      1000\n",
      "           4       0.60      0.73      0.65      1000\n",
      "           5       0.90      0.80      0.85      1000\n",
      "           6       0.57      0.38      0.46      1000\n",
      "           7       0.83      0.86      0.85      1000\n",
      "           8       0.88      0.92      0.90      1000\n",
      "           9       0.84      0.91      0.87      1000\n",
      "\n",
      "   micro avg       0.78      0.78      0.78     10000\n",
      "   macro avg       0.78      0.78      0.77     10000\n",
      "weighted avg       0.78      0.78      0.77     10000\n",
      "\n",
      "\n"
     ]
    }
   ],
   "source": [
    "#Finetuning\n",
    "gs_linearSVC_cv10_500B= tuning_hyper_param_LinearSVC(X_train_500.reshape(-1,784),y_train_500,\n",
    "                                                   10, 'accuracy', np.logspace(-2,0,5))"
   ]
  },
  {
   "cell_type": "code",
   "execution_count": 200,
   "metadata": {},
   "outputs": [
    {
     "data": {
      "text/plain": [
       "0.7785"
      ]
     },
     "execution_count": 200,
     "metadata": {},
     "output_type": "execute_result"
    }
   ],
   "source": [
    "gs_linearSVC_cv10_500B.score(X_test.reshape(-1,784), y_test)"
   ]
  },
  {
   "cell_type": "code",
   "execution_count": 202,
   "metadata": {},
   "outputs": [
    {
     "name": "stdout",
     "output_type": "stream",
     "text": [
      "Tuning des Hyperparameers C zu Score accuracy\n",
      "\n",
      "Zeit für Suche:  12.398997068405151\n",
      "Zeit für Suche:  0.5460034999999834\n",
      "Zeit für Suche:  12.40080321838468\n",
      "Besten gefundenen Parameter lauten:\n",
      "\n",
      "{'C': 0.01778279410038923}\n",
      "\n",
      "0.772 (+/-0.097) for {'C': 0.01}\n",
      "0.790 (+/-0.098) for {'C': 0.01778279410038923}\n",
      "0.788 (+/-0.115) for {'C': 0.03162277660168379}\n",
      "0.780 (+/-0.129) for {'C': 0.05623413251903491}\n",
      "0.780 (+/-0.101) for {'C': 0.1}\n",
      "\n",
      "Klassifikationsreport\n",
      "\n",
      "              precision    recall  f1-score   support\n",
      "\n",
      "           0       0.80      0.73      0.76      1000\n",
      "           1       0.97      0.94      0.95      1000\n",
      "           2       0.62      0.67      0.64      1000\n",
      "           3       0.77      0.83      0.80      1000\n",
      "           4       0.58      0.74      0.65      1000\n",
      "           5       0.92      0.78      0.85      1000\n",
      "           6       0.57      0.35      0.43      1000\n",
      "           7       0.83      0.86      0.85      1000\n",
      "           8       0.87      0.94      0.90      1000\n",
      "           9       0.83      0.93      0.87      1000\n",
      "\n",
      "   micro avg       0.78      0.78      0.78     10000\n",
      "   macro avg       0.78      0.78      0.77     10000\n",
      "weighted avg       0.78      0.78      0.77     10000\n",
      "\n",
      "\n"
     ]
    }
   ],
   "source": [
    "#Finetuning\n",
    "gs_linearSVC_cv10_500C= tuning_hyper_param_LinearSVC(X_train_500.reshape(-1,784),y_train_500,\n",
    "                                                   10, 'accuracy', np.logspace(-2,-1,5))"
   ]
  },
  {
   "cell_type": "code",
   "execution_count": null,
   "metadata": {},
   "outputs": [],
   "source": []
  },
  {
   "cell_type": "code",
   "execution_count": 208,
   "metadata": {},
   "outputs": [
    {
     "name": "stdout",
     "output_type": "stream",
     "text": [
      "Tuning des Hyperparameers C zu Score accuracy\n",
      "\n",
      "Zeit für Suche:  11.218955278396606\n",
      "Zeit für Suche:  0.5616036000000122\n",
      "Zeit für Suche:  11.227885155411968\n",
      "Besten gefundenen Parameter lauten:\n",
      "\n",
      "{'C': 0.01778279410038923}\n",
      "\n",
      "0.772 (+/-0.097) for {'C': 0.01}\n",
      "0.778 (+/-0.097) for {'C': 0.01333521432163324}\n",
      "0.790 (+/-0.098) for {'C': 0.01778279410038923}\n",
      "0.790 (+/-0.092) for {'C': 0.023713737056616554}\n",
      "0.788 (+/-0.115) for {'C': 0.03162277660168379}\n",
      "\n",
      "Klassifikationsreport\n",
      "\n",
      "              precision    recall  f1-score   support\n",
      "\n",
      "           0       0.80      0.73      0.76      1000\n",
      "           1       0.97      0.94      0.95      1000\n",
      "           2       0.62      0.67      0.64      1000\n",
      "           3       0.77      0.83      0.80      1000\n",
      "           4       0.58      0.74      0.65      1000\n",
      "           5       0.92      0.78      0.85      1000\n",
      "           6       0.57      0.35      0.43      1000\n",
      "           7       0.83      0.86      0.85      1000\n",
      "           8       0.87      0.94      0.90      1000\n",
      "           9       0.83      0.93      0.87      1000\n",
      "\n",
      "   micro avg       0.78      0.78      0.78     10000\n",
      "   macro avg       0.78      0.78      0.77     10000\n",
      "weighted avg       0.78      0.78      0.77     10000\n",
      "\n",
      "\n"
     ]
    }
   ],
   "source": [
    "#Finetuning\n",
    "gs_linearSVC_cv10_500D= tuning_hyper_param_LinearSVC(X_train_500.reshape(-1,784),y_train_500,\n",
    "                                                   10, 'accuracy', np.logspace(-2,-1.5,5))"
   ]
  },
  {
   "cell_type": "code",
   "execution_count": 227,
   "metadata": {},
   "outputs": [
    {
     "name": "stdout",
     "output_type": "stream",
     "text": [
      "Tuning des Hyperparameers C zu Score accuracy\n",
      "\n",
      "Zeit für Suche:  13.696622848510742\n",
      "Zeit für Suche:  0.46800300000001016\n",
      "Zeit für Suche:  13.69758637373343\n",
      "Besten gefundenen Parameter lauten:\n",
      "\n",
      "{'C': 0.01778279410038923}\n",
      "\n",
      "0.772 (+/-0.097) for {'C': 0.01}\n",
      "0.780 (+/-0.091) for {'C': 0.012115276586285882}\n",
      "0.782 (+/-0.097) for {'C': 0.014677992676220698}\n",
      "0.790 (+/-0.098) for {'C': 0.01778279410038923}\n",
      "0.790 (+/-0.092) for {'C': 0.021544346900318832}\n",
      "0.788 (+/-0.098) for {'C': 0.026101572156825358}\n",
      "0.788 (+/-0.115) for {'C': 0.03162277660168379}\n",
      "\n",
      "Klassifikationsreport\n",
      "\n",
      "              precision    recall  f1-score   support\n",
      "\n",
      "           0       0.80      0.73      0.76      1000\n",
      "           1       0.97      0.94      0.95      1000\n",
      "           2       0.62      0.67      0.64      1000\n",
      "           3       0.77      0.83      0.80      1000\n",
      "           4       0.58      0.74      0.65      1000\n",
      "           5       0.92      0.78      0.85      1000\n",
      "           6       0.57      0.35      0.43      1000\n",
      "           7       0.83      0.86      0.85      1000\n",
      "           8       0.87      0.94      0.90      1000\n",
      "           9       0.83      0.93      0.87      1000\n",
      "\n",
      "   micro avg       0.78      0.78      0.78     10000\n",
      "   macro avg       0.78      0.78      0.77     10000\n",
      "weighted avg       0.78      0.78      0.77     10000\n",
      "\n",
      "\n"
     ]
    }
   ],
   "source": [
    "#Finetuning\n",
    "gs_linearSVC_cv10_500E= tuning_hyper_param_LinearSVC(X_train_500.reshape(-1,784),y_train_500,\n",
    "                                                   10, 'accuracy', np.logspace(-2,-1.5,7))"
   ]
  },
  {
   "cell_type": "code",
   "execution_count": 228,
   "metadata": {},
   "outputs": [
    {
     "data": {
      "text/plain": [
       "0.7766"
      ]
     },
     "execution_count": 228,
     "metadata": {},
     "output_type": "execute_result"
    }
   ],
   "source": [
    "gs_linearSVC_cv10_500C.score(X_test.reshape(-1,784), y_test)"
   ]
  },
  {
   "cell_type": "code",
   "execution_count": null,
   "metadata": {},
   "outputs": [],
   "source": []
  },
  {
   "cell_type": "code",
   "execution_count": null,
   "metadata": {},
   "outputs": [],
   "source": []
  },
  {
   "cell_type": "code",
   "execution_count": null,
   "metadata": {},
   "outputs": [],
   "source": []
  },
  {
   "cell_type": "code",
   "execution_count": null,
   "metadata": {},
   "outputs": [],
   "source": []
  },
  {
   "cell_type": "code",
   "execution_count": 146,
   "metadata": {},
   "outputs": [
    {
     "name": "stdout",
     "output_type": "stream",
     "text": [
      "Tuning Hyperparameter zu Score accuracy\n",
      "\n",
      "Zeit für Suche:  8.167435646057129\n",
      "Zeit für Suche:  0.5148032999999828\n",
      "Zeit für Suche:  8.165180876092359\n",
      "Besten gefundenen Parameter lauten:\n",
      "\n",
      "{'C': 0.1, 'kernel': 'linear'}\n",
      "\n",
      "0.624 (+/-0.078) for {'C': 0.0001, 'kernel': 'linear'}\n",
      "0.662 (+/-0.056) for {'C': 0.001, 'kernel': 'linear'}\n",
      "0.760 (+/-0.047) for {'C': 0.01, 'kernel': 'linear'}\n",
      "0.798 (+/-0.070) for {'C': 0.1, 'kernel': 'linear'}\n",
      "0.762 (+/-0.043) for {'C': 1.0, 'kernel': 'linear'}\n",
      "0.762 (+/-0.043) for {'C': 10.0, 'kernel': 'linear'}\n",
      "0.762 (+/-0.043) for {'C': 100.0, 'kernel': 'linear'}\n",
      "\n",
      "Klassifikationsreport\n",
      "\n",
      "              precision    recall  f1-score   support\n",
      "\n",
      "           0       0.78      0.73      0.76      1000\n",
      "           1       0.99      0.93      0.96      1000\n",
      "           2       0.60      0.69      0.64      1000\n",
      "           3       0.78      0.81      0.79      1000\n",
      "           4       0.61      0.70      0.65      1000\n",
      "           5       0.87      0.88      0.87      1000\n",
      "           6       0.56      0.43      0.49      1000\n",
      "           7       0.86      0.88      0.87      1000\n",
      "           8       0.94      0.91      0.92      1000\n",
      "           9       0.90      0.90      0.90      1000\n",
      "\n",
      "   micro avg       0.79      0.79      0.79     10000\n",
      "   macro avg       0.79      0.79      0.79     10000\n",
      "weighted avg       0.79      0.79      0.79     10000\n",
      "\n",
      "\n"
     ]
    }
   ],
   "source": [
    "gs_lin_svc_cv5_500 = tuning_hyper_params(X_train_500.reshape(-1,784), y_train_500, 'linear', 5, 'accuracy', np.logspace(-4,2,7), np.logspace(-4,2,7))"
   ]
  },
  {
   "cell_type": "code",
   "execution_count": 147,
   "metadata": {},
   "outputs": [
    {
     "name": "stdout",
     "output_type": "stream",
     "text": [
      "0.7867\n"
     ]
    }
   ],
   "source": [
    "print(gs_lin_svc_cv5_500.score(X_test.reshape(-1,784), y_test))"
   ]
  },
  {
   "cell_type": "code",
   "execution_count": 127,
   "metadata": {},
   "outputs": [
    {
     "data": {
      "text/plain": [
       "0.7867"
      ]
     },
     "execution_count": 127,
     "metadata": {},
     "output_type": "execute_result"
    }
   ],
   "source": [
    "svc_lin_500 = SVC(kernel='linear', C=0.1)\n",
    "svc_lin_500.fit(X_train_500.reshape(-1,784), y_train_500)\n",
    "svc_lin_500.score(X_test.reshape(-1,784), y_test)"
   ]
  },
  {
   "cell_type": "code",
   "execution_count": 148,
   "metadata": {},
   "outputs": [
    {
     "data": {
      "text/plain": [
       "0.978"
      ]
     },
     "execution_count": 148,
     "metadata": {},
     "output_type": "execute_result"
    }
   ],
   "source": [
    "svc_lin_500.score(X_train_500.reshape(-1,784), y_train_500)"
   ]
  },
  {
   "cell_type": "code",
   "execution_count": 128,
   "metadata": {
    "scrolled": true
   },
   "outputs": [
    {
     "name": "stdout",
     "output_type": "stream",
     "text": [
      "Tuning Hyperparameter zu Score accuracy\n",
      "\n",
      "Besten gefundenen Parameter lauten:\n",
      "\n",
      "{'C': 0.1, 'kernel': 'linear'}\n",
      "\n",
      "0.624 (+/-0.110) for {'C': 0.0001, 'kernel': 'linear'}\n",
      "0.668 (+/-0.074) for {'C': 0.001, 'kernel': 'linear'}\n",
      "0.764 (+/-0.114) for {'C': 0.01, 'kernel': 'linear'}\n",
      "0.804 (+/-0.087) for {'C': 0.1, 'kernel': 'linear'}\n",
      "0.774 (+/-0.080) for {'C': 1.0, 'kernel': 'linear'}\n",
      "0.774 (+/-0.080) for {'C': 10.0, 'kernel': 'linear'}\n",
      "0.774 (+/-0.080) for {'C': 100.0, 'kernel': 'linear'}\n",
      "\n",
      "Klassifikationsreport\n",
      "\n",
      "              precision    recall  f1-score   support\n",
      "\n",
      "           0       0.78      0.73      0.76      1000\n",
      "           1       0.99      0.93      0.96      1000\n",
      "           2       0.60      0.69      0.64      1000\n",
      "           3       0.78      0.81      0.79      1000\n",
      "           4       0.61      0.70      0.65      1000\n",
      "           5       0.87      0.88      0.87      1000\n",
      "           6       0.56      0.43      0.49      1000\n",
      "           7       0.86      0.88      0.87      1000\n",
      "           8       0.94      0.91      0.92      1000\n",
      "           9       0.90      0.90      0.90      1000\n",
      "\n",
      "   micro avg       0.79      0.79      0.79     10000\n",
      "   macro avg       0.79      0.79      0.79     10000\n",
      "weighted avg       0.79      0.79      0.79     10000\n",
      "\n",
      "\n"
     ]
    }
   ],
   "source": [
    "gs_lin_svc_cv10_500 = tuning_hyper_params(X_train_500.reshape(-1,784), y_train_500, 'linear', 10, 'accuracy', np.logspace(-4,2,7), np.logspace(-4,2,7))"
   ]
  },
  {
   "cell_type": "code",
   "execution_count": 138,
   "metadata": {},
   "outputs": [
    {
     "name": "stdout",
     "output_type": "stream",
     "text": [
      "Tuning Hyperparameter zu Score accuracy\n",
      "\n",
      "Besten gefundenen Parameter lauten:\n",
      "\n",
      "{'C': 0.1, 'kernel': 'linear'}\n",
      "\n",
      "0.764 (+/-0.114) for {'C': 0.01, 'kernel': 'linear'}\n",
      "0.776 (+/-0.114) for {'C': 0.03162277660168379, 'kernel': 'linear'}\n",
      "0.804 (+/-0.087) for {'C': 0.1, 'kernel': 'linear'}\n",
      "0.776 (+/-0.089) for {'C': 0.31622776601683794, 'kernel': 'linear'}\n",
      "0.774 (+/-0.080) for {'C': 1.0, 'kernel': 'linear'}\n",
      "\n",
      "Klassifikationsreport\n",
      "\n",
      "              precision    recall  f1-score   support\n",
      "\n",
      "           0       0.78      0.73      0.76      1000\n",
      "           1       0.99      0.93      0.96      1000\n",
      "           2       0.60      0.69      0.64      1000\n",
      "           3       0.78      0.81      0.79      1000\n",
      "           4       0.61      0.70      0.65      1000\n",
      "           5       0.87      0.88      0.87      1000\n",
      "           6       0.56      0.43      0.49      1000\n",
      "           7       0.86      0.88      0.87      1000\n",
      "           8       0.94      0.91      0.92      1000\n",
      "           9       0.90      0.90      0.90      1000\n",
      "\n",
      "   micro avg       0.79      0.79      0.79     10000\n",
      "   macro avg       0.79      0.79      0.79     10000\n",
      "weighted avg       0.79      0.79      0.79     10000\n",
      "\n",
      "\n"
     ]
    }
   ],
   "source": [
    "# Finetuning mit Parametern in engerer Nachbarschaft\n",
    "lin_svc_cv5_500_B = tuning_hyper_params(X_train_500.reshape(-1,784), y_train_500, 'linear', 10, 'accuracy', np.logspace(-2,0,5), np.logspace(-2,0,5))"
   ]
  },
  {
   "cell_type": "code",
   "execution_count": 300,
   "metadata": {},
   "outputs": [
    {
     "name": "stdout",
     "output_type": "stream",
     "text": [
      "Tuning Hyperparameter zu Score accuracy\n",
      "\n",
      "Zeit für Suche:  12.214698553085327\n",
      "Zeit für Suche:  0.6396041000000423\n",
      "Zeit für Suche:  12.215722608842043\n",
      "Besten gefundenen Parameter lauten:\n",
      "\n",
      "{'C': 0.1, 'kernel': 'linear'}\n",
      "\n",
      "0.776 (+/-0.114) for {'C': 0.03162277660168379, 'kernel': 'linear'}\n",
      "0.792 (+/-0.097) for {'C': 0.05623413251903491, 'kernel': 'linear'}\n",
      "0.804 (+/-0.087) for {'C': 0.1, 'kernel': 'linear'}\n",
      "0.788 (+/-0.080) for {'C': 0.1778279410038923, 'kernel': 'linear'}\n",
      "0.776 (+/-0.089) for {'C': 0.31622776601683794, 'kernel': 'linear'}\n",
      "\n",
      "Klassifikationsreport\n",
      "\n",
      "              precision    recall  f1-score   support\n",
      "\n",
      "           0       0.78      0.73      0.76      1000\n",
      "           1       0.99      0.93      0.96      1000\n",
      "           2       0.60      0.69      0.64      1000\n",
      "           3       0.78      0.81      0.79      1000\n",
      "           4       0.61      0.70      0.65      1000\n",
      "           5       0.87      0.88      0.87      1000\n",
      "           6       0.56      0.43      0.49      1000\n",
      "           7       0.86      0.88      0.87      1000\n",
      "           8       0.94      0.91      0.92      1000\n",
      "           9       0.90      0.90      0.90      1000\n",
      "\n",
      "   micro avg       0.79      0.79      0.79     10000\n",
      "   macro avg       0.79      0.79      0.79     10000\n",
      "weighted avg       0.79      0.79      0.79     10000\n",
      "\n",
      "\n"
     ]
    }
   ],
   "source": [
    "# Finetuning mit Parametern in engerer Nachbarschaft\n",
    "lin_svc_cv5_500_C = tuning_hyper_params(X_train_500.reshape(-1,784), y_train_500, 'linear', 10, 'accuracy', np.logspace(-1.5,-0.5,5), np.logspace(-1.5,-0.5,5))"
   ]
  },
  {
   "cell_type": "code",
   "execution_count": 302,
   "metadata": {},
   "outputs": [
    {
     "name": "stdout",
     "output_type": "stream",
     "text": [
      "Tuning Hyperparameter zu Score accuracy\n",
      "\n",
      "Zeit für Suche:  11.572662115097046\n",
      "Zeit für Suche:  0.7800049999999601\n",
      "Zeit für Suche:  11.573882962384232\n",
      "Besten gefundenen Parameter lauten:\n",
      "\n",
      "{'C': 0.1, 'kernel': 'linear'}\n",
      "\n",
      "0.792 (+/-0.097) for {'C': 0.05623413251903491, 'kernel': 'linear'}\n",
      "0.800 (+/-0.084) for {'C': 0.07498942093324558, 'kernel': 'linear'}\n",
      "0.804 (+/-0.087) for {'C': 0.1, 'kernel': 'linear'}\n",
      "0.792 (+/-0.084) for {'C': 0.1333521432163324, 'kernel': 'linear'}\n",
      "0.788 (+/-0.080) for {'C': 0.1778279410038923, 'kernel': 'linear'}\n",
      "\n",
      "Klassifikationsreport\n",
      "\n",
      "              precision    recall  f1-score   support\n",
      "\n",
      "           0       0.78      0.73      0.76      1000\n",
      "           1       0.99      0.93      0.96      1000\n",
      "           2       0.60      0.69      0.64      1000\n",
      "           3       0.78      0.81      0.79      1000\n",
      "           4       0.61      0.70      0.65      1000\n",
      "           5       0.87      0.88      0.87      1000\n",
      "           6       0.56      0.43      0.49      1000\n",
      "           7       0.86      0.88      0.87      1000\n",
      "           8       0.94      0.91      0.92      1000\n",
      "           9       0.90      0.90      0.90      1000\n",
      "\n",
      "   micro avg       0.79      0.79      0.79     10000\n",
      "   macro avg       0.79      0.79      0.79     10000\n",
      "weighted avg       0.79      0.79      0.79     10000\n",
      "\n",
      "\n"
     ]
    }
   ],
   "source": [
    "# Finetuning mit Parametern in engerer Nachbarschaft\n",
    "lin_svc_cv5_500_D = tuning_hyper_params(X_train_500.reshape(-1,784), y_train_500, 'linear', 10, 'accuracy', np.logspace(-1.25,-0.75,5), np.logspace(-1.25,-0.75,5))"
   ]
  },
  {
   "cell_type": "code",
   "execution_count": 308,
   "metadata": {},
   "outputs": [
    {
     "name": "stdout",
     "output_type": "stream",
     "text": [
      "Tuning Hyperparameter zu Score accuracy\n",
      "\n",
      "Zeit für Suche:  21.651238441467285\n",
      "Zeit für Suche:  0.8580054999999902\n",
      "Zeit für Suche:  21.652651204178255\n",
      "Besten gefundenen Parameter lauten:\n",
      "\n",
      "{'C': 0.1, 'kernel': 'linear'}\n",
      "\n",
      "0.792 (+/-0.097) for {'C': 0.05623413251903491, 'kernel': 'linear'}\n",
      "0.792 (+/-0.093) for {'C': 0.06309573444801933, 'kernel': 'linear'}\n",
      "0.796 (+/-0.085) for {'C': 0.0707945784384138, 'kernel': 'linear'}\n",
      "0.800 (+/-0.084) for {'C': 0.07943282347242814, 'kernel': 'linear'}\n",
      "0.800 (+/-0.088) for {'C': 0.08912509381337455, 'kernel': 'linear'}\n",
      "0.804 (+/-0.087) for {'C': 0.1, 'kernel': 'linear'}\n",
      "0.796 (+/-0.098) for {'C': 0.11220184543019636, 'kernel': 'linear'}\n",
      "0.794 (+/-0.098) for {'C': 0.12589254117941676, 'kernel': 'linear'}\n",
      "0.790 (+/-0.080) for {'C': 0.14125375446227545, 'kernel': 'linear'}\n",
      "0.788 (+/-0.084) for {'C': 0.15848931924611134, 'kernel': 'linear'}\n",
      "0.788 (+/-0.080) for {'C': 0.1778279410038923, 'kernel': 'linear'}\n",
      "\n",
      "Klassifikationsreport\n",
      "\n",
      "              precision    recall  f1-score   support\n",
      "\n",
      "           0       0.78      0.73      0.76      1000\n",
      "           1       0.99      0.93      0.96      1000\n",
      "           2       0.60      0.69      0.64      1000\n",
      "           3       0.78      0.81      0.79      1000\n",
      "           4       0.61      0.70      0.65      1000\n",
      "           5       0.87      0.88      0.87      1000\n",
      "           6       0.56      0.43      0.49      1000\n",
      "           7       0.86      0.88      0.87      1000\n",
      "           8       0.94      0.91      0.92      1000\n",
      "           9       0.90      0.90      0.90      1000\n",
      "\n",
      "   micro avg       0.79      0.79      0.79     10000\n",
      "   macro avg       0.79      0.79      0.79     10000\n",
      "weighted avg       0.79      0.79      0.79     10000\n",
      "\n",
      "\n"
     ]
    }
   ],
   "source": [
    "# Finetuning mit Parametern in engerer Nachbarschaft\n",
    "lin_svc_cv5_500_E = tuning_hyper_params(X_train_500.reshape(-1,784), y_train_500, 'linear', 10, 'accuracy', np.logspace(-1.25,-0.75,11), np.logspace(-1.25,-0.75,11))"
   ]
  },
  {
   "cell_type": "code",
   "execution_count": null,
   "metadata": {},
   "outputs": [],
   "source": []
  },
  {
   "cell_type": "code",
   "execution_count": 150,
   "metadata": {},
   "outputs": [
    {
     "name": "stdout",
     "output_type": "stream",
     "text": [
      "Tuning Hyperparameter zu Score accuracy\n",
      "\n",
      "Zeit für Suche:  86.12806272506714\n",
      "Zeit für Suche:  1.357208700000001\n",
      "Zeit für Suche:  86.13413649768904\n",
      "Besten gefundenen Parameter lauten:\n",
      "\n",
      "{'C': 10.0, 'gamma': 0.01, 'kernel': 'rbf'}\n",
      "\n",
      "0.628 (+/-0.077) for {'C': 0.0001, 'gamma': 0.0001, 'kernel': 'rbf'}\n",
      "0.640 (+/-0.061) for {'C': 0.0001, 'gamma': 0.001, 'kernel': 'rbf'}\n",
      "0.690 (+/-0.033) for {'C': 0.0001, 'gamma': 0.01, 'kernel': 'rbf'}\n",
      "0.454 (+/-0.098) for {'C': 0.0001, 'gamma': 0.1, 'kernel': 'rbf'}\n",
      "0.148 (+/-0.050) for {'C': 0.0001, 'gamma': 1.0, 'kernel': 'rbf'}\n",
      "0.708 (+/-0.069) for {'C': 0.0001, 'gamma': 10.0, 'kernel': 'rbf'}\n",
      "0.108 (+/-0.008) for {'C': 0.0001, 'gamma': 100.0, 'kernel': 'rbf'}\n",
      "0.628 (+/-0.077) for {'C': 0.001, 'gamma': 0.0001, 'kernel': 'rbf'}\n",
      "0.640 (+/-0.061) for {'C': 0.001, 'gamma': 0.001, 'kernel': 'rbf'}\n",
      "0.690 (+/-0.033) for {'C': 0.001, 'gamma': 0.01, 'kernel': 'rbf'}\n",
      "0.454 (+/-0.098) for {'C': 0.001, 'gamma': 0.1, 'kernel': 'rbf'}\n",
      "0.148 (+/-0.050) for {'C': 0.001, 'gamma': 1.0, 'kernel': 'rbf'}\n",
      "0.708 (+/-0.069) for {'C': 0.001, 'gamma': 10.0, 'kernel': 'rbf'}\n",
      "0.108 (+/-0.008) for {'C': 0.001, 'gamma': 100.0, 'kernel': 'rbf'}\n",
      "0.628 (+/-0.077) for {'C': 0.01, 'gamma': 0.0001, 'kernel': 'rbf'}\n",
      "0.640 (+/-0.061) for {'C': 0.01, 'gamma': 0.001, 'kernel': 'rbf'}\n",
      "0.690 (+/-0.033) for {'C': 0.01, 'gamma': 0.01, 'kernel': 'rbf'}\n",
      "0.454 (+/-0.098) for {'C': 0.01, 'gamma': 0.1, 'kernel': 'rbf'}\n",
      "0.148 (+/-0.050) for {'C': 0.01, 'gamma': 1.0, 'kernel': 'rbf'}\n",
      "0.708 (+/-0.069) for {'C': 0.01, 'gamma': 10.0, 'kernel': 'rbf'}\n",
      "0.108 (+/-0.008) for {'C': 0.01, 'gamma': 100.0, 'kernel': 'rbf'}\n",
      "0.628 (+/-0.077) for {'C': 0.1, 'gamma': 0.0001, 'kernel': 'rbf'}\n",
      "0.640 (+/-0.061) for {'C': 0.1, 'gamma': 0.001, 'kernel': 'rbf'}\n",
      "0.694 (+/-0.041) for {'C': 0.1, 'gamma': 0.01, 'kernel': 'rbf'}\n",
      "0.454 (+/-0.098) for {'C': 0.1, 'gamma': 0.1, 'kernel': 'rbf'}\n",
      "0.148 (+/-0.050) for {'C': 0.1, 'gamma': 1.0, 'kernel': 'rbf'}\n",
      "0.708 (+/-0.069) for {'C': 0.1, 'gamma': 10.0, 'kernel': 'rbf'}\n",
      "0.108 (+/-0.008) for {'C': 0.1, 'gamma': 100.0, 'kernel': 'rbf'}\n",
      "0.628 (+/-0.077) for {'C': 1.0, 'gamma': 0.0001, 'kernel': 'rbf'}\n",
      "0.698 (+/-0.056) for {'C': 1.0, 'gamma': 0.001, 'kernel': 'rbf'}\n",
      "0.760 (+/-0.046) for {'C': 1.0, 'gamma': 0.01, 'kernel': 'rbf'}\n",
      "0.668 (+/-0.053) for {'C': 1.0, 'gamma': 0.1, 'kernel': 'rbf'}\n",
      "0.196 (+/-0.032) for {'C': 1.0, 'gamma': 1.0, 'kernel': 'rbf'}\n",
      "0.498 (+/-0.089) for {'C': 1.0, 'gamma': 10.0, 'kernel': 'rbf'}\n",
      "0.108 (+/-0.008) for {'C': 1.0, 'gamma': 100.0, 'kernel': 'rbf'}\n",
      "0.704 (+/-0.055) for {'C': 10.0, 'gamma': 0.0001, 'kernel': 'rbf'}\n",
      "0.768 (+/-0.043) for {'C': 10.0, 'gamma': 0.001, 'kernel': 'rbf'}\n",
      "0.788 (+/-0.070) for {'C': 10.0, 'gamma': 0.01, 'kernel': 'rbf'}\n",
      "0.680 (+/-0.061) for {'C': 10.0, 'gamma': 0.1, 'kernel': 'rbf'}\n",
      "0.202 (+/-0.039) for {'C': 10.0, 'gamma': 1.0, 'kernel': 'rbf'}\n",
      "0.486 (+/-0.068) for {'C': 10.0, 'gamma': 10.0, 'kernel': 'rbf'}\n",
      "0.108 (+/-0.008) for {'C': 10.0, 'gamma': 100.0, 'kernel': 'rbf'}\n",
      "0.770 (+/-0.046) for {'C': 100.0, 'gamma': 0.0001, 'kernel': 'rbf'}\n",
      "0.780 (+/-0.080) for {'C': 100.0, 'gamma': 0.001, 'kernel': 'rbf'}\n",
      "0.786 (+/-0.072) for {'C': 100.0, 'gamma': 0.01, 'kernel': 'rbf'}\n",
      "0.680 (+/-0.061) for {'C': 100.0, 'gamma': 0.1, 'kernel': 'rbf'}\n",
      "0.202 (+/-0.039) for {'C': 100.0, 'gamma': 1.0, 'kernel': 'rbf'}\n",
      "0.486 (+/-0.068) for {'C': 100.0, 'gamma': 10.0, 'kernel': 'rbf'}\n",
      "0.108 (+/-0.008) for {'C': 100.0, 'gamma': 100.0, 'kernel': 'rbf'}\n",
      "\n",
      "Klassifikationsreport\n",
      "\n",
      "              precision    recall  f1-score   support\n",
      "\n",
      "           0       0.81      0.70      0.75      1000\n",
      "           1       0.99      0.93      0.96      1000\n",
      "           2       0.63      0.71      0.67      1000\n",
      "           3       0.76      0.81      0.78      1000\n",
      "           4       0.64      0.70      0.67      1000\n",
      "           5       0.88      0.91      0.89      1000\n",
      "           6       0.55      0.50      0.53      1000\n",
      "           7       0.88      0.88      0.88      1000\n",
      "           8       0.94      0.91      0.92      1000\n",
      "           9       0.90      0.92      0.91      1000\n",
      "\n",
      "   micro avg       0.80      0.80      0.80     10000\n",
      "   macro avg       0.80      0.80      0.80     10000\n",
      "weighted avg       0.80      0.80      0.80     10000\n",
      "\n",
      "\n"
     ]
    }
   ],
   "source": [
    "gs_rbf_svc_cv5_500 = tuning_hyper_params(X_train_500.reshape(-1,784), y_train_500, 'rbf', 5, 'accuracy', np.logspace(-4,2,7), np.logspace(-4,2,7))"
   ]
  },
  {
   "cell_type": "code",
   "execution_count": 153,
   "metadata": {},
   "outputs": [
    {
     "data": {
      "text/plain": [
       "0.795"
      ]
     },
     "execution_count": 153,
     "metadata": {},
     "output_type": "execute_result"
    }
   ],
   "source": [
    "gs_rbf_svc_cv5_500.score(X_test.reshape(-1,784), y_test)"
   ]
  },
  {
   "cell_type": "code",
   "execution_count": 156,
   "metadata": {},
   "outputs": [
    {
     "data": {
      "text/plain": [
       "array([0.001, 0.003, 0.01 , 0.032, 0.1  ])"
      ]
     },
     "execution_count": 156,
     "metadata": {},
     "output_type": "execute_result"
    }
   ],
   "source": [
    "np.logspace(-3,-1,5)"
   ]
  },
  {
   "cell_type": "code",
   "execution_count": 157,
   "metadata": {},
   "outputs": [
    {
     "name": "stdout",
     "output_type": "stream",
     "text": [
      "Tuning Hyperparameter zu Score accuracy\n",
      "\n",
      "Zeit für Suche:  32.87566828727722\n",
      "Zeit für Suche:  0.7332046999999875\n",
      "Zeit für Suche:  32.891132342608216\n",
      "Besten gefundenen Parameter lauten:\n",
      "\n",
      "{'C': 3.1622776601683795, 'gamma': 0.01, 'kernel': 'rbf'}\n",
      "\n",
      "0.698 (+/-0.056) for {'C': 1.0, 'gamma': 0.001, 'kernel': 'rbf'}\n",
      "0.756 (+/-0.037) for {'C': 1.0, 'gamma': 0.0031622776601683794, 'kernel': 'rbf'}\n",
      "0.760 (+/-0.046) for {'C': 1.0, 'gamma': 0.01, 'kernel': 'rbf'}\n",
      "0.774 (+/-0.043) for {'C': 1.0, 'gamma': 0.03162277660168379, 'kernel': 'rbf'}\n",
      "0.668 (+/-0.053) for {'C': 1.0, 'gamma': 0.1, 'kernel': 'rbf'}\n",
      "0.752 (+/-0.027) for {'C': 3.1622776601683795, 'gamma': 0.001, 'kernel': 'rbf'}\n",
      "0.774 (+/-0.064) for {'C': 3.1622776601683795, 'gamma': 0.0031622776601683794, 'kernel': 'rbf'}\n",
      "0.796 (+/-0.060) for {'C': 3.1622776601683795, 'gamma': 0.01, 'kernel': 'rbf'}\n",
      "0.782 (+/-0.039) for {'C': 3.1622776601683795, 'gamma': 0.03162277660168379, 'kernel': 'rbf'}\n",
      "0.680 (+/-0.061) for {'C': 3.1622776601683795, 'gamma': 0.1, 'kernel': 'rbf'}\n",
      "0.768 (+/-0.043) for {'C': 10.0, 'gamma': 0.001, 'kernel': 'rbf'}\n",
      "0.792 (+/-0.066) for {'C': 10.0, 'gamma': 0.0031622776601683794, 'kernel': 'rbf'}\n",
      "0.788 (+/-0.070) for {'C': 10.0, 'gamma': 0.01, 'kernel': 'rbf'}\n",
      "0.780 (+/-0.042) for {'C': 10.0, 'gamma': 0.03162277660168379, 'kernel': 'rbf'}\n",
      "0.680 (+/-0.061) for {'C': 10.0, 'gamma': 0.1, 'kernel': 'rbf'}\n",
      "0.794 (+/-0.053) for {'C': 31.622776601683793, 'gamma': 0.001, 'kernel': 'rbf'}\n",
      "0.782 (+/-0.054) for {'C': 31.622776601683793, 'gamma': 0.0031622776601683794, 'kernel': 'rbf'}\n",
      "0.786 (+/-0.072) for {'C': 31.622776601683793, 'gamma': 0.01, 'kernel': 'rbf'}\n",
      "0.780 (+/-0.042) for {'C': 31.622776601683793, 'gamma': 0.03162277660168379, 'kernel': 'rbf'}\n",
      "0.680 (+/-0.061) for {'C': 31.622776601683793, 'gamma': 0.1, 'kernel': 'rbf'}\n",
      "0.780 (+/-0.080) for {'C': 100.0, 'gamma': 0.001, 'kernel': 'rbf'}\n",
      "0.790 (+/-0.054) for {'C': 100.0, 'gamma': 0.0031622776601683794, 'kernel': 'rbf'}\n",
      "0.786 (+/-0.072) for {'C': 100.0, 'gamma': 0.01, 'kernel': 'rbf'}\n",
      "0.780 (+/-0.042) for {'C': 100.0, 'gamma': 0.03162277660168379, 'kernel': 'rbf'}\n",
      "0.680 (+/-0.061) for {'C': 100.0, 'gamma': 0.1, 'kernel': 'rbf'}\n",
      "\n",
      "Klassifikationsreport\n",
      "\n",
      "              precision    recall  f1-score   support\n",
      "\n",
      "           0       0.80      0.72      0.76      1000\n",
      "           1       0.99      0.93      0.96      1000\n",
      "           2       0.67      0.66      0.67      1000\n",
      "           3       0.76      0.82      0.79      1000\n",
      "           4       0.62      0.73      0.67      1000\n",
      "           5       0.87      0.91      0.89      1000\n",
      "           6       0.53      0.48      0.51      1000\n",
      "           7       0.88      0.87      0.87      1000\n",
      "           8       0.94      0.91      0.92      1000\n",
      "           9       0.90      0.91      0.90      1000\n",
      "\n",
      "   micro avg       0.79      0.79      0.79     10000\n",
      "   macro avg       0.80      0.79      0.79     10000\n",
      "weighted avg       0.80      0.79      0.79     10000\n",
      "\n",
      "\n"
     ]
    }
   ],
   "source": [
    "#Finetuning in der engeren Nachbarschaft\n",
    "gs_rbf_svc_cv5_500 = tuning_hyper_params(X_train_500.reshape(-1,784), y_train_500, 'rbf', 5, 'accuracy', np.logspace(0,2,5), np.logspace(-3,-1,5))"
   ]
  },
  {
   "cell_type": "code",
   "execution_count": 158,
   "metadata": {},
   "outputs": [
    {
     "data": {
      "text/plain": [
       "0.7943"
      ]
     },
     "execution_count": 158,
     "metadata": {},
     "output_type": "execute_result"
    }
   ],
   "source": [
    "gs_rbf_svc_cv5_500.score(X_test.reshape(-1,784), y_test)"
   ]
  },
  {
   "cell_type": "code",
   "execution_count": 163,
   "metadata": {},
   "outputs": [
    {
     "data": {
      "text/plain": [
       "array([ 1.   ,  1.778,  3.162,  5.623, 10.   ])"
      ]
     },
     "execution_count": 163,
     "metadata": {},
     "output_type": "execute_result"
    }
   ],
   "source": [
    "np.logspace(0,1,5)"
   ]
  },
  {
   "cell_type": "code",
   "execution_count": 164,
   "metadata": {},
   "outputs": [
    {
     "name": "stdout",
     "output_type": "stream",
     "text": [
      "Tuning Hyperparameter zu Score accuracy\n",
      "\n",
      "Zeit für Suche:  51.64501452445984\n",
      "Zeit für Suche:  0.9516060999999922\n",
      "Zeit für Suche:  51.659908615775294\n",
      "Besten gefundenen Parameter lauten:\n",
      "\n",
      "{'C': 3.1622776601683795, 'gamma': 0.01, 'kernel': 'rbf'}\n",
      "\n",
      "0.698 (+/-0.056) for {'C': 1.0, 'gamma': 0.001, 'kernel': 'rbf'}\n",
      "0.740 (+/-0.025) for {'C': 1.0, 'gamma': 0.0021544346900318843, 'kernel': 'rbf'}\n",
      "0.752 (+/-0.032) for {'C': 1.0, 'gamma': 0.004641588833612777, 'kernel': 'rbf'}\n",
      "0.760 (+/-0.046) for {'C': 1.0, 'gamma': 0.01, 'kernel': 'rbf'}\n",
      "0.780 (+/-0.058) for {'C': 1.0, 'gamma': 0.021544346900318832, 'kernel': 'rbf'}\n",
      "0.766 (+/-0.057) for {'C': 1.0, 'gamma': 0.046415888336127774, 'kernel': 'rbf'}\n",
      "0.668 (+/-0.053) for {'C': 1.0, 'gamma': 0.1, 'kernel': 'rbf'}\n",
      "0.738 (+/-0.039) for {'C': 1.7782794100389228, 'gamma': 0.001, 'kernel': 'rbf'}\n",
      "0.754 (+/-0.027) for {'C': 1.7782794100389228, 'gamma': 0.0021544346900318843, 'kernel': 'rbf'}\n",
      "0.754 (+/-0.039) for {'C': 1.7782794100389228, 'gamma': 0.004641588833612777, 'kernel': 'rbf'}\n",
      "0.784 (+/-0.060) for {'C': 1.7782794100389228, 'gamma': 0.01, 'kernel': 'rbf'}\n",
      "0.794 (+/-0.047) for {'C': 1.7782794100389228, 'gamma': 0.021544346900318832, 'kernel': 'rbf'}\n",
      "0.760 (+/-0.066) for {'C': 1.7782794100389228, 'gamma': 0.046415888336127774, 'kernel': 'rbf'}\n",
      "0.680 (+/-0.061) for {'C': 1.7782794100389228, 'gamma': 0.1, 'kernel': 'rbf'}\n",
      "0.752 (+/-0.027) for {'C': 3.1622776601683795, 'gamma': 0.001, 'kernel': 'rbf'}\n",
      "0.764 (+/-0.043) for {'C': 3.1622776601683795, 'gamma': 0.0021544346900318843, 'kernel': 'rbf'}\n",
      "0.778 (+/-0.064) for {'C': 3.1622776601683795, 'gamma': 0.004641588833612777, 'kernel': 'rbf'}\n",
      "0.796 (+/-0.060) for {'C': 3.1622776601683795, 'gamma': 0.01, 'kernel': 'rbf'}\n",
      "0.786 (+/-0.027) for {'C': 3.1622776601683795, 'gamma': 0.021544346900318832, 'kernel': 'rbf'}\n",
      "0.762 (+/-0.056) for {'C': 3.1622776601683795, 'gamma': 0.046415888336127774, 'kernel': 'rbf'}\n",
      "0.680 (+/-0.061) for {'C': 3.1622776601683795, 'gamma': 0.1, 'kernel': 'rbf'}\n",
      "0.764 (+/-0.037) for {'C': 5.623413251903491, 'gamma': 0.001, 'kernel': 'rbf'}\n",
      "0.776 (+/-0.061) for {'C': 5.623413251903491, 'gamma': 0.0021544346900318843, 'kernel': 'rbf'}\n",
      "0.792 (+/-0.066) for {'C': 5.623413251903491, 'gamma': 0.004641588833612777, 'kernel': 'rbf'}\n",
      "0.796 (+/-0.045) for {'C': 5.623413251903491, 'gamma': 0.01, 'kernel': 'rbf'}\n",
      "0.788 (+/-0.034) for {'C': 5.623413251903491, 'gamma': 0.021544346900318832, 'kernel': 'rbf'}\n",
      "0.764 (+/-0.053) for {'C': 5.623413251903491, 'gamma': 0.046415888336127774, 'kernel': 'rbf'}\n",
      "0.680 (+/-0.061) for {'C': 5.623413251903491, 'gamma': 0.1, 'kernel': 'rbf'}\n",
      "0.768 (+/-0.043) for {'C': 10.0, 'gamma': 0.001, 'kernel': 'rbf'}\n",
      "0.784 (+/-0.057) for {'C': 10.0, 'gamma': 0.0021544346900318843, 'kernel': 'rbf'}\n",
      "0.792 (+/-0.067) for {'C': 10.0, 'gamma': 0.004641588833612777, 'kernel': 'rbf'}\n",
      "0.788 (+/-0.070) for {'C': 10.0, 'gamma': 0.01, 'kernel': 'rbf'}\n",
      "0.788 (+/-0.034) for {'C': 10.0, 'gamma': 0.021544346900318832, 'kernel': 'rbf'}\n",
      "0.764 (+/-0.053) for {'C': 10.0, 'gamma': 0.046415888336127774, 'kernel': 'rbf'}\n",
      "0.680 (+/-0.061) for {'C': 10.0, 'gamma': 0.1, 'kernel': 'rbf'}\n",
      "\n",
      "Klassifikationsreport\n",
      "\n",
      "              precision    recall  f1-score   support\n",
      "\n",
      "           0       0.80      0.72      0.76      1000\n",
      "           1       0.99      0.93      0.96      1000\n",
      "           2       0.67      0.66      0.67      1000\n",
      "           3       0.76      0.82      0.79      1000\n",
      "           4       0.62      0.73      0.67      1000\n",
      "           5       0.87      0.91      0.89      1000\n",
      "           6       0.53      0.48      0.51      1000\n",
      "           7       0.88      0.87      0.87      1000\n",
      "           8       0.94      0.91      0.92      1000\n",
      "           9       0.90      0.91      0.90      1000\n",
      "\n",
      "   micro avg       0.79      0.79      0.79     10000\n",
      "   macro avg       0.80      0.79      0.79     10000\n",
      "weighted avg       0.80      0.79      0.79     10000\n",
      "\n",
      "\n"
     ]
    }
   ],
   "source": [
    "#Finetuning in der engeren Nachbarschaft\n",
    "gs_rbf_svc_cv5_500C = tuning_hyper_params(X_train_500.reshape(-1,784), y_train_500, 'rbf', 5, 'accuracy', np.logspace(0,1,5), np.logspace(-3,-1,7))"
   ]
  },
  {
   "cell_type": "code",
   "execution_count": 165,
   "metadata": {},
   "outputs": [
    {
     "data": {
      "text/plain": [
       "0.7943"
      ]
     },
     "execution_count": 165,
     "metadata": {},
     "output_type": "execute_result"
    }
   ],
   "source": [
    "gs_rbf_svc_cv5_500C.score(X_test.reshape(-1,784), y_test)"
   ]
  },
  {
   "cell_type": "code",
   "execution_count": 309,
   "metadata": {},
   "outputs": [
    {
     "name": "stdout",
     "output_type": "stream",
     "text": [
      "Tuning Hyperparameter zu Score accuracy\n",
      "\n",
      "Zeit für Suche:  193.92609190940857\n",
      "Zeit für Suche:  2.012412900000072\n",
      "Zeit für Suche:  193.92860263017064\n",
      "Besten gefundenen Parameter lauten:\n",
      "\n",
      "{'C': 100.0, 'gamma': 0.01, 'kernel': 'rbf'}\n",
      "\n",
      "0.624 (+/-0.106) for {'C': 0.0001, 'gamma': 0.0001, 'kernel': 'rbf'}\n",
      "0.634 (+/-0.084) for {'C': 0.0001, 'gamma': 0.001, 'kernel': 'rbf'}\n",
      "0.688 (+/-0.078) for {'C': 0.0001, 'gamma': 0.01, 'kernel': 'rbf'}\n",
      "0.460 (+/-0.098) for {'C': 0.0001, 'gamma': 0.1, 'kernel': 'rbf'}\n",
      "0.148 (+/-0.065) for {'C': 0.0001, 'gamma': 1.0, 'kernel': 'rbf'}\n",
      "0.710 (+/-0.082) for {'C': 0.0001, 'gamma': 10.0, 'kernel': 'rbf'}\n",
      "0.112 (+/-0.027) for {'C': 0.0001, 'gamma': 100.0, 'kernel': 'rbf'}\n",
      "0.624 (+/-0.106) for {'C': 0.001, 'gamma': 0.0001, 'kernel': 'rbf'}\n",
      "0.634 (+/-0.084) for {'C': 0.001, 'gamma': 0.001, 'kernel': 'rbf'}\n",
      "0.688 (+/-0.078) for {'C': 0.001, 'gamma': 0.01, 'kernel': 'rbf'}\n",
      "0.460 (+/-0.098) for {'C': 0.001, 'gamma': 0.1, 'kernel': 'rbf'}\n",
      "0.148 (+/-0.065) for {'C': 0.001, 'gamma': 1.0, 'kernel': 'rbf'}\n",
      "0.710 (+/-0.082) for {'C': 0.001, 'gamma': 10.0, 'kernel': 'rbf'}\n",
      "0.112 (+/-0.027) for {'C': 0.001, 'gamma': 100.0, 'kernel': 'rbf'}\n",
      "0.624 (+/-0.106) for {'C': 0.01, 'gamma': 0.0001, 'kernel': 'rbf'}\n",
      "0.634 (+/-0.084) for {'C': 0.01, 'gamma': 0.001, 'kernel': 'rbf'}\n",
      "0.688 (+/-0.078) for {'C': 0.01, 'gamma': 0.01, 'kernel': 'rbf'}\n",
      "0.460 (+/-0.098) for {'C': 0.01, 'gamma': 0.1, 'kernel': 'rbf'}\n",
      "0.148 (+/-0.065) for {'C': 0.01, 'gamma': 1.0, 'kernel': 'rbf'}\n",
      "0.710 (+/-0.082) for {'C': 0.01, 'gamma': 10.0, 'kernel': 'rbf'}\n",
      "0.112 (+/-0.027) for {'C': 0.01, 'gamma': 100.0, 'kernel': 'rbf'}\n",
      "0.624 (+/-0.106) for {'C': 0.1, 'gamma': 0.0001, 'kernel': 'rbf'}\n",
      "0.634 (+/-0.084) for {'C': 0.1, 'gamma': 0.001, 'kernel': 'rbf'}\n",
      "0.694 (+/-0.082) for {'C': 0.1, 'gamma': 0.01, 'kernel': 'rbf'}\n",
      "0.460 (+/-0.098) for {'C': 0.1, 'gamma': 0.1, 'kernel': 'rbf'}\n",
      "0.148 (+/-0.065) for {'C': 0.1, 'gamma': 1.0, 'kernel': 'rbf'}\n",
      "0.710 (+/-0.082) for {'C': 0.1, 'gamma': 10.0, 'kernel': 'rbf'}\n",
      "0.112 (+/-0.027) for {'C': 0.1, 'gamma': 100.0, 'kernel': 'rbf'}\n",
      "0.624 (+/-0.106) for {'C': 1.0, 'gamma': 0.0001, 'kernel': 'rbf'}\n",
      "0.716 (+/-0.064) for {'C': 1.0, 'gamma': 0.001, 'kernel': 'rbf'}\n",
      "0.760 (+/-0.101) for {'C': 1.0, 'gamma': 0.01, 'kernel': 'rbf'}\n",
      "0.670 (+/-0.084) for {'C': 1.0, 'gamma': 0.1, 'kernel': 'rbf'}\n",
      "0.198 (+/-0.079) for {'C': 1.0, 'gamma': 1.0, 'kernel': 'rbf'}\n",
      "0.482 (+/-0.123) for {'C': 1.0, 'gamma': 10.0, 'kernel': 'rbf'}\n",
      "0.112 (+/-0.027) for {'C': 1.0, 'gamma': 100.0, 'kernel': 'rbf'}\n",
      "0.712 (+/-0.076) for {'C': 10.0, 'gamma': 0.0001, 'kernel': 'rbf'}\n",
      "0.766 (+/-0.110) for {'C': 10.0, 'gamma': 0.001, 'kernel': 'rbf'}\n",
      "0.796 (+/-0.082) for {'C': 10.0, 'gamma': 0.01, 'kernel': 'rbf'}\n",
      "0.686 (+/-0.095) for {'C': 10.0, 'gamma': 0.1, 'kernel': 'rbf'}\n",
      "0.202 (+/-0.079) for {'C': 10.0, 'gamma': 1.0, 'kernel': 'rbf'}\n",
      "0.484 (+/-0.101) for {'C': 10.0, 'gamma': 10.0, 'kernel': 'rbf'}\n",
      "0.112 (+/-0.027) for {'C': 10.0, 'gamma': 100.0, 'kernel': 'rbf'}\n",
      "0.770 (+/-0.132) for {'C': 100.0, 'gamma': 0.0001, 'kernel': 'rbf'}\n",
      "0.780 (+/-0.091) for {'C': 100.0, 'gamma': 0.001, 'kernel': 'rbf'}\n",
      "0.798 (+/-0.079) for {'C': 100.0, 'gamma': 0.01, 'kernel': 'rbf'}\n",
      "0.686 (+/-0.095) for {'C': 100.0, 'gamma': 0.1, 'kernel': 'rbf'}\n",
      "0.202 (+/-0.079) for {'C': 100.0, 'gamma': 1.0, 'kernel': 'rbf'}\n",
      "0.484 (+/-0.101) for {'C': 100.0, 'gamma': 10.0, 'kernel': 'rbf'}\n",
      "0.112 (+/-0.027) for {'C': 100.0, 'gamma': 100.0, 'kernel': 'rbf'}\n",
      "\n",
      "Klassifikationsreport\n",
      "\n",
      "              precision    recall  f1-score   support\n",
      "\n",
      "           0       0.80      0.70      0.75      1000\n",
      "           1       0.99      0.93      0.96      1000\n",
      "           2       0.62      0.71      0.66      1000\n",
      "           3       0.76      0.81      0.78      1000\n",
      "           4       0.64      0.69      0.66      1000\n",
      "           5       0.88      0.91      0.89      1000\n",
      "           6       0.56      0.50      0.52      1000\n",
      "           7       0.88      0.88      0.88      1000\n",
      "           8       0.94      0.91      0.92      1000\n",
      "           9       0.90      0.92      0.91      1000\n",
      "\n",
      "   micro avg       0.79      0.79      0.79     10000\n",
      "   macro avg       0.80      0.79      0.80     10000\n",
      "weighted avg       0.80      0.79      0.80     10000\n",
      "\n",
      "\n"
     ]
    }
   ],
   "source": [
    "#mit cv=10\n",
    "gs_rbf_svc_cv10_500 = tuning_hyper_params(X_train_500.reshape(-1,784), y_train_500, 'rbf', 10, 'accuracy', np.logspace(-4,2,7), np.logspace(-4,2,7))"
   ]
  },
  {
   "cell_type": "code",
   "execution_count": null,
   "metadata": {},
   "outputs": [],
   "source": []
  },
  {
   "cell_type": "code",
   "execution_count": 316,
   "metadata": {},
   "outputs": [
    {
     "name": "stdout",
     "output_type": "stream",
     "text": [
      "Tuning Hyperparameter zu Score accuracy\n",
      "\n",
      "Zeit für Suche:  134.31368207931519\n",
      "Zeit für Suche:  2.262014499999964\n",
      "Zeit für Suche:  134.31395416687155\n",
      "Besten gefundenen Parameter lauten:\n",
      "\n",
      "{'C': 5.623413251903491, 'gamma': 0.01, 'kernel': 'rbf'}\n",
      "\n",
      "0.716 (+/-0.064) for {'C': 1.0, 'gamma': 0.001, 'kernel': 'rbf'}\n",
      "0.746 (+/-0.065) for {'C': 1.0, 'gamma': 0.0031622776601683794, 'kernel': 'rbf'}\n",
      "0.760 (+/-0.101) for {'C': 1.0, 'gamma': 0.01, 'kernel': 'rbf'}\n",
      "0.782 (+/-0.107) for {'C': 1.0, 'gamma': 0.03162277660168379, 'kernel': 'rbf'}\n",
      "0.670 (+/-0.084) for {'C': 1.0, 'gamma': 0.1, 'kernel': 'rbf'}\n",
      "0.746 (+/-0.086) for {'C': 2.371373705661655, 'gamma': 0.001, 'kernel': 'rbf'}\n",
      "0.764 (+/-0.120) for {'C': 2.371373705661655, 'gamma': 0.0031622776601683794, 'kernel': 'rbf'}\n",
      "0.782 (+/-0.109) for {'C': 2.371373705661655, 'gamma': 0.01, 'kernel': 'rbf'}\n",
      "0.790 (+/-0.090) for {'C': 2.371373705661655, 'gamma': 0.03162277660168379, 'kernel': 'rbf'}\n",
      "0.686 (+/-0.095) for {'C': 2.371373705661655, 'gamma': 0.1, 'kernel': 'rbf'}\n",
      "0.760 (+/-0.119) for {'C': 5.623413251903491, 'gamma': 0.001, 'kernel': 'rbf'}\n",
      "0.782 (+/-0.095) for {'C': 5.623413251903491, 'gamma': 0.0031622776601683794, 'kernel': 'rbf'}\n",
      "0.804 (+/-0.078) for {'C': 5.623413251903491, 'gamma': 0.01, 'kernel': 'rbf'}\n",
      "0.792 (+/-0.105) for {'C': 5.623413251903491, 'gamma': 0.03162277660168379, 'kernel': 'rbf'}\n",
      "0.686 (+/-0.095) for {'C': 5.623413251903491, 'gamma': 0.1, 'kernel': 'rbf'}\n",
      "0.774 (+/-0.109) for {'C': 13.33521432163324, 'gamma': 0.001, 'kernel': 'rbf'}\n",
      "0.800 (+/-0.078) for {'C': 13.33521432163324, 'gamma': 0.0031622776601683794, 'kernel': 'rbf'}\n",
      "0.798 (+/-0.079) for {'C': 13.33521432163324, 'gamma': 0.01, 'kernel': 'rbf'}\n",
      "0.792 (+/-0.105) for {'C': 13.33521432163324, 'gamma': 0.03162277660168379, 'kernel': 'rbf'}\n",
      "0.686 (+/-0.095) for {'C': 13.33521432163324, 'gamma': 0.1, 'kernel': 'rbf'}\n",
      "0.792 (+/-0.074) for {'C': 31.622776601683793, 'gamma': 0.001, 'kernel': 'rbf'}\n",
      "0.780 (+/-0.104) for {'C': 31.622776601683793, 'gamma': 0.0031622776601683794, 'kernel': 'rbf'}\n",
      "0.798 (+/-0.079) for {'C': 31.622776601683793, 'gamma': 0.01, 'kernel': 'rbf'}\n",
      "0.792 (+/-0.105) for {'C': 31.622776601683793, 'gamma': 0.03162277660168379, 'kernel': 'rbf'}\n",
      "0.686 (+/-0.095) for {'C': 31.622776601683793, 'gamma': 0.1, 'kernel': 'rbf'}\n",
      "0.784 (+/-0.099) for {'C': 74.98942093324558, 'gamma': 0.001, 'kernel': 'rbf'}\n",
      "0.790 (+/-0.106) for {'C': 74.98942093324558, 'gamma': 0.0031622776601683794, 'kernel': 'rbf'}\n",
      "0.798 (+/-0.079) for {'C': 74.98942093324558, 'gamma': 0.01, 'kernel': 'rbf'}\n",
      "0.792 (+/-0.105) for {'C': 74.98942093324558, 'gamma': 0.03162277660168379, 'kernel': 'rbf'}\n",
      "0.686 (+/-0.095) for {'C': 74.98942093324558, 'gamma': 0.1, 'kernel': 'rbf'}\n",
      "0.782 (+/-0.090) for {'C': 177.82794100389228, 'gamma': 0.001, 'kernel': 'rbf'}\n",
      "0.790 (+/-0.106) for {'C': 177.82794100389228, 'gamma': 0.0031622776601683794, 'kernel': 'rbf'}\n",
      "0.798 (+/-0.079) for {'C': 177.82794100389228, 'gamma': 0.01, 'kernel': 'rbf'}\n",
      "0.792 (+/-0.105) for {'C': 177.82794100389228, 'gamma': 0.03162277660168379, 'kernel': 'rbf'}\n",
      "0.686 (+/-0.095) for {'C': 177.82794100389228, 'gamma': 0.1, 'kernel': 'rbf'}\n",
      "0.780 (+/-0.086) for {'C': 421.6965034285823, 'gamma': 0.001, 'kernel': 'rbf'}\n",
      "0.790 (+/-0.106) for {'C': 421.6965034285823, 'gamma': 0.0031622776601683794, 'kernel': 'rbf'}\n",
      "0.798 (+/-0.079) for {'C': 421.6965034285823, 'gamma': 0.01, 'kernel': 'rbf'}\n",
      "0.792 (+/-0.105) for {'C': 421.6965034285823, 'gamma': 0.03162277660168379, 'kernel': 'rbf'}\n",
      "0.686 (+/-0.095) for {'C': 421.6965034285823, 'gamma': 0.1, 'kernel': 'rbf'}\n",
      "0.780 (+/-0.086) for {'C': 1000.0, 'gamma': 0.001, 'kernel': 'rbf'}\n",
      "0.790 (+/-0.106) for {'C': 1000.0, 'gamma': 0.0031622776601683794, 'kernel': 'rbf'}\n",
      "0.798 (+/-0.079) for {'C': 1000.0, 'gamma': 0.01, 'kernel': 'rbf'}\n",
      "0.792 (+/-0.105) for {'C': 1000.0, 'gamma': 0.03162277660168379, 'kernel': 'rbf'}\n",
      "0.686 (+/-0.095) for {'C': 1000.0, 'gamma': 0.1, 'kernel': 'rbf'}\n",
      "\n",
      "Klassifikationsreport\n",
      "\n",
      "              precision    recall  f1-score   support\n",
      "\n",
      "           0       0.80      0.70      0.75      1000\n",
      "           1       0.99      0.93      0.96      1000\n",
      "           2       0.66      0.69      0.67      1000\n",
      "           3       0.77      0.82      0.79      1000\n",
      "           4       0.63      0.72      0.68      1000\n",
      "           5       0.88      0.91      0.89      1000\n",
      "           6       0.53      0.50      0.51      1000\n",
      "           7       0.87      0.88      0.87      1000\n",
      "           8       0.94      0.91      0.93      1000\n",
      "           9       0.91      0.91      0.91      1000\n",
      "\n",
      "   micro avg       0.79      0.79      0.79     10000\n",
      "   macro avg       0.80      0.79      0.80     10000\n",
      "weighted avg       0.80      0.79      0.80     10000\n",
      "\n",
      "\n"
     ]
    }
   ],
   "source": [
    "gs_rbf_svc_cv10_500B = tuning_hyper_params(X_train_500.reshape(-1,784), y_train_500, 'rbf', 10, 'accuracy', np.logspace(0,3,9), np.logspace(-3,-1,5))"
   ]
  },
  {
   "cell_type": "code",
   "execution_count": 327,
   "metadata": {},
   "outputs": [
    {
     "name": "stdout",
     "output_type": "stream",
     "text": [
      "Tuning Hyperparameter zu Score accuracy\n",
      "\n"
     ]
    },
    {
     "name": "stderr",
     "output_type": "stream",
     "text": [
      "C:\\Users\\Martins-Lapt\\AppData\\Local\\conda\\conda\\envs\\python36\\lib\\site-packages\\sklearn\\externals\\joblib\\externals\\loky\\process_executor.py:706: UserWarning: A worker stopped while some jobs were given to the executor. This can be caused by a too short worker timeout or by a memory leak.\n",
      "  \"timeout or by a memory leak.\", UserWarning\n"
     ]
    },
    {
     "name": "stdout",
     "output_type": "stream",
     "text": [
      "Zeit für Suche:  133.8016529083252\n",
      "Zeit für Suche:  2.3556151000000227\n",
      "Zeit für Suche:  133.8025420796148\n",
      "Besten gefundenen Parameter lauten:\n",
      "\n",
      "{'C': 5.623413251903491, 'gamma': 0.01, 'kernel': 'rbf'}\n",
      "\n",
      "0.746 (+/-0.065) for {'C': 1.0, 'gamma': 0.0031622776601683794, 'kernel': 'rbf'}\n",
      "0.754 (+/-0.088) for {'C': 1.0, 'gamma': 0.005623413251903491, 'kernel': 'rbf'}\n",
      "0.760 (+/-0.101) for {'C': 1.0, 'gamma': 0.01, 'kernel': 'rbf'}\n",
      "0.764 (+/-0.099) for {'C': 1.0, 'gamma': 0.01778279410038923, 'kernel': 'rbf'}\n",
      "0.782 (+/-0.107) for {'C': 1.0, 'gamma': 0.03162277660168379, 'kernel': 'rbf'}\n",
      "0.752 (+/-0.088) for {'C': 1.539926526059492, 'gamma': 0.0031622776601683794, 'kernel': 'rbf'}\n",
      "0.758 (+/-0.112) for {'C': 1.539926526059492, 'gamma': 0.005623413251903491, 'kernel': 'rbf'}\n",
      "0.772 (+/-0.115) for {'C': 1.539926526059492, 'gamma': 0.01, 'kernel': 'rbf'}\n",
      "0.786 (+/-0.115) for {'C': 1.539926526059492, 'gamma': 0.01778279410038923, 'kernel': 'rbf'}\n",
      "0.790 (+/-0.095) for {'C': 1.539926526059492, 'gamma': 0.03162277660168379, 'kernel': 'rbf'}\n",
      "0.764 (+/-0.120) for {'C': 2.371373705661655, 'gamma': 0.0031622776601683794, 'kernel': 'rbf'}\n",
      "0.772 (+/-0.115) for {'C': 2.371373705661655, 'gamma': 0.005623413251903491, 'kernel': 'rbf'}\n",
      "0.782 (+/-0.109) for {'C': 2.371373705661655, 'gamma': 0.01, 'kernel': 'rbf'}\n",
      "0.786 (+/-0.100) for {'C': 2.371373705661655, 'gamma': 0.01778279410038923, 'kernel': 'rbf'}\n",
      "0.790 (+/-0.090) for {'C': 2.371373705661655, 'gamma': 0.03162277660168379, 'kernel': 'rbf'}\n",
      "0.768 (+/-0.116) for {'C': 3.651741272548377, 'gamma': 0.0031622776601683794, 'kernel': 'rbf'}\n",
      "0.786 (+/-0.104) for {'C': 3.651741272548377, 'gamma': 0.005623413251903491, 'kernel': 'rbf'}\n",
      "0.798 (+/-0.090) for {'C': 3.651741272548377, 'gamma': 0.01, 'kernel': 'rbf'}\n",
      "0.792 (+/-0.090) for {'C': 3.651741272548377, 'gamma': 0.01778279410038923, 'kernel': 'rbf'}\n",
      "0.792 (+/-0.102) for {'C': 3.651741272548377, 'gamma': 0.03162277660168379, 'kernel': 'rbf'}\n",
      "0.782 (+/-0.095) for {'C': 5.623413251903491, 'gamma': 0.0031622776601683794, 'kernel': 'rbf'}\n",
      "0.798 (+/-0.094) for {'C': 5.623413251903491, 'gamma': 0.005623413251903491, 'kernel': 'rbf'}\n",
      "0.804 (+/-0.078) for {'C': 5.623413251903491, 'gamma': 0.01, 'kernel': 'rbf'}\n",
      "0.796 (+/-0.080) for {'C': 5.623413251903491, 'gamma': 0.01778279410038923, 'kernel': 'rbf'}\n",
      "0.792 (+/-0.105) for {'C': 5.623413251903491, 'gamma': 0.03162277660168379, 'kernel': 'rbf'}\n",
      "0.788 (+/-0.082) for {'C': 8.659643233600654, 'gamma': 0.0031622776601683794, 'kernel': 'rbf'}\n",
      "0.794 (+/-0.074) for {'C': 8.659643233600654, 'gamma': 0.005623413251903491, 'kernel': 'rbf'}\n",
      "0.796 (+/-0.087) for {'C': 8.659643233600654, 'gamma': 0.01, 'kernel': 'rbf'}\n",
      "0.800 (+/-0.076) for {'C': 8.659643233600654, 'gamma': 0.01778279410038923, 'kernel': 'rbf'}\n",
      "0.792 (+/-0.105) for {'C': 8.659643233600654, 'gamma': 0.03162277660168379, 'kernel': 'rbf'}\n",
      "0.800 (+/-0.078) for {'C': 13.33521432163324, 'gamma': 0.0031622776601683794, 'kernel': 'rbf'}\n",
      "0.786 (+/-0.093) for {'C': 13.33521432163324, 'gamma': 0.005623413251903491, 'kernel': 'rbf'}\n",
      "0.798 (+/-0.079) for {'C': 13.33521432163324, 'gamma': 0.01, 'kernel': 'rbf'}\n",
      "0.800 (+/-0.076) for {'C': 13.33521432163324, 'gamma': 0.01778279410038923, 'kernel': 'rbf'}\n",
      "0.792 (+/-0.105) for {'C': 13.33521432163324, 'gamma': 0.03162277660168379, 'kernel': 'rbf'}\n",
      "0.784 (+/-0.093) for {'C': 20.53525026457146, 'gamma': 0.0031622776601683794, 'kernel': 'rbf'}\n",
      "0.792 (+/-0.088) for {'C': 20.53525026457146, 'gamma': 0.005623413251903491, 'kernel': 'rbf'}\n",
      "0.798 (+/-0.079) for {'C': 20.53525026457146, 'gamma': 0.01, 'kernel': 'rbf'}\n",
      "0.800 (+/-0.076) for {'C': 20.53525026457146, 'gamma': 0.01778279410038923, 'kernel': 'rbf'}\n",
      "0.792 (+/-0.105) for {'C': 20.53525026457146, 'gamma': 0.03162277660168379, 'kernel': 'rbf'}\n",
      "0.780 (+/-0.104) for {'C': 31.622776601683793, 'gamma': 0.0031622776601683794, 'kernel': 'rbf'}\n",
      "0.792 (+/-0.088) for {'C': 31.622776601683793, 'gamma': 0.005623413251903491, 'kernel': 'rbf'}\n",
      "0.798 (+/-0.079) for {'C': 31.622776601683793, 'gamma': 0.01, 'kernel': 'rbf'}\n",
      "0.800 (+/-0.076) for {'C': 31.622776601683793, 'gamma': 0.01778279410038923, 'kernel': 'rbf'}\n",
      "0.792 (+/-0.105) for {'C': 31.622776601683793, 'gamma': 0.03162277660168379, 'kernel': 'rbf'}\n",
      "\n",
      "Klassifikationsreport\n",
      "\n",
      "              precision    recall  f1-score   support\n",
      "\n",
      "           0       0.80      0.70      0.75      1000\n",
      "           1       0.99      0.93      0.96      1000\n",
      "           2       0.66      0.69      0.67      1000\n",
      "           3       0.77      0.82      0.79      1000\n",
      "           4       0.63      0.72      0.68      1000\n",
      "           5       0.88      0.91      0.89      1000\n",
      "           6       0.53      0.50      0.51      1000\n",
      "           7       0.87      0.88      0.87      1000\n",
      "           8       0.94      0.91      0.93      1000\n",
      "           9       0.91      0.91      0.91      1000\n",
      "\n",
      "   micro avg       0.79      0.79      0.79     10000\n",
      "   macro avg       0.80      0.79      0.80     10000\n",
      "weighted avg       0.80      0.79      0.80     10000\n",
      "\n",
      "\n"
     ]
    }
   ],
   "source": [
    "gs_rbf_svc_cv10_500C = tuning_hyper_params(X_train_500.reshape(-1,784), y_train_500, 'rbf', 10, 'accuracy', np.logspace(0,1.5,9), np.logspace(-2.5,-1.5,5))"
   ]
  },
  {
   "cell_type": "code",
   "execution_count": 331,
   "metadata": {},
   "outputs": [
    {
     "name": "stdout",
     "output_type": "stream",
     "text": [
      "Tuning Hyperparameter zu Score accuracy\n",
      "\n",
      "Zeit für Suche:  205.59875965118408\n",
      "Zeit für Suche:  3.026419400000009\n",
      "Zeit für Suche:  205.5986959351212\n",
      "Besten gefundenen Parameter lauten:\n",
      "\n",
      "{'C': 5.623413251903491, 'gamma': 0.01, 'kernel': 'rbf'}\n",
      "\n",
      "0.746 (+/-0.065) for {'C': 1.0, 'gamma': 0.0031622776601683794, 'kernel': 'rbf'}\n",
      "0.758 (+/-0.081) for {'C': 1.0, 'gamma': 0.004641588833612777, 'kernel': 'rbf'}\n",
      "0.754 (+/-0.095) for {'C': 1.0, 'gamma': 0.006812920690579615, 'kernel': 'rbf'}\n",
      "0.760 (+/-0.101) for {'C': 1.0, 'gamma': 0.01, 'kernel': 'rbf'}\n",
      "0.762 (+/-0.100) for {'C': 1.0, 'gamma': 0.01467799267622069, 'kernel': 'rbf'}\n",
      "0.772 (+/-0.097) for {'C': 1.0, 'gamma': 0.021544346900318832, 'kernel': 'rbf'}\n",
      "0.782 (+/-0.107) for {'C': 1.0, 'gamma': 0.03162277660168379, 'kernel': 'rbf'}\n",
      "0.752 (+/-0.084) for {'C': 1.4125375446227544, 'gamma': 0.0031622776601683794, 'kernel': 'rbf'}\n",
      "0.758 (+/-0.103) for {'C': 1.4125375446227544, 'gamma': 0.004641588833612777, 'kernel': 'rbf'}\n",
      "0.756 (+/-0.098) for {'C': 1.4125375446227544, 'gamma': 0.006812920690579615, 'kernel': 'rbf'}\n",
      "0.766 (+/-0.110) for {'C': 1.4125375446227544, 'gamma': 0.01, 'kernel': 'rbf'}\n",
      "0.780 (+/-0.116) for {'C': 1.4125375446227544, 'gamma': 0.01467799267622069, 'kernel': 'rbf'}\n",
      "0.788 (+/-0.090) for {'C': 1.4125375446227544, 'gamma': 0.021544346900318832, 'kernel': 'rbf'}\n",
      "0.790 (+/-0.095) for {'C': 1.4125375446227544, 'gamma': 0.03162277660168379, 'kernel': 'rbf'}\n",
      "0.762 (+/-0.108) for {'C': 1.9952623149688795, 'gamma': 0.0031622776601683794, 'kernel': 'rbf'}\n",
      "0.760 (+/-0.112) for {'C': 1.9952623149688795, 'gamma': 0.004641588833612777, 'kernel': 'rbf'}\n",
      "0.772 (+/-0.115) for {'C': 1.9952623149688795, 'gamma': 0.006812920690579615, 'kernel': 'rbf'}\n",
      "0.780 (+/-0.116) for {'C': 1.9952623149688795, 'gamma': 0.01, 'kernel': 'rbf'}\n",
      "0.786 (+/-0.106) for {'C': 1.9952623149688795, 'gamma': 0.01467799267622069, 'kernel': 'rbf'}\n",
      "0.784 (+/-0.096) for {'C': 1.9952623149688795, 'gamma': 0.021544346900318832, 'kernel': 'rbf'}\n",
      "0.784 (+/-0.093) for {'C': 1.9952623149688795, 'gamma': 0.03162277660168379, 'kernel': 'rbf'}\n",
      "0.760 (+/-0.112) for {'C': 2.8183829312644537, 'gamma': 0.0031622776601683794, 'kernel': 'rbf'}\n",
      "0.774 (+/-0.121) for {'C': 2.8183829312644537, 'gamma': 0.004641588833612777, 'kernel': 'rbf'}\n",
      "0.784 (+/-0.114) for {'C': 2.8183829312644537, 'gamma': 0.006812920690579615, 'kernel': 'rbf'}\n",
      "0.790 (+/-0.116) for {'C': 2.8183829312644537, 'gamma': 0.01, 'kernel': 'rbf'}\n",
      "0.798 (+/-0.105) for {'C': 2.8183829312644537, 'gamma': 0.01467799267622069, 'kernel': 'rbf'}\n",
      "0.786 (+/-0.078) for {'C': 2.8183829312644537, 'gamma': 0.021544346900318832, 'kernel': 'rbf'}\n",
      "0.788 (+/-0.093) for {'C': 2.8183829312644537, 'gamma': 0.03162277660168379, 'kernel': 'rbf'}\n",
      "0.772 (+/-0.116) for {'C': 3.9810717055349722, 'gamma': 0.0031622776601683794, 'kernel': 'rbf'}\n",
      "0.786 (+/-0.100) for {'C': 3.9810717055349722, 'gamma': 0.004641588833612777, 'kernel': 'rbf'}\n",
      "0.796 (+/-0.109) for {'C': 3.9810717055349722, 'gamma': 0.006812920690579615, 'kernel': 'rbf'}\n",
      "0.802 (+/-0.095) for {'C': 3.9810717055349722, 'gamma': 0.01, 'kernel': 'rbf'}\n",
      "0.794 (+/-0.086) for {'C': 3.9810717055349722, 'gamma': 0.01467799267622069, 'kernel': 'rbf'}\n",
      "0.798 (+/-0.092) for {'C': 3.9810717055349722, 'gamma': 0.021544346900318832, 'kernel': 'rbf'}\n",
      "0.794 (+/-0.101) for {'C': 3.9810717055349722, 'gamma': 0.03162277660168379, 'kernel': 'rbf'}\n",
      "0.782 (+/-0.095) for {'C': 5.623413251903491, 'gamma': 0.0031622776601683794, 'kernel': 'rbf'}\n",
      "0.794 (+/-0.104) for {'C': 5.623413251903491, 'gamma': 0.004641588833612777, 'kernel': 'rbf'}\n",
      "0.802 (+/-0.094) for {'C': 5.623413251903491, 'gamma': 0.006812920690579615, 'kernel': 'rbf'}\n",
      "0.804 (+/-0.078) for {'C': 5.623413251903491, 'gamma': 0.01, 'kernel': 'rbf'}\n",
      "0.798 (+/-0.092) for {'C': 5.623413251903491, 'gamma': 0.01467799267622069, 'kernel': 'rbf'}\n",
      "0.792 (+/-0.100) for {'C': 5.623413251903491, 'gamma': 0.021544346900318832, 'kernel': 'rbf'}\n",
      "0.792 (+/-0.105) for {'C': 5.623413251903491, 'gamma': 0.03162277660168379, 'kernel': 'rbf'}\n",
      "0.786 (+/-0.090) for {'C': 7.943282347242813, 'gamma': 0.0031622776601683794, 'kernel': 'rbf'}\n",
      "0.798 (+/-0.097) for {'C': 7.943282347242813, 'gamma': 0.004641588833612777, 'kernel': 'rbf'}\n",
      "0.796 (+/-0.069) for {'C': 7.943282347242813, 'gamma': 0.006812920690579615, 'kernel': 'rbf'}\n",
      "0.798 (+/-0.090) for {'C': 7.943282347242813, 'gamma': 0.01, 'kernel': 'rbf'}\n",
      "0.794 (+/-0.090) for {'C': 7.943282347242813, 'gamma': 0.01467799267622069, 'kernel': 'rbf'}\n",
      "0.794 (+/-0.098) for {'C': 7.943282347242813, 'gamma': 0.021544346900318832, 'kernel': 'rbf'}\n",
      "0.792 (+/-0.105) for {'C': 7.943282347242813, 'gamma': 0.03162277660168379, 'kernel': 'rbf'}\n",
      "0.798 (+/-0.087) for {'C': 11.220184543019636, 'gamma': 0.0031622776601683794, 'kernel': 'rbf'}\n",
      "0.792 (+/-0.080) for {'C': 11.220184543019636, 'gamma': 0.004641588833612777, 'kernel': 'rbf'}\n",
      "0.788 (+/-0.093) for {'C': 11.220184543019636, 'gamma': 0.006812920690579615, 'kernel': 'rbf'}\n",
      "0.800 (+/-0.080) for {'C': 11.220184543019636, 'gamma': 0.01, 'kernel': 'rbf'}\n",
      "0.796 (+/-0.087) for {'C': 11.220184543019636, 'gamma': 0.01467799267622069, 'kernel': 'rbf'}\n",
      "0.794 (+/-0.098) for {'C': 11.220184543019636, 'gamma': 0.021544346900318832, 'kernel': 'rbf'}\n",
      "0.792 (+/-0.105) for {'C': 11.220184543019636, 'gamma': 0.03162277660168379, 'kernel': 'rbf'}\n",
      "0.796 (+/-0.078) for {'C': 15.848931924611133, 'gamma': 0.0031622776601683794, 'kernel': 'rbf'}\n",
      "0.780 (+/-0.086) for {'C': 15.848931924611133, 'gamma': 0.004641588833612777, 'kernel': 'rbf'}\n",
      "0.792 (+/-0.080) for {'C': 15.848931924611133, 'gamma': 0.006812920690579615, 'kernel': 'rbf'}\n",
      "0.798 (+/-0.079) for {'C': 15.848931924611133, 'gamma': 0.01, 'kernel': 'rbf'}\n",
      "0.796 (+/-0.087) for {'C': 15.848931924611133, 'gamma': 0.01467799267622069, 'kernel': 'rbf'}\n",
      "0.794 (+/-0.098) for {'C': 15.848931924611133, 'gamma': 0.021544346900318832, 'kernel': 'rbf'}\n",
      "0.792 (+/-0.105) for {'C': 15.848931924611133, 'gamma': 0.03162277660168379, 'kernel': 'rbf'}\n",
      "0.784 (+/-0.101) for {'C': 22.38721138568339, 'gamma': 0.0031622776601683794, 'kernel': 'rbf'}\n",
      "0.796 (+/-0.096) for {'C': 22.38721138568339, 'gamma': 0.004641588833612777, 'kernel': 'rbf'}\n",
      "0.792 (+/-0.080) for {'C': 22.38721138568339, 'gamma': 0.006812920690579615, 'kernel': 'rbf'}\n",
      "0.798 (+/-0.079) for {'C': 22.38721138568339, 'gamma': 0.01, 'kernel': 'rbf'}\n",
      "0.796 (+/-0.087) for {'C': 22.38721138568339, 'gamma': 0.01467799267622069, 'kernel': 'rbf'}\n",
      "0.794 (+/-0.098) for {'C': 22.38721138568339, 'gamma': 0.021544346900318832, 'kernel': 'rbf'}\n",
      "0.792 (+/-0.105) for {'C': 22.38721138568339, 'gamma': 0.03162277660168379, 'kernel': 'rbf'}\n",
      "0.780 (+/-0.104) for {'C': 31.622776601683793, 'gamma': 0.0031622776601683794, 'kernel': 'rbf'}\n",
      "0.790 (+/-0.095) for {'C': 31.622776601683793, 'gamma': 0.004641588833612777, 'kernel': 'rbf'}\n",
      "0.792 (+/-0.080) for {'C': 31.622776601683793, 'gamma': 0.006812920690579615, 'kernel': 'rbf'}\n",
      "0.798 (+/-0.079) for {'C': 31.622776601683793, 'gamma': 0.01, 'kernel': 'rbf'}\n",
      "0.796 (+/-0.087) for {'C': 31.622776601683793, 'gamma': 0.01467799267622069, 'kernel': 'rbf'}\n",
      "0.794 (+/-0.098) for {'C': 31.622776601683793, 'gamma': 0.021544346900318832, 'kernel': 'rbf'}\n",
      "0.792 (+/-0.105) for {'C': 31.622776601683793, 'gamma': 0.03162277660168379, 'kernel': 'rbf'}\n",
      "\n",
      "Klassifikationsreport\n",
      "\n",
      "              precision    recall  f1-score   support\n",
      "\n",
      "           0       0.80      0.70      0.75      1000\n",
      "           1       0.99      0.93      0.96      1000\n",
      "           2       0.66      0.69      0.67      1000\n",
      "           3       0.77      0.82      0.79      1000\n",
      "           4       0.63      0.72      0.68      1000\n",
      "           5       0.88      0.91      0.89      1000\n",
      "           6       0.53      0.50      0.51      1000\n",
      "           7       0.87      0.88      0.87      1000\n",
      "           8       0.94      0.91      0.93      1000\n",
      "           9       0.91      0.91      0.91      1000\n",
      "\n",
      "   micro avg       0.79      0.79      0.79     10000\n",
      "   macro avg       0.80      0.79      0.80     10000\n",
      "weighted avg       0.80      0.79      0.80     10000\n",
      "\n",
      "\n"
     ]
    }
   ],
   "source": [
    "gs_rbf_svc_cv10_500D = tuning_hyper_params(X_train_500.reshape(-1,784), y_train_500, 'rbf', 10, 'accuracy', np.logspace(0,1.5,11), np.logspace(-2.5,-1.5,7))"
   ]
  },
  {
   "cell_type": "code",
   "execution_count": 336,
   "metadata": {},
   "outputs": [
    {
     "name": "stdout",
     "output_type": "stream",
     "text": [
      "Tuning Hyperparameter zu Score accuracy\n",
      "\n",
      "Zeit für Suche:  309.23968744277954\n",
      "Zeit für Suche:  4.992031999999995\n",
      "Zeit für Suche:  309.24001244822284\n",
      "Besten gefundenen Parameter lauten:\n",
      "\n",
      "{'C': 4.216965034285822, 'gamma': 0.01, 'kernel': 'rbf'}\n",
      "\n",
      "0.746 (+/-0.065) for {'C': 1.0, 'gamma': 0.0031622776601683794, 'kernel': 'rbf'}\n",
      "0.752 (+/-0.076) for {'C': 1.0, 'gamma': 0.004216965034285823, 'kernel': 'rbf'}\n",
      "0.754 (+/-0.088) for {'C': 1.0, 'gamma': 0.005623413251903491, 'kernel': 'rbf'}\n",
      "0.756 (+/-0.098) for {'C': 1.0, 'gamma': 0.007498942093324558, 'kernel': 'rbf'}\n",
      "0.760 (+/-0.101) for {'C': 1.0, 'gamma': 0.01, 'kernel': 'rbf'}\n",
      "0.760 (+/-0.101) for {'C': 1.0, 'gamma': 0.01333521432163324, 'kernel': 'rbf'}\n",
      "0.764 (+/-0.099) for {'C': 1.0, 'gamma': 0.01778279410038923, 'kernel': 'rbf'}\n",
      "0.780 (+/-0.107) for {'C': 1.0, 'gamma': 0.023713737056616554, 'kernel': 'rbf'}\n",
      "0.782 (+/-0.107) for {'C': 1.0, 'gamma': 0.03162277660168379, 'kernel': 'rbf'}\n",
      "0.752 (+/-0.078) for {'C': 1.333521432163324, 'gamma': 0.0031622776601683794, 'kernel': 'rbf'}\n",
      "0.756 (+/-0.087) for {'C': 1.333521432163324, 'gamma': 0.004216965034285823, 'kernel': 'rbf'}\n",
      "0.756 (+/-0.099) for {'C': 1.333521432163324, 'gamma': 0.005623413251903491, 'kernel': 'rbf'}\n",
      "0.758 (+/-0.102) for {'C': 1.333521432163324, 'gamma': 0.007498942093324558, 'kernel': 'rbf'}\n",
      "0.764 (+/-0.110) for {'C': 1.333521432163324, 'gamma': 0.01, 'kernel': 'rbf'}\n",
      "0.772 (+/-0.106) for {'C': 1.333521432163324, 'gamma': 0.01333521432163324, 'kernel': 'rbf'}\n",
      "0.778 (+/-0.105) for {'C': 1.333521432163324, 'gamma': 0.01778279410038923, 'kernel': 'rbf'}\n",
      "0.786 (+/-0.090) for {'C': 1.333521432163324, 'gamma': 0.023713737056616554, 'kernel': 'rbf'}\n",
      "0.788 (+/-0.092) for {'C': 1.333521432163324, 'gamma': 0.03162277660168379, 'kernel': 'rbf'}\n",
      "0.762 (+/-0.097) for {'C': 1.7782794100389228, 'gamma': 0.0031622776601683794, 'kernel': 'rbf'}\n",
      "0.762 (+/-0.115) for {'C': 1.7782794100389228, 'gamma': 0.004216965034285823, 'kernel': 'rbf'}\n",
      "0.764 (+/-0.111) for {'C': 1.7782794100389228, 'gamma': 0.005623413251903491, 'kernel': 'rbf'}\n",
      "0.770 (+/-0.113) for {'C': 1.7782794100389228, 'gamma': 0.007498942093324558, 'kernel': 'rbf'}\n",
      "0.778 (+/-0.115) for {'C': 1.7782794100389228, 'gamma': 0.01, 'kernel': 'rbf'}\n",
      "0.782 (+/-0.119) for {'C': 1.7782794100389228, 'gamma': 0.01333521432163324, 'kernel': 'rbf'}\n",
      "0.784 (+/-0.093) for {'C': 1.7782794100389228, 'gamma': 0.01778279410038923, 'kernel': 'rbf'}\n",
      "0.788 (+/-0.090) for {'C': 1.7782794100389228, 'gamma': 0.023713737056616554, 'kernel': 'rbf'}\n",
      "0.786 (+/-0.088) for {'C': 1.7782794100389228, 'gamma': 0.03162277660168379, 'kernel': 'rbf'}\n",
      "0.764 (+/-0.120) for {'C': 2.371373705661655, 'gamma': 0.0031622776601683794, 'kernel': 'rbf'}\n",
      "0.768 (+/-0.113) for {'C': 2.371373705661655, 'gamma': 0.004216965034285823, 'kernel': 'rbf'}\n",
      "0.772 (+/-0.115) for {'C': 2.371373705661655, 'gamma': 0.005623413251903491, 'kernel': 'rbf'}\n",
      "0.776 (+/-0.113) for {'C': 2.371373705661655, 'gamma': 0.007498942093324558, 'kernel': 'rbf'}\n",
      "0.782 (+/-0.109) for {'C': 2.371373705661655, 'gamma': 0.01, 'kernel': 'rbf'}\n",
      "0.788 (+/-0.093) for {'C': 2.371373705661655, 'gamma': 0.01333521432163324, 'kernel': 'rbf'}\n",
      "0.786 (+/-0.100) for {'C': 2.371373705661655, 'gamma': 0.01778279410038923, 'kernel': 'rbf'}\n",
      "0.786 (+/-0.096) for {'C': 2.371373705661655, 'gamma': 0.023713737056616554, 'kernel': 'rbf'}\n",
      "0.790 (+/-0.090) for {'C': 2.371373705661655, 'gamma': 0.03162277660168379, 'kernel': 'rbf'}\n",
      "0.770 (+/-0.120) for {'C': 3.1622776601683795, 'gamma': 0.0031622776601683794, 'kernel': 'rbf'}\n",
      "0.774 (+/-0.119) for {'C': 3.1622776601683795, 'gamma': 0.004216965034285823, 'kernel': 'rbf'}\n",
      "0.780 (+/-0.120) for {'C': 3.1622776601683795, 'gamma': 0.005623413251903491, 'kernel': 'rbf'}\n",
      "0.792 (+/-0.105) for {'C': 3.1622776601683795, 'gamma': 0.007498942093324558, 'kernel': 'rbf'}\n",
      "0.798 (+/-0.092) for {'C': 3.1622776601683795, 'gamma': 0.01, 'kernel': 'rbf'}\n",
      "0.798 (+/-0.102) for {'C': 3.1622776601683795, 'gamma': 0.01333521432163324, 'kernel': 'rbf'}\n",
      "0.784 (+/-0.091) for {'C': 3.1622776601683795, 'gamma': 0.01778279410038923, 'kernel': 'rbf'}\n",
      "0.792 (+/-0.093) for {'C': 3.1622776601683795, 'gamma': 0.023713737056616554, 'kernel': 'rbf'}\n",
      "0.788 (+/-0.095) for {'C': 3.1622776601683795, 'gamma': 0.03162277660168379, 'kernel': 'rbf'}\n",
      "0.772 (+/-0.116) for {'C': 4.216965034285822, 'gamma': 0.0031622776601683794, 'kernel': 'rbf'}\n",
      "0.786 (+/-0.100) for {'C': 4.216965034285822, 'gamma': 0.004216965034285823, 'kernel': 'rbf'}\n",
      "0.792 (+/-0.100) for {'C': 4.216965034285822, 'gamma': 0.005623413251903491, 'kernel': 'rbf'}\n",
      "0.800 (+/-0.089) for {'C': 4.216965034285822, 'gamma': 0.007498942093324558, 'kernel': 'rbf'}\n",
      "0.804 (+/-0.099) for {'C': 4.216965034285822, 'gamma': 0.01, 'kernel': 'rbf'}\n",
      "0.798 (+/-0.081) for {'C': 4.216965034285822, 'gamma': 0.01333521432163324, 'kernel': 'rbf'}\n",
      "0.798 (+/-0.083) for {'C': 4.216965034285822, 'gamma': 0.01778279410038923, 'kernel': 'rbf'}\n",
      "0.796 (+/-0.099) for {'C': 4.216965034285822, 'gamma': 0.023713737056616554, 'kernel': 'rbf'}\n",
      "0.792 (+/-0.105) for {'C': 4.216965034285822, 'gamma': 0.03162277660168379, 'kernel': 'rbf'}\n",
      "0.782 (+/-0.095) for {'C': 5.623413251903491, 'gamma': 0.0031622776601683794, 'kernel': 'rbf'}\n",
      "0.790 (+/-0.095) for {'C': 5.623413251903491, 'gamma': 0.004216965034285823, 'kernel': 'rbf'}\n",
      "0.798 (+/-0.094) for {'C': 5.623413251903491, 'gamma': 0.005623413251903491, 'kernel': 'rbf'}\n",
      "0.802 (+/-0.094) for {'C': 5.623413251903491, 'gamma': 0.007498942093324558, 'kernel': 'rbf'}\n",
      "0.804 (+/-0.078) for {'C': 5.623413251903491, 'gamma': 0.01, 'kernel': 'rbf'}\n",
      "0.798 (+/-0.094) for {'C': 5.623413251903491, 'gamma': 0.01333521432163324, 'kernel': 'rbf'}\n",
      "0.796 (+/-0.080) for {'C': 5.623413251903491, 'gamma': 0.01778279410038923, 'kernel': 'rbf'}\n",
      "0.796 (+/-0.102) for {'C': 5.623413251903491, 'gamma': 0.023713737056616554, 'kernel': 'rbf'}\n",
      "0.792 (+/-0.105) for {'C': 5.623413251903491, 'gamma': 0.03162277660168379, 'kernel': 'rbf'}\n",
      "0.786 (+/-0.090) for {'C': 7.498942093324558, 'gamma': 0.0031622776601683794, 'kernel': 'rbf'}\n",
      "0.800 (+/-0.093) for {'C': 7.498942093324558, 'gamma': 0.004216965034285823, 'kernel': 'rbf'}\n",
      "0.798 (+/-0.097) for {'C': 7.498942093324558, 'gamma': 0.005623413251903491, 'kernel': 'rbf'}\n",
      "0.798 (+/-0.075) for {'C': 7.498942093324558, 'gamma': 0.007498942093324558, 'kernel': 'rbf'}\n",
      "0.800 (+/-0.088) for {'C': 7.498942093324558, 'gamma': 0.01, 'kernel': 'rbf'}\n",
      "0.800 (+/-0.089) for {'C': 7.498942093324558, 'gamma': 0.01333521432163324, 'kernel': 'rbf'}\n",
      "0.798 (+/-0.079) for {'C': 7.498942093324558, 'gamma': 0.01778279410038923, 'kernel': 'rbf'}\n",
      "0.798 (+/-0.100) for {'C': 7.498942093324558, 'gamma': 0.023713737056616554, 'kernel': 'rbf'}\n",
      "0.792 (+/-0.105) for {'C': 7.498942093324558, 'gamma': 0.03162277660168379, 'kernel': 'rbf'}\n",
      "0.796 (+/-0.098) for {'C': 10.0, 'gamma': 0.0031622776601683794, 'kernel': 'rbf'}\n",
      "0.796 (+/-0.093) for {'C': 10.0, 'gamma': 0.004216965034285823, 'kernel': 'rbf'}\n",
      "0.792 (+/-0.080) for {'C': 10.0, 'gamma': 0.005623413251903491, 'kernel': 'rbf'}\n",
      "0.790 (+/-0.088) for {'C': 10.0, 'gamma': 0.007498942093324558, 'kernel': 'rbf'}\n",
      "0.796 (+/-0.082) for {'C': 10.0, 'gamma': 0.01, 'kernel': 'rbf'}\n",
      "0.798 (+/-0.087) for {'C': 10.0, 'gamma': 0.01333521432163324, 'kernel': 'rbf'}\n",
      "0.800 (+/-0.076) for {'C': 10.0, 'gamma': 0.01778279410038923, 'kernel': 'rbf'}\n",
      "0.798 (+/-0.100) for {'C': 10.0, 'gamma': 0.023713737056616554, 'kernel': 'rbf'}\n",
      "0.792 (+/-0.105) for {'C': 10.0, 'gamma': 0.03162277660168379, 'kernel': 'rbf'}\n",
      "0.800 (+/-0.078) for {'C': 13.33521432163324, 'gamma': 0.0031622776601683794, 'kernel': 'rbf'}\n",
      "0.792 (+/-0.080) for {'C': 13.33521432163324, 'gamma': 0.004216965034285823, 'kernel': 'rbf'}\n",
      "0.786 (+/-0.093) for {'C': 13.33521432163324, 'gamma': 0.005623413251903491, 'kernel': 'rbf'}\n",
      "0.792 (+/-0.080) for {'C': 13.33521432163324, 'gamma': 0.007498942093324558, 'kernel': 'rbf'}\n",
      "0.798 (+/-0.079) for {'C': 13.33521432163324, 'gamma': 0.01, 'kernel': 'rbf'}\n",
      "0.798 (+/-0.087) for {'C': 13.33521432163324, 'gamma': 0.01333521432163324, 'kernel': 'rbf'}\n",
      "0.800 (+/-0.076) for {'C': 13.33521432163324, 'gamma': 0.01778279410038923, 'kernel': 'rbf'}\n",
      "0.798 (+/-0.100) for {'C': 13.33521432163324, 'gamma': 0.023713737056616554, 'kernel': 'rbf'}\n",
      "0.792 (+/-0.105) for {'C': 13.33521432163324, 'gamma': 0.03162277660168379, 'kernel': 'rbf'}\n",
      "0.790 (+/-0.090) for {'C': 17.78279410038923, 'gamma': 0.0031622776601683794, 'kernel': 'rbf'}\n",
      "0.778 (+/-0.097) for {'C': 17.78279410038923, 'gamma': 0.004216965034285823, 'kernel': 'rbf'}\n",
      "0.794 (+/-0.093) for {'C': 17.78279410038923, 'gamma': 0.005623413251903491, 'kernel': 'rbf'}\n",
      "0.794 (+/-0.076) for {'C': 17.78279410038923, 'gamma': 0.007498942093324558, 'kernel': 'rbf'}\n",
      "0.798 (+/-0.079) for {'C': 17.78279410038923, 'gamma': 0.01, 'kernel': 'rbf'}\n",
      "0.798 (+/-0.087) for {'C': 17.78279410038923, 'gamma': 0.01333521432163324, 'kernel': 'rbf'}\n",
      "0.800 (+/-0.076) for {'C': 17.78279410038923, 'gamma': 0.01778279410038923, 'kernel': 'rbf'}\n",
      "0.798 (+/-0.100) for {'C': 17.78279410038923, 'gamma': 0.023713737056616554, 'kernel': 'rbf'}\n",
      "0.792 (+/-0.105) for {'C': 17.78279410038923, 'gamma': 0.03162277660168379, 'kernel': 'rbf'}\n",
      "0.780 (+/-0.106) for {'C': 23.71373705661655, 'gamma': 0.0031622776601683794, 'kernel': 'rbf'}\n",
      "0.790 (+/-0.103) for {'C': 23.71373705661655, 'gamma': 0.004216965034285823, 'kernel': 'rbf'}\n",
      "0.792 (+/-0.088) for {'C': 23.71373705661655, 'gamma': 0.005623413251903491, 'kernel': 'rbf'}\n",
      "0.794 (+/-0.076) for {'C': 23.71373705661655, 'gamma': 0.007498942093324558, 'kernel': 'rbf'}\n",
      "0.798 (+/-0.079) for {'C': 23.71373705661655, 'gamma': 0.01, 'kernel': 'rbf'}\n",
      "0.798 (+/-0.087) for {'C': 23.71373705661655, 'gamma': 0.01333521432163324, 'kernel': 'rbf'}\n",
      "0.800 (+/-0.076) for {'C': 23.71373705661655, 'gamma': 0.01778279410038923, 'kernel': 'rbf'}\n",
      "0.798 (+/-0.100) for {'C': 23.71373705661655, 'gamma': 0.023713737056616554, 'kernel': 'rbf'}\n",
      "0.792 (+/-0.105) for {'C': 23.71373705661655, 'gamma': 0.03162277660168379, 'kernel': 'rbf'}\n",
      "0.780 (+/-0.104) for {'C': 31.622776601683793, 'gamma': 0.0031622776601683794, 'kernel': 'rbf'}\n",
      "0.786 (+/-0.101) for {'C': 31.622776601683793, 'gamma': 0.004216965034285823, 'kernel': 'rbf'}\n",
      "0.792 (+/-0.088) for {'C': 31.622776601683793, 'gamma': 0.005623413251903491, 'kernel': 'rbf'}\n",
      "0.794 (+/-0.076) for {'C': 31.622776601683793, 'gamma': 0.007498942093324558, 'kernel': 'rbf'}\n",
      "0.798 (+/-0.079) for {'C': 31.622776601683793, 'gamma': 0.01, 'kernel': 'rbf'}\n",
      "0.798 (+/-0.087) for {'C': 31.622776601683793, 'gamma': 0.01333521432163324, 'kernel': 'rbf'}\n",
      "0.800 (+/-0.076) for {'C': 31.622776601683793, 'gamma': 0.01778279410038923, 'kernel': 'rbf'}\n",
      "0.798 (+/-0.100) for {'C': 31.622776601683793, 'gamma': 0.023713737056616554, 'kernel': 'rbf'}\n",
      "0.792 (+/-0.105) for {'C': 31.622776601683793, 'gamma': 0.03162277660168379, 'kernel': 'rbf'}\n",
      "\n",
      "Klassifikationsreport\n",
      "\n"
     ]
    },
    {
     "name": "stdout",
     "output_type": "stream",
     "text": [
      "              precision    recall  f1-score   support\n",
      "\n",
      "           0       0.81      0.71      0.75      1000\n",
      "           1       0.99      0.93      0.96      1000\n",
      "           2       0.67      0.66      0.67      1000\n",
      "           3       0.77      0.83      0.79      1000\n",
      "           4       0.63      0.73      0.68      1000\n",
      "           5       0.88      0.91      0.89      1000\n",
      "           6       0.53      0.49      0.51      1000\n",
      "           7       0.88      0.88      0.88      1000\n",
      "           8       0.94      0.91      0.92      1000\n",
      "           9       0.91      0.91      0.91      1000\n",
      "\n",
      "   micro avg       0.80      0.80      0.80     10000\n",
      "   macro avg       0.80      0.80      0.80     10000\n",
      "weighted avg       0.80      0.80      0.80     10000\n",
      "\n",
      "\n"
     ]
    }
   ],
   "source": [
    "gs_rbf_svc_cv10_500E = tuning_hyper_params(X_train_500.reshape(-1,784), y_train_500, 'rbf', 10, 'accuracy', np.logspace(0,1.5,13), np.logspace(-2.5,-1.5,9))"
   ]
  },
  {
   "cell_type": "code",
   "execution_count": 337,
   "metadata": {},
   "outputs": [
    {
     "data": {
      "text/plain": [
       "0.7953"
      ]
     },
     "execution_count": 337,
     "metadata": {},
     "output_type": "execute_result"
    }
   ],
   "source": [
    "gs_rbf_svc_cv10_500E.score(X_test.reshape(-1,784), y_test)"
   ]
  },
  {
   "cell_type": "code",
   "execution_count": 338,
   "metadata": {},
   "outputs": [
    {
     "data": {
      "text/plain": [
       "0.7949"
      ]
     },
     "execution_count": 338,
     "metadata": {},
     "output_type": "execute_result"
    }
   ],
   "source": [
    "gs_rbf_svc_cv10_500D.score(X_test.reshape(-1,784), y_test)"
   ]
  },
  {
   "cell_type": "code",
   "execution_count": 335,
   "metadata": {},
   "outputs": [
    {
     "data": {
      "text/plain": [
       "array([0.003, 0.004, 0.006, 0.007, 0.01 , 0.013, 0.018, 0.024, 0.032])"
      ]
     },
     "execution_count": 335,
     "metadata": {},
     "output_type": "execute_result"
    }
   ],
   "source": [
    "np.logspace(-2.5,-1.5,9)"
   ]
  },
  {
   "cell_type": "code",
   "execution_count": 182,
   "metadata": {},
   "outputs": [
    {
     "name": "stdout",
     "output_type": "stream",
     "text": [
      "Tuning Hyperparameter zu Score accuracy\n",
      "\n",
      "Zeit für Suche:  187.19908142089844\n",
      "Zeit für Suche:  1.9656125999999858\n",
      "Zeit für Suche:  187.21002000954695\n",
      "Besten gefundenen Parameter lauten:\n",
      "\n",
      "{'C': 100.0, 'gamma': 0.001, 'kernel': 'sigmoid'}\n",
      "\n",
      "0.624 (+/-0.110) for {'C': 0.0001, 'gamma': 0.0001, 'kernel': 'sigmoid'}\n",
      "0.630 (+/-0.105) for {'C': 0.0001, 'gamma': 0.001, 'kernel': 'sigmoid'}\n",
      "0.572 (+/-0.076) for {'C': 0.0001, 'gamma': 0.01, 'kernel': 'sigmoid'}\n",
      "0.086 (+/-0.074) for {'C': 0.0001, 'gamma': 0.1, 'kernel': 'sigmoid'}\n",
      "0.054 (+/-0.065) for {'C': 0.0001, 'gamma': 1.0, 'kernel': 'sigmoid'}\n",
      "0.100 (+/-0.000) for {'C': 0.0001, 'gamma': 10.0, 'kernel': 'sigmoid'}\n",
      "0.100 (+/-0.000) for {'C': 0.0001, 'gamma': 100.0, 'kernel': 'sigmoid'}\n",
      "0.624 (+/-0.110) for {'C': 0.001, 'gamma': 0.0001, 'kernel': 'sigmoid'}\n",
      "0.630 (+/-0.105) for {'C': 0.001, 'gamma': 0.001, 'kernel': 'sigmoid'}\n",
      "0.572 (+/-0.076) for {'C': 0.001, 'gamma': 0.01, 'kernel': 'sigmoid'}\n",
      "0.086 (+/-0.074) for {'C': 0.001, 'gamma': 0.1, 'kernel': 'sigmoid'}\n",
      "0.102 (+/-0.012) for {'C': 0.001, 'gamma': 1.0, 'kernel': 'sigmoid'}\n",
      "0.100 (+/-0.000) for {'C': 0.001, 'gamma': 10.0, 'kernel': 'sigmoid'}\n",
      "0.100 (+/-0.000) for {'C': 0.001, 'gamma': 100.0, 'kernel': 'sigmoid'}\n",
      "0.624 (+/-0.110) for {'C': 0.01, 'gamma': 0.0001, 'kernel': 'sigmoid'}\n",
      "0.630 (+/-0.105) for {'C': 0.01, 'gamma': 0.001, 'kernel': 'sigmoid'}\n",
      "0.572 (+/-0.076) for {'C': 0.01, 'gamma': 0.01, 'kernel': 'sigmoid'}\n",
      "0.086 (+/-0.074) for {'C': 0.01, 'gamma': 0.1, 'kernel': 'sigmoid'}\n",
      "0.102 (+/-0.012) for {'C': 0.01, 'gamma': 1.0, 'kernel': 'sigmoid'}\n",
      "0.100 (+/-0.000) for {'C': 0.01, 'gamma': 10.0, 'kernel': 'sigmoid'}\n",
      "0.100 (+/-0.000) for {'C': 0.01, 'gamma': 100.0, 'kernel': 'sigmoid'}\n",
      "0.624 (+/-0.110) for {'C': 0.1, 'gamma': 0.0001, 'kernel': 'sigmoid'}\n",
      "0.630 (+/-0.105) for {'C': 0.1, 'gamma': 0.001, 'kernel': 'sigmoid'}\n",
      "0.572 (+/-0.076) for {'C': 0.1, 'gamma': 0.01, 'kernel': 'sigmoid'}\n",
      "0.086 (+/-0.074) for {'C': 0.1, 'gamma': 0.1, 'kernel': 'sigmoid'}\n",
      "0.102 (+/-0.012) for {'C': 0.1, 'gamma': 1.0, 'kernel': 'sigmoid'}\n",
      "0.100 (+/-0.000) for {'C': 0.1, 'gamma': 10.0, 'kernel': 'sigmoid'}\n",
      "0.100 (+/-0.000) for {'C': 0.1, 'gamma': 100.0, 'kernel': 'sigmoid'}\n",
      "0.624 (+/-0.110) for {'C': 1.0, 'gamma': 0.0001, 'kernel': 'sigmoid'}\n",
      "0.668 (+/-0.070) for {'C': 1.0, 'gamma': 0.001, 'kernel': 'sigmoid'}\n",
      "0.498 (+/-0.088) for {'C': 1.0, 'gamma': 0.01, 'kernel': 'sigmoid'}\n",
      "0.088 (+/-0.092) for {'C': 1.0, 'gamma': 0.1, 'kernel': 'sigmoid'}\n",
      "0.102 (+/-0.012) for {'C': 1.0, 'gamma': 1.0, 'kernel': 'sigmoid'}\n",
      "0.100 (+/-0.000) for {'C': 1.0, 'gamma': 10.0, 'kernel': 'sigmoid'}\n",
      "0.100 (+/-0.000) for {'C': 1.0, 'gamma': 100.0, 'kernel': 'sigmoid'}\n",
      "0.668 (+/-0.074) for {'C': 10.0, 'gamma': 0.0001, 'kernel': 'sigmoid'}\n",
      "0.762 (+/-0.111) for {'C': 10.0, 'gamma': 0.001, 'kernel': 'sigmoid'}\n",
      "0.442 (+/-0.125) for {'C': 10.0, 'gamma': 0.01, 'kernel': 'sigmoid'}\n",
      "0.136 (+/-0.080) for {'C': 10.0, 'gamma': 0.1, 'kernel': 'sigmoid'}\n",
      "0.102 (+/-0.012) for {'C': 10.0, 'gamma': 1.0, 'kernel': 'sigmoid'}\n",
      "0.100 (+/-0.000) for {'C': 10.0, 'gamma': 10.0, 'kernel': 'sigmoid'}\n",
      "0.100 (+/-0.000) for {'C': 10.0, 'gamma': 100.0, 'kernel': 'sigmoid'}\n",
      "0.764 (+/-0.114) for {'C': 100.0, 'gamma': 0.0001, 'kernel': 'sigmoid'}\n",
      "0.806 (+/-0.086) for {'C': 100.0, 'gamma': 0.001, 'kernel': 'sigmoid'}\n",
      "0.406 (+/-0.127) for {'C': 100.0, 'gamma': 0.01, 'kernel': 'sigmoid'}\n",
      "0.122 (+/-0.123) for {'C': 100.0, 'gamma': 0.1, 'kernel': 'sigmoid'}\n",
      "0.102 (+/-0.012) for {'C': 100.0, 'gamma': 1.0, 'kernel': 'sigmoid'}\n",
      "0.100 (+/-0.000) for {'C': 100.0, 'gamma': 10.0, 'kernel': 'sigmoid'}\n",
      "0.100 (+/-0.000) for {'C': 100.0, 'gamma': 100.0, 'kernel': 'sigmoid'}\n",
      "\n",
      "Klassifikationsreport\n",
      "\n",
      "              precision    recall  f1-score   support\n",
      "\n",
      "           0       0.78      0.73      0.76      1000\n",
      "           1       0.99      0.93      0.96      1000\n",
      "           2       0.60      0.68      0.64      1000\n",
      "           3       0.77      0.81      0.79      1000\n",
      "           4       0.60      0.69      0.65      1000\n",
      "           5       0.87      0.88      0.88      1000\n",
      "           6       0.56      0.43      0.49      1000\n",
      "           7       0.86      0.89      0.87      1000\n",
      "           8       0.94      0.91      0.92      1000\n",
      "           9       0.90      0.90      0.90      1000\n",
      "\n",
      "   micro avg       0.79      0.79      0.79     10000\n",
      "   macro avg       0.79      0.79      0.79     10000\n",
      "weighted avg       0.79      0.79      0.79     10000\n",
      "\n",
      "\n"
     ]
    }
   ],
   "source": [
    "gs_sig_svc_cv10_500 = tuning_hyper_params(X_train_500.reshape(-1,784), y_train_500, 'sigmoid', 10, 'accuracy', np.logspace(-4,2,7), np.logspace(-4,2,7))"
   ]
  },
  {
   "cell_type": "code",
   "execution_count": 151,
   "metadata": {},
   "outputs": [
    {
     "name": "stdout",
     "output_type": "stream",
     "text": [
      "Tuning Hyperparameter zu Score accuracy\n",
      "\n",
      "Zeit für Suche:  79.20970726013184\n",
      "Zeit für Suche:  1.1232071999999675\n",
      "Zeit für Suche:  79.22425482875184\n",
      "Besten gefundenen Parameter lauten:\n",
      "\n",
      "{'C': 100.0, 'gamma': 0.001, 'kernel': 'sigmoid'}\n",
      "\n",
      "0.624 (+/-0.078) for {'C': 0.0001, 'gamma': 0.0001, 'kernel': 'sigmoid'}\n",
      "0.630 (+/-0.063) for {'C': 0.0001, 'gamma': 0.001, 'kernel': 'sigmoid'}\n",
      "0.566 (+/-0.082) for {'C': 0.0001, 'gamma': 0.01, 'kernel': 'sigmoid'}\n",
      "0.102 (+/-0.087) for {'C': 0.0001, 'gamma': 0.1, 'kernel': 'sigmoid'}\n",
      "0.062 (+/-0.065) for {'C': 0.0001, 'gamma': 1.0, 'kernel': 'sigmoid'}\n",
      "0.100 (+/-0.000) for {'C': 0.0001, 'gamma': 10.0, 'kernel': 'sigmoid'}\n",
      "0.100 (+/-0.000) for {'C': 0.0001, 'gamma': 100.0, 'kernel': 'sigmoid'}\n",
      "0.624 (+/-0.078) for {'C': 0.001, 'gamma': 0.0001, 'kernel': 'sigmoid'}\n",
      "0.630 (+/-0.063) for {'C': 0.001, 'gamma': 0.001, 'kernel': 'sigmoid'}\n",
      "0.566 (+/-0.082) for {'C': 0.001, 'gamma': 0.01, 'kernel': 'sigmoid'}\n",
      "0.102 (+/-0.087) for {'C': 0.001, 'gamma': 0.1, 'kernel': 'sigmoid'}\n",
      "0.100 (+/-0.000) for {'C': 0.001, 'gamma': 1.0, 'kernel': 'sigmoid'}\n",
      "0.100 (+/-0.000) for {'C': 0.001, 'gamma': 10.0, 'kernel': 'sigmoid'}\n",
      "0.100 (+/-0.000) for {'C': 0.001, 'gamma': 100.0, 'kernel': 'sigmoid'}\n",
      "0.624 (+/-0.078) for {'C': 0.01, 'gamma': 0.0001, 'kernel': 'sigmoid'}\n",
      "0.630 (+/-0.063) for {'C': 0.01, 'gamma': 0.001, 'kernel': 'sigmoid'}\n",
      "0.566 (+/-0.082) for {'C': 0.01, 'gamma': 0.01, 'kernel': 'sigmoid'}\n",
      "0.102 (+/-0.087) for {'C': 0.01, 'gamma': 0.1, 'kernel': 'sigmoid'}\n",
      "0.100 (+/-0.000) for {'C': 0.01, 'gamma': 1.0, 'kernel': 'sigmoid'}\n",
      "0.100 (+/-0.000) for {'C': 0.01, 'gamma': 10.0, 'kernel': 'sigmoid'}\n",
      "0.100 (+/-0.000) for {'C': 0.01, 'gamma': 100.0, 'kernel': 'sigmoid'}\n",
      "0.624 (+/-0.078) for {'C': 0.1, 'gamma': 0.0001, 'kernel': 'sigmoid'}\n",
      "0.630 (+/-0.063) for {'C': 0.1, 'gamma': 0.001, 'kernel': 'sigmoid'}\n",
      "0.566 (+/-0.082) for {'C': 0.1, 'gamma': 0.01, 'kernel': 'sigmoid'}\n",
      "0.102 (+/-0.087) for {'C': 0.1, 'gamma': 0.1, 'kernel': 'sigmoid'}\n",
      "0.100 (+/-0.000) for {'C': 0.1, 'gamma': 1.0, 'kernel': 'sigmoid'}\n",
      "0.100 (+/-0.000) for {'C': 0.1, 'gamma': 10.0, 'kernel': 'sigmoid'}\n",
      "0.100 (+/-0.000) for {'C': 0.1, 'gamma': 100.0, 'kernel': 'sigmoid'}\n",
      "0.624 (+/-0.078) for {'C': 1.0, 'gamma': 0.0001, 'kernel': 'sigmoid'}\n",
      "0.666 (+/-0.043) for {'C': 1.0, 'gamma': 0.001, 'kernel': 'sigmoid'}\n",
      "0.524 (+/-0.069) for {'C': 1.0, 'gamma': 0.01, 'kernel': 'sigmoid'}\n",
      "0.096 (+/-0.055) for {'C': 1.0, 'gamma': 0.1, 'kernel': 'sigmoid'}\n",
      "0.100 (+/-0.000) for {'C': 1.0, 'gamma': 1.0, 'kernel': 'sigmoid'}\n",
      "0.100 (+/-0.000) for {'C': 1.0, 'gamma': 10.0, 'kernel': 'sigmoid'}\n",
      "0.100 (+/-0.000) for {'C': 1.0, 'gamma': 100.0, 'kernel': 'sigmoid'}\n",
      "0.662 (+/-0.056) for {'C': 10.0, 'gamma': 0.0001, 'kernel': 'sigmoid'}\n",
      "0.758 (+/-0.043) for {'C': 10.0, 'gamma': 0.001, 'kernel': 'sigmoid'}\n",
      "0.450 (+/-0.089) for {'C': 10.0, 'gamma': 0.01, 'kernel': 'sigmoid'}\n",
      "0.142 (+/-0.050) for {'C': 10.0, 'gamma': 0.1, 'kernel': 'sigmoid'}\n",
      "0.100 (+/-0.000) for {'C': 10.0, 'gamma': 1.0, 'kernel': 'sigmoid'}\n",
      "0.100 (+/-0.000) for {'C': 10.0, 'gamma': 10.0, 'kernel': 'sigmoid'}\n",
      "0.100 (+/-0.000) for {'C': 10.0, 'gamma': 100.0, 'kernel': 'sigmoid'}\n",
      "0.760 (+/-0.047) for {'C': 100.0, 'gamma': 0.0001, 'kernel': 'sigmoid'}\n",
      "0.794 (+/-0.072) for {'C': 100.0, 'gamma': 0.001, 'kernel': 'sigmoid'}\n",
      "0.400 (+/-0.096) for {'C': 100.0, 'gamma': 0.01, 'kernel': 'sigmoid'}\n",
      "0.122 (+/-0.046) for {'C': 100.0, 'gamma': 0.1, 'kernel': 'sigmoid'}\n",
      "0.100 (+/-0.000) for {'C': 100.0, 'gamma': 1.0, 'kernel': 'sigmoid'}\n",
      "0.100 (+/-0.000) for {'C': 100.0, 'gamma': 10.0, 'kernel': 'sigmoid'}\n",
      "0.100 (+/-0.000) for {'C': 100.0, 'gamma': 100.0, 'kernel': 'sigmoid'}\n",
      "\n",
      "Klassifikationsreport\n",
      "\n",
      "              precision    recall  f1-score   support\n",
      "\n",
      "           0       0.78      0.73      0.76      1000\n",
      "           1       0.99      0.93      0.96      1000\n",
      "           2       0.60      0.68      0.64      1000\n",
      "           3       0.77      0.81      0.79      1000\n",
      "           4       0.60      0.69      0.65      1000\n",
      "           5       0.87      0.88      0.88      1000\n",
      "           6       0.56      0.43      0.49      1000\n",
      "           7       0.86      0.89      0.87      1000\n",
      "           8       0.94      0.91      0.92      1000\n",
      "           9       0.90      0.90      0.90      1000\n",
      "\n",
      "   micro avg       0.79      0.79      0.79     10000\n",
      "   macro avg       0.79      0.79      0.79     10000\n",
      "weighted avg       0.79      0.79      0.79     10000\n",
      "\n",
      "\n"
     ]
    }
   ],
   "source": [
    "gs_sig_svc_cv5_500 = tuning_hyper_params(X_train_500.reshape(-1,784), y_train_500, 'sigmoid', 5, 'accuracy', np.logspace(-4,2,7), np.logspace(-4,2,7))"
   ]
  },
  {
   "cell_type": "code",
   "execution_count": 166,
   "metadata": {},
   "outputs": [
    {
     "data": {
      "text/plain": [
       "0.786"
      ]
     },
     "execution_count": 166,
     "metadata": {},
     "output_type": "execute_result"
    }
   ],
   "source": [
    "gs_sig_svc_cv5_500.score(X_test.reshape(-1,784), y_test)"
   ]
  },
  {
   "cell_type": "code",
   "execution_count": 170,
   "metadata": {},
   "outputs": [
    {
     "name": "stdout",
     "output_type": "stream",
     "text": [
      "Tuning Hyperparameter zu Score accuracy\n",
      "\n",
      "Zeit für Suche:  32.32726001739502\n",
      "Zeit für Suche:  0.7020045000000437\n",
      "Zeit für Suche:  32.32899333906562\n",
      "Besten gefundenen Parameter lauten:\n",
      "\n",
      "{'C': 1000.0, 'gamma': 0.0001, 'kernel': 'sigmoid'}\n",
      "\n",
      "0.662 (+/-0.056) for {'C': 10.0, 'gamma': 0.0001, 'kernel': 'sigmoid'}\n",
      "0.734 (+/-0.048) for {'C': 10.0, 'gamma': 0.00031622776601683794, 'kernel': 'sigmoid'}\n",
      "0.758 (+/-0.043) for {'C': 10.0, 'gamma': 0.001, 'kernel': 'sigmoid'}\n",
      "0.764 (+/-0.041) for {'C': 10.0, 'gamma': 0.0031622776601683794, 'kernel': 'sigmoid'}\n",
      "0.450 (+/-0.089) for {'C': 10.0, 'gamma': 0.01, 'kernel': 'sigmoid'}\n",
      "0.736 (+/-0.052) for {'C': 31.622776601683793, 'gamma': 0.0001, 'kernel': 'sigmoid'}\n",
      "0.760 (+/-0.047) for {'C': 31.622776601683793, 'gamma': 0.00031622776601683794, 'kernel': 'sigmoid'}\n",
      "0.778 (+/-0.059) for {'C': 31.622776601683793, 'gamma': 0.001, 'kernel': 'sigmoid'}\n",
      "0.742 (+/-0.061) for {'C': 31.622776601683793, 'gamma': 0.0031622776601683794, 'kernel': 'sigmoid'}\n",
      "0.428 (+/-0.094) for {'C': 31.622776601683793, 'gamma': 0.01, 'kernel': 'sigmoid'}\n",
      "0.760 (+/-0.047) for {'C': 100.0, 'gamma': 0.0001, 'kernel': 'sigmoid'}\n",
      "0.780 (+/-0.057) for {'C': 100.0, 'gamma': 0.00031622776601683794, 'kernel': 'sigmoid'}\n",
      "0.794 (+/-0.072) for {'C': 100.0, 'gamma': 0.001, 'kernel': 'sigmoid'}\n",
      "0.694 (+/-0.111) for {'C': 100.0, 'gamma': 0.0031622776601683794, 'kernel': 'sigmoid'}\n",
      "0.400 (+/-0.096) for {'C': 100.0, 'gamma': 0.01, 'kernel': 'sigmoid'}\n",
      "0.780 (+/-0.057) for {'C': 316.22776601683796, 'gamma': 0.0001, 'kernel': 'sigmoid'}\n",
      "0.796 (+/-0.069) for {'C': 316.22776601683796, 'gamma': 0.00031622776601683794, 'kernel': 'sigmoid'}\n",
      "0.760 (+/-0.054) for {'C': 316.22776601683796, 'gamma': 0.001, 'kernel': 'sigmoid'}\n",
      "0.686 (+/-0.124) for {'C': 316.22776601683796, 'gamma': 0.0031622776601683794, 'kernel': 'sigmoid'}\n",
      "0.394 (+/-0.099) for {'C': 316.22776601683796, 'gamma': 0.01, 'kernel': 'sigmoid'}\n",
      "0.798 (+/-0.070) for {'C': 1000.0, 'gamma': 0.0001, 'kernel': 'sigmoid'}\n",
      "0.762 (+/-0.046) for {'C': 1000.0, 'gamma': 0.00031622776601683794, 'kernel': 'sigmoid'}\n",
      "0.746 (+/-0.050) for {'C': 1000.0, 'gamma': 0.001, 'kernel': 'sigmoid'}\n",
      "0.688 (+/-0.125) for {'C': 1000.0, 'gamma': 0.0031622776601683794, 'kernel': 'sigmoid'}\n",
      "0.392 (+/-0.105) for {'C': 1000.0, 'gamma': 0.01, 'kernel': 'sigmoid'}\n",
      "\n",
      "Klassifikationsreport\n",
      "\n",
      "              precision    recall  f1-score   support\n",
      "\n",
      "           0       0.78      0.73      0.76      1000\n",
      "           1       0.99      0.93      0.96      1000\n",
      "           2       0.60      0.69      0.64      1000\n",
      "           3       0.78      0.81      0.79      1000\n",
      "           4       0.61      0.70      0.65      1000\n",
      "           5       0.87      0.88      0.87      1000\n",
      "           6       0.56      0.43      0.49      1000\n",
      "           7       0.86      0.88      0.87      1000\n",
      "           8       0.94      0.91      0.92      1000\n",
      "           9       0.90      0.90      0.90      1000\n",
      "\n",
      "   micro avg       0.79      0.79      0.79     10000\n",
      "   macro avg       0.79      0.79      0.79     10000\n",
      "weighted avg       0.79      0.79      0.79     10000\n",
      "\n",
      "\n"
     ]
    }
   ],
   "source": [
    "gs_sig_svc_cv5_500B = tuning_hyper_params(X_train_500.reshape(-1,784), y_train_500, 'sigmoid', 5, 'accuracy', np.logspace(1,3,5), np.logspace(-4,-2,5))"
   ]
  },
  {
   "cell_type": "code",
   "execution_count": 171,
   "metadata": {},
   "outputs": [
    {
     "data": {
      "text/plain": [
       "0.7866"
      ]
     },
     "execution_count": 171,
     "metadata": {},
     "output_type": "execute_result"
    }
   ],
   "source": [
    "gs_sig_svc_cv5_500B.score(X_test.reshape(-1,784), y_test)"
   ]
  },
  {
   "cell_type": "code",
   "execution_count": 180,
   "metadata": {},
   "outputs": [
    {
     "name": "stdout",
     "output_type": "stream",
     "text": [
      "Tuning Hyperparameter zu Score accuracy\n",
      "\n",
      "Zeit für Suche:  72.13572669029236\n",
      "Zeit für Suche:  1.560009999999977\n",
      "Zeit für Suche:  72.14726183655057\n",
      "Besten gefundenen Parameter lauten:\n",
      "\n",
      "{'C': 10000.0, 'gamma': 1e-05, 'kernel': 'sigmoid'}\n",
      "\n",
      "0.624 (+/-0.078) for {'C': 10.0, 'gamma': 1e-05, 'kernel': 'sigmoid'}\n",
      "0.624 (+/-0.078) for {'C': 10.0, 'gamma': 2.1544346900318823e-05, 'kernel': 'sigmoid'}\n",
      "0.630 (+/-0.078) for {'C': 10.0, 'gamma': 4.641588833612782e-05, 'kernel': 'sigmoid'}\n",
      "0.662 (+/-0.056) for {'C': 10.0, 'gamma': 0.0001, 'kernel': 'sigmoid'}\n",
      "0.712 (+/-0.056) for {'C': 10.0, 'gamma': 0.00021544346900318823, 'kernel': 'sigmoid'}\n",
      "0.754 (+/-0.039) for {'C': 10.0, 'gamma': 0.00046415888336127773, 'kernel': 'sigmoid'}\n",
      "0.758 (+/-0.043) for {'C': 10.0, 'gamma': 0.001, 'kernel': 'sigmoid'}\n",
      "0.624 (+/-0.078) for {'C': 23.71373705661655, 'gamma': 1e-05, 'kernel': 'sigmoid'}\n",
      "0.630 (+/-0.068) for {'C': 23.71373705661655, 'gamma': 2.1544346900318823e-05, 'kernel': 'sigmoid'}\n",
      "0.664 (+/-0.043) for {'C': 23.71373705661655, 'gamma': 4.641588833612782e-05, 'kernel': 'sigmoid'}\n",
      "0.716 (+/-0.047) for {'C': 23.71373705661655, 'gamma': 0.0001, 'kernel': 'sigmoid'}\n",
      "0.746 (+/-0.032) for {'C': 23.71373705661655, 'gamma': 0.00021544346900318823, 'kernel': 'sigmoid'}\n",
      "0.760 (+/-0.036) for {'C': 23.71373705661655, 'gamma': 0.00046415888336127773, 'kernel': 'sigmoid'}\n",
      "0.772 (+/-0.050) for {'C': 23.71373705661655, 'gamma': 0.001, 'kernel': 'sigmoid'}\n",
      "0.638 (+/-0.077) for {'C': 56.23413251903491, 'gamma': 1e-05, 'kernel': 'sigmoid'}\n",
      "0.668 (+/-0.046) for {'C': 56.23413251903491, 'gamma': 2.1544346900318823e-05, 'kernel': 'sigmoid'}\n",
      "0.726 (+/-0.052) for {'C': 56.23413251903491, 'gamma': 4.641588833612782e-05, 'kernel': 'sigmoid'}\n",
      "0.748 (+/-0.020) for {'C': 56.23413251903491, 'gamma': 0.0001, 'kernel': 'sigmoid'}\n",
      "0.758 (+/-0.045) for {'C': 56.23413251903491, 'gamma': 0.00021544346900318823, 'kernel': 'sigmoid'}\n",
      "0.776 (+/-0.056) for {'C': 56.23413251903491, 'gamma': 0.00046415888336127773, 'kernel': 'sigmoid'}\n",
      "0.792 (+/-0.053) for {'C': 56.23413251903491, 'gamma': 0.001, 'kernel': 'sigmoid'}\n",
      "0.676 (+/-0.065) for {'C': 133.3521432163324, 'gamma': 1e-05, 'kernel': 'sigmoid'}\n",
      "0.728 (+/-0.041) for {'C': 133.3521432163324, 'gamma': 2.1544346900318823e-05, 'kernel': 'sigmoid'}\n",
      "0.758 (+/-0.029) for {'C': 133.3521432163324, 'gamma': 4.641588833612782e-05, 'kernel': 'sigmoid'}\n",
      "0.758 (+/-0.045) for {'C': 133.3521432163324, 'gamma': 0.0001, 'kernel': 'sigmoid'}\n",
      "0.778 (+/-0.059) for {'C': 133.3521432163324, 'gamma': 0.00021544346900318823, 'kernel': 'sigmoid'}\n",
      "0.788 (+/-0.077) for {'C': 133.3521432163324, 'gamma': 0.00046415888336127773, 'kernel': 'sigmoid'}\n",
      "0.784 (+/-0.065) for {'C': 133.3521432163324, 'gamma': 0.001, 'kernel': 'sigmoid'}\n",
      "0.736 (+/-0.052) for {'C': 316.22776601683796, 'gamma': 1e-05, 'kernel': 'sigmoid'}\n",
      "0.750 (+/-0.033) for {'C': 316.22776601683796, 'gamma': 2.1544346900318823e-05, 'kernel': 'sigmoid'}\n",
      "0.760 (+/-0.052) for {'C': 316.22776601683796, 'gamma': 4.641588833612782e-05, 'kernel': 'sigmoid'}\n",
      "0.780 (+/-0.057) for {'C': 316.22776601683796, 'gamma': 0.0001, 'kernel': 'sigmoid'}\n",
      "0.790 (+/-0.066) for {'C': 316.22776601683796, 'gamma': 0.00021544346900318823, 'kernel': 'sigmoid'}\n",
      "0.782 (+/-0.065) for {'C': 316.22776601683796, 'gamma': 0.00046415888336127773, 'kernel': 'sigmoid'}\n",
      "0.760 (+/-0.054) for {'C': 316.22776601683796, 'gamma': 0.001, 'kernel': 'sigmoid'}\n",
      "0.754 (+/-0.037) for {'C': 749.8942093324558, 'gamma': 1e-05, 'kernel': 'sigmoid'}\n",
      "0.760 (+/-0.052) for {'C': 749.8942093324558, 'gamma': 2.1544346900318823e-05, 'kernel': 'sigmoid'}\n",
      "0.782 (+/-0.060) for {'C': 749.8942093324558, 'gamma': 4.641588833612782e-05, 'kernel': 'sigmoid'}\n",
      "0.790 (+/-0.067) for {'C': 749.8942093324558, 'gamma': 0.0001, 'kernel': 'sigmoid'}\n",
      "0.776 (+/-0.064) for {'C': 749.8942093324558, 'gamma': 0.00021544346900318823, 'kernel': 'sigmoid'}\n",
      "0.762 (+/-0.046) for {'C': 749.8942093324558, 'gamma': 0.00046415888336127773, 'kernel': 'sigmoid'}\n",
      "0.746 (+/-0.050) for {'C': 749.8942093324558, 'gamma': 0.001, 'kernel': 'sigmoid'}\n",
      "0.762 (+/-0.056) for {'C': 1778.2794100389228, 'gamma': 1e-05, 'kernel': 'sigmoid'}\n",
      "0.780 (+/-0.057) for {'C': 1778.2794100389228, 'gamma': 2.1544346900318823e-05, 'kernel': 'sigmoid'}\n",
      "0.792 (+/-0.065) for {'C': 1778.2794100389228, 'gamma': 4.641588833612782e-05, 'kernel': 'sigmoid'}\n",
      "0.774 (+/-0.071) for {'C': 1778.2794100389228, 'gamma': 0.0001, 'kernel': 'sigmoid'}\n",
      "0.758 (+/-0.041) for {'C': 1778.2794100389228, 'gamma': 0.00021544346900318823, 'kernel': 'sigmoid'}\n",
      "0.760 (+/-0.046) for {'C': 1778.2794100389228, 'gamma': 0.00046415888336127773, 'kernel': 'sigmoid'}\n",
      "0.746 (+/-0.050) for {'C': 1778.2794100389228, 'gamma': 0.001, 'kernel': 'sigmoid'}\n",
      "0.788 (+/-0.056) for {'C': 4216.965034285822, 'gamma': 1e-05, 'kernel': 'sigmoid'}\n",
      "0.792 (+/-0.073) for {'C': 4216.965034285822, 'gamma': 2.1544346900318823e-05, 'kernel': 'sigmoid'}\n",
      "0.768 (+/-0.075) for {'C': 4216.965034285822, 'gamma': 4.641588833612782e-05, 'kernel': 'sigmoid'}\n",
      "0.762 (+/-0.043) for {'C': 4216.965034285822, 'gamma': 0.0001, 'kernel': 'sigmoid'}\n",
      "0.760 (+/-0.042) for {'C': 4216.965034285822, 'gamma': 0.00021544346900318823, 'kernel': 'sigmoid'}\n",
      "0.760 (+/-0.046) for {'C': 4216.965034285822, 'gamma': 0.00046415888336127773, 'kernel': 'sigmoid'}\n",
      "0.746 (+/-0.050) for {'C': 4216.965034285822, 'gamma': 0.001, 'kernel': 'sigmoid'}\n",
      "0.798 (+/-0.070) for {'C': 10000.0, 'gamma': 1e-05, 'kernel': 'sigmoid'}\n",
      "0.768 (+/-0.075) for {'C': 10000.0, 'gamma': 2.1544346900318823e-05, 'kernel': 'sigmoid'}\n",
      "0.762 (+/-0.043) for {'C': 10000.0, 'gamma': 4.641588833612782e-05, 'kernel': 'sigmoid'}\n",
      "0.762 (+/-0.043) for {'C': 10000.0, 'gamma': 0.0001, 'kernel': 'sigmoid'}\n",
      "0.760 (+/-0.042) for {'C': 10000.0, 'gamma': 0.00021544346900318823, 'kernel': 'sigmoid'}\n",
      "0.760 (+/-0.046) for {'C': 10000.0, 'gamma': 0.00046415888336127773, 'kernel': 'sigmoid'}\n",
      "0.746 (+/-0.050) for {'C': 10000.0, 'gamma': 0.001, 'kernel': 'sigmoid'}\n",
      "\n",
      "Klassifikationsreport\n",
      "\n",
      "              precision    recall  f1-score   support\n",
      "\n",
      "           0       0.78      0.73      0.76      1000\n",
      "           1       0.99      0.93      0.96      1000\n",
      "           2       0.60      0.69      0.64      1000\n",
      "           3       0.78      0.81      0.79      1000\n",
      "           4       0.61      0.70      0.65      1000\n",
      "           5       0.87      0.88      0.87      1000\n",
      "           6       0.56      0.43      0.49      1000\n",
      "           7       0.86      0.88      0.87      1000\n",
      "           8       0.94      0.91      0.92      1000\n",
      "           9       0.90      0.90      0.90      1000\n",
      "\n",
      "   micro avg       0.79      0.79      0.79     10000\n",
      "   macro avg       0.79      0.79      0.79     10000\n",
      "weighted avg       0.79      0.79      0.79     10000\n",
      "\n",
      "\n"
     ]
    }
   ],
   "source": [
    "gs_sig_svc_cv5_500C = tuning_hyper_params(X_train_500.reshape(-1,784), y_train_500, 'sigmoid', 5, 'accuracy', np.logspace(1,4,9), np.logspace(-5,-3,7))"
   ]
  },
  {
   "cell_type": "code",
   "execution_count": 181,
   "metadata": {},
   "outputs": [
    {
     "data": {
      "text/plain": [
       "0.7867"
      ]
     },
     "execution_count": 181,
     "metadata": {},
     "output_type": "execute_result"
    }
   ],
   "source": [
    "gs_sig_svc_cv5_500C.score(X_test.reshape(-1,784), y_test)"
   ]
  },
  {
   "cell_type": "code",
   "execution_count": 152,
   "metadata": {},
   "outputs": [
    {
     "name": "stdout",
     "output_type": "stream",
     "text": [
      "Tuning Hyperparameter zu Score accuracy\n",
      "\n",
      "Zeit für Suche:  168.073388338089\n",
      "Zeit für Suche:  3.1512201999999547\n",
      "Zeit für Suche:  168.0661567163272\n",
      "Besten gefundenen Parameter lauten:\n",
      "\n",
      "{'C': 0.001, 'degree': 1, 'gamma': 100.0, 'kernel': 'poly'}\n",
      "\n",
      "0.624 (+/-0.078) for {'C': 0.0001, 'degree': 1, 'gamma': 0.0001, 'kernel': 'poly'}\n",
      "0.624 (+/-0.078) for {'C': 0.0001, 'degree': 1, 'gamma': 0.001, 'kernel': 'poly'}\n",
      "0.624 (+/-0.078) for {'C': 0.0001, 'degree': 1, 'gamma': 0.01, 'kernel': 'poly'}\n",
      "0.624 (+/-0.078) for {'C': 0.0001, 'degree': 1, 'gamma': 0.1, 'kernel': 'poly'}\n",
      "0.624 (+/-0.078) for {'C': 0.0001, 'degree': 1, 'gamma': 1.0, 'kernel': 'poly'}\n",
      "0.662 (+/-0.056) for {'C': 0.0001, 'degree': 1, 'gamma': 10.0, 'kernel': 'poly'}\n",
      "0.760 (+/-0.047) for {'C': 0.0001, 'degree': 1, 'gamma': 100.0, 'kernel': 'poly'}\n",
      "0.464 (+/-0.088) for {'C': 0.0001, 'degree': 2, 'gamma': 0.0001, 'kernel': 'poly'}\n",
      "0.464 (+/-0.088) for {'C': 0.0001, 'degree': 2, 'gamma': 0.001, 'kernel': 'poly'}\n",
      "0.464 (+/-0.088) for {'C': 0.0001, 'degree': 2, 'gamma': 0.01, 'kernel': 'poly'}\n",
      "0.464 (+/-0.088) for {'C': 0.0001, 'degree': 2, 'gamma': 0.1, 'kernel': 'poly'}\n",
      "0.730 (+/-0.062) for {'C': 0.0001, 'degree': 2, 'gamma': 1.0, 'kernel': 'poly'}\n",
      "0.762 (+/-0.069) for {'C': 0.0001, 'degree': 2, 'gamma': 10.0, 'kernel': 'poly'}\n",
      "0.762 (+/-0.073) for {'C': 0.0001, 'degree': 2, 'gamma': 100.0, 'kernel': 'poly'}\n",
      "0.346 (+/-0.056) for {'C': 0.0001, 'degree': 3, 'gamma': 0.0001, 'kernel': 'poly'}\n",
      "0.346 (+/-0.056) for {'C': 0.0001, 'degree': 3, 'gamma': 0.001, 'kernel': 'poly'}\n",
      "0.346 (+/-0.056) for {'C': 0.0001, 'degree': 3, 'gamma': 0.01, 'kernel': 'poly'}\n",
      "0.602 (+/-0.034) for {'C': 0.0001, 'degree': 3, 'gamma': 0.1, 'kernel': 'poly'}\n",
      "0.756 (+/-0.064) for {'C': 0.0001, 'degree': 3, 'gamma': 1.0, 'kernel': 'poly'}\n",
      "0.728 (+/-0.096) for {'C': 0.0001, 'degree': 3, 'gamma': 10.0, 'kernel': 'poly'}\n",
      "0.728 (+/-0.096) for {'C': 0.0001, 'degree': 3, 'gamma': 100.0, 'kernel': 'poly'}\n",
      "0.624 (+/-0.078) for {'C': 0.001, 'degree': 1, 'gamma': 0.0001, 'kernel': 'poly'}\n",
      "0.624 (+/-0.078) for {'C': 0.001, 'degree': 1, 'gamma': 0.001, 'kernel': 'poly'}\n",
      "0.624 (+/-0.078) for {'C': 0.001, 'degree': 1, 'gamma': 0.01, 'kernel': 'poly'}\n",
      "0.624 (+/-0.078) for {'C': 0.001, 'degree': 1, 'gamma': 0.1, 'kernel': 'poly'}\n",
      "0.662 (+/-0.056) for {'C': 0.001, 'degree': 1, 'gamma': 1.0, 'kernel': 'poly'}\n",
      "0.760 (+/-0.047) for {'C': 0.001, 'degree': 1, 'gamma': 10.0, 'kernel': 'poly'}\n",
      "0.798 (+/-0.070) for {'C': 0.001, 'degree': 1, 'gamma': 100.0, 'kernel': 'poly'}\n",
      "0.464 (+/-0.088) for {'C': 0.001, 'degree': 2, 'gamma': 0.0001, 'kernel': 'poly'}\n",
      "0.464 (+/-0.088) for {'C': 0.001, 'degree': 2, 'gamma': 0.001, 'kernel': 'poly'}\n",
      "0.464 (+/-0.088) for {'C': 0.001, 'degree': 2, 'gamma': 0.01, 'kernel': 'poly'}\n",
      "0.634 (+/-0.055) for {'C': 0.001, 'degree': 2, 'gamma': 0.1, 'kernel': 'poly'}\n",
      "0.754 (+/-0.069) for {'C': 0.001, 'degree': 2, 'gamma': 1.0, 'kernel': 'poly'}\n",
      "0.762 (+/-0.073) for {'C': 0.001, 'degree': 2, 'gamma': 10.0, 'kernel': 'poly'}\n",
      "0.762 (+/-0.073) for {'C': 0.001, 'degree': 2, 'gamma': 100.0, 'kernel': 'poly'}\n",
      "0.346 (+/-0.056) for {'C': 0.001, 'degree': 3, 'gamma': 0.0001, 'kernel': 'poly'}\n",
      "0.346 (+/-0.056) for {'C': 0.001, 'degree': 3, 'gamma': 0.001, 'kernel': 'poly'}\n",
      "0.346 (+/-0.056) for {'C': 0.001, 'degree': 3, 'gamma': 0.01, 'kernel': 'poly'}\n",
      "0.672 (+/-0.065) for {'C': 0.001, 'degree': 3, 'gamma': 0.1, 'kernel': 'poly'}\n",
      "0.728 (+/-0.096) for {'C': 0.001, 'degree': 3, 'gamma': 1.0, 'kernel': 'poly'}\n",
      "0.728 (+/-0.096) for {'C': 0.001, 'degree': 3, 'gamma': 10.0, 'kernel': 'poly'}\n",
      "0.728 (+/-0.096) for {'C': 0.001, 'degree': 3, 'gamma': 100.0, 'kernel': 'poly'}\n",
      "0.624 (+/-0.078) for {'C': 0.01, 'degree': 1, 'gamma': 0.0001, 'kernel': 'poly'}\n",
      "0.624 (+/-0.078) for {'C': 0.01, 'degree': 1, 'gamma': 0.001, 'kernel': 'poly'}\n",
      "0.624 (+/-0.078) for {'C': 0.01, 'degree': 1, 'gamma': 0.01, 'kernel': 'poly'}\n",
      "0.662 (+/-0.056) for {'C': 0.01, 'degree': 1, 'gamma': 0.1, 'kernel': 'poly'}\n",
      "0.760 (+/-0.047) for {'C': 0.01, 'degree': 1, 'gamma': 1.0, 'kernel': 'poly'}\n",
      "0.798 (+/-0.070) for {'C': 0.01, 'degree': 1, 'gamma': 10.0, 'kernel': 'poly'}\n",
      "0.762 (+/-0.043) for {'C': 0.01, 'degree': 1, 'gamma': 100.0, 'kernel': 'poly'}\n",
      "0.464 (+/-0.088) for {'C': 0.01, 'degree': 2, 'gamma': 0.0001, 'kernel': 'poly'}\n",
      "0.464 (+/-0.088) for {'C': 0.01, 'degree': 2, 'gamma': 0.001, 'kernel': 'poly'}\n",
      "0.464 (+/-0.088) for {'C': 0.01, 'degree': 2, 'gamma': 0.01, 'kernel': 'poly'}\n",
      "0.730 (+/-0.062) for {'C': 0.01, 'degree': 2, 'gamma': 0.1, 'kernel': 'poly'}\n",
      "0.762 (+/-0.069) for {'C': 0.01, 'degree': 2, 'gamma': 1.0, 'kernel': 'poly'}\n",
      "0.762 (+/-0.073) for {'C': 0.01, 'degree': 2, 'gamma': 10.0, 'kernel': 'poly'}\n",
      "0.762 (+/-0.073) for {'C': 0.01, 'degree': 2, 'gamma': 100.0, 'kernel': 'poly'}\n",
      "0.346 (+/-0.056) for {'C': 0.01, 'degree': 3, 'gamma': 0.0001, 'kernel': 'poly'}\n",
      "0.346 (+/-0.056) for {'C': 0.01, 'degree': 3, 'gamma': 0.001, 'kernel': 'poly'}\n",
      "0.406 (+/-0.066) for {'C': 0.01, 'degree': 3, 'gamma': 0.01, 'kernel': 'poly'}\n",
      "0.714 (+/-0.090) for {'C': 0.01, 'degree': 3, 'gamma': 0.1, 'kernel': 'poly'}\n",
      "0.728 (+/-0.096) for {'C': 0.01, 'degree': 3, 'gamma': 1.0, 'kernel': 'poly'}\n",
      "0.728 (+/-0.096) for {'C': 0.01, 'degree': 3, 'gamma': 10.0, 'kernel': 'poly'}\n",
      "0.728 (+/-0.096) for {'C': 0.01, 'degree': 3, 'gamma': 100.0, 'kernel': 'poly'}\n",
      "0.624 (+/-0.078) for {'C': 0.1, 'degree': 1, 'gamma': 0.0001, 'kernel': 'poly'}\n",
      "0.624 (+/-0.078) for {'C': 0.1, 'degree': 1, 'gamma': 0.001, 'kernel': 'poly'}\n",
      "0.662 (+/-0.056) for {'C': 0.1, 'degree': 1, 'gamma': 0.01, 'kernel': 'poly'}\n",
      "0.760 (+/-0.047) for {'C': 0.1, 'degree': 1, 'gamma': 0.1, 'kernel': 'poly'}\n",
      "0.798 (+/-0.070) for {'C': 0.1, 'degree': 1, 'gamma': 1.0, 'kernel': 'poly'}\n",
      "0.762 (+/-0.043) for {'C': 0.1, 'degree': 1, 'gamma': 10.0, 'kernel': 'poly'}\n",
      "0.762 (+/-0.043) for {'C': 0.1, 'degree': 1, 'gamma': 100.0, 'kernel': 'poly'}\n",
      "0.464 (+/-0.088) for {'C': 0.1, 'degree': 2, 'gamma': 0.0001, 'kernel': 'poly'}\n",
      "0.464 (+/-0.088) for {'C': 0.1, 'degree': 2, 'gamma': 0.001, 'kernel': 'poly'}\n",
      "0.634 (+/-0.055) for {'C': 0.1, 'degree': 2, 'gamma': 0.01, 'kernel': 'poly'}\n",
      "0.754 (+/-0.069) for {'C': 0.1, 'degree': 2, 'gamma': 0.1, 'kernel': 'poly'}\n",
      "0.762 (+/-0.073) for {'C': 0.1, 'degree': 2, 'gamma': 1.0, 'kernel': 'poly'}\n",
      "0.762 (+/-0.073) for {'C': 0.1, 'degree': 2, 'gamma': 10.0, 'kernel': 'poly'}\n",
      "0.762 (+/-0.073) for {'C': 0.1, 'degree': 2, 'gamma': 100.0, 'kernel': 'poly'}\n",
      "0.346 (+/-0.056) for {'C': 0.1, 'degree': 3, 'gamma': 0.0001, 'kernel': 'poly'}\n",
      "0.346 (+/-0.056) for {'C': 0.1, 'degree': 3, 'gamma': 0.001, 'kernel': 'poly'}\n",
      "0.602 (+/-0.034) for {'C': 0.1, 'degree': 3, 'gamma': 0.01, 'kernel': 'poly'}\n",
      "0.756 (+/-0.064) for {'C': 0.1, 'degree': 3, 'gamma': 0.1, 'kernel': 'poly'}\n",
      "0.728 (+/-0.096) for {'C': 0.1, 'degree': 3, 'gamma': 1.0, 'kernel': 'poly'}\n",
      "0.728 (+/-0.096) for {'C': 0.1, 'degree': 3, 'gamma': 10.0, 'kernel': 'poly'}\n",
      "0.728 (+/-0.096) for {'C': 0.1, 'degree': 3, 'gamma': 100.0, 'kernel': 'poly'}\n",
      "0.624 (+/-0.078) for {'C': 1.0, 'degree': 1, 'gamma': 0.0001, 'kernel': 'poly'}\n",
      "0.662 (+/-0.056) for {'C': 1.0, 'degree': 1, 'gamma': 0.001, 'kernel': 'poly'}\n",
      "0.760 (+/-0.047) for {'C': 1.0, 'degree': 1, 'gamma': 0.01, 'kernel': 'poly'}\n",
      "0.796 (+/-0.069) for {'C': 1.0, 'degree': 1, 'gamma': 0.1, 'kernel': 'poly'}\n",
      "0.762 (+/-0.043) for {'C': 1.0, 'degree': 1, 'gamma': 1.0, 'kernel': 'poly'}\n",
      "0.762 (+/-0.043) for {'C': 1.0, 'degree': 1, 'gamma': 10.0, 'kernel': 'poly'}\n",
      "0.762 (+/-0.043) for {'C': 1.0, 'degree': 1, 'gamma': 100.0, 'kernel': 'poly'}\n",
      "0.464 (+/-0.088) for {'C': 1.0, 'degree': 2, 'gamma': 0.0001, 'kernel': 'poly'}\n",
      "0.464 (+/-0.088) for {'C': 1.0, 'degree': 2, 'gamma': 0.001, 'kernel': 'poly'}\n",
      "0.730 (+/-0.062) for {'C': 1.0, 'degree': 2, 'gamma': 0.01, 'kernel': 'poly'}\n",
      "0.762 (+/-0.069) for {'C': 1.0, 'degree': 2, 'gamma': 0.1, 'kernel': 'poly'}\n",
      "0.762 (+/-0.073) for {'C': 1.0, 'degree': 2, 'gamma': 1.0, 'kernel': 'poly'}\n",
      "0.762 (+/-0.073) for {'C': 1.0, 'degree': 2, 'gamma': 10.0, 'kernel': 'poly'}\n",
      "0.762 (+/-0.073) for {'C': 1.0, 'degree': 2, 'gamma': 100.0, 'kernel': 'poly'}\n",
      "0.346 (+/-0.056) for {'C': 1.0, 'degree': 3, 'gamma': 0.0001, 'kernel': 'poly'}\n",
      "0.346 (+/-0.056) for {'C': 1.0, 'degree': 3, 'gamma': 0.001, 'kernel': 'poly'}\n",
      "0.672 (+/-0.065) for {'C': 1.0, 'degree': 3, 'gamma': 0.01, 'kernel': 'poly'}\n",
      "0.728 (+/-0.096) for {'C': 1.0, 'degree': 3, 'gamma': 0.1, 'kernel': 'poly'}\n",
      "0.728 (+/-0.096) for {'C': 1.0, 'degree': 3, 'gamma': 1.0, 'kernel': 'poly'}\n",
      "0.728 (+/-0.096) for {'C': 1.0, 'degree': 3, 'gamma': 10.0, 'kernel': 'poly'}\n",
      "0.728 (+/-0.096) for {'C': 1.0, 'degree': 3, 'gamma': 100.0, 'kernel': 'poly'}\n",
      "0.662 (+/-0.056) for {'C': 10.0, 'degree': 1, 'gamma': 0.0001, 'kernel': 'poly'}\n",
      "0.760 (+/-0.047) for {'C': 10.0, 'degree': 1, 'gamma': 0.001, 'kernel': 'poly'}\n",
      "0.796 (+/-0.069) for {'C': 10.0, 'degree': 1, 'gamma': 0.01, 'kernel': 'poly'}\n",
      "0.762 (+/-0.043) for {'C': 10.0, 'degree': 1, 'gamma': 0.1, 'kernel': 'poly'}\n",
      "0.762 (+/-0.043) for {'C': 10.0, 'degree': 1, 'gamma': 1.0, 'kernel': 'poly'}\n",
      "0.762 (+/-0.043) for {'C': 10.0, 'degree': 1, 'gamma': 10.0, 'kernel': 'poly'}\n",
      "0.762 (+/-0.043) for {'C': 10.0, 'degree': 1, 'gamma': 100.0, 'kernel': 'poly'}\n",
      "0.464 (+/-0.088) for {'C': 10.0, 'degree': 2, 'gamma': 0.0001, 'kernel': 'poly'}\n",
      "0.634 (+/-0.055) for {'C': 10.0, 'degree': 2, 'gamma': 0.001, 'kernel': 'poly'}\n",
      "0.754 (+/-0.069) for {'C': 10.0, 'degree': 2, 'gamma': 0.01, 'kernel': 'poly'}\n",
      "0.762 (+/-0.073) for {'C': 10.0, 'degree': 2, 'gamma': 0.1, 'kernel': 'poly'}\n",
      "0.762 (+/-0.073) for {'C': 10.0, 'degree': 2, 'gamma': 1.0, 'kernel': 'poly'}\n",
      "0.762 (+/-0.073) for {'C': 10.0, 'degree': 2, 'gamma': 10.0, 'kernel': 'poly'}\n",
      "0.762 (+/-0.073) for {'C': 10.0, 'degree': 2, 'gamma': 100.0, 'kernel': 'poly'}\n",
      "0.346 (+/-0.056) for {'C': 10.0, 'degree': 3, 'gamma': 0.0001, 'kernel': 'poly'}\n",
      "0.406 (+/-0.066) for {'C': 10.0, 'degree': 3, 'gamma': 0.001, 'kernel': 'poly'}\n",
      "0.714 (+/-0.090) for {'C': 10.0, 'degree': 3, 'gamma': 0.01, 'kernel': 'poly'}\n",
      "0.728 (+/-0.096) for {'C': 10.0, 'degree': 3, 'gamma': 0.1, 'kernel': 'poly'}\n",
      "0.728 (+/-0.096) for {'C': 10.0, 'degree': 3, 'gamma': 1.0, 'kernel': 'poly'}\n",
      "0.728 (+/-0.096) for {'C': 10.0, 'degree': 3, 'gamma': 10.0, 'kernel': 'poly'}\n",
      "0.728 (+/-0.096) for {'C': 10.0, 'degree': 3, 'gamma': 100.0, 'kernel': 'poly'}\n",
      "0.760 (+/-0.047) for {'C': 100.0, 'degree': 1, 'gamma': 0.0001, 'kernel': 'poly'}\n",
      "0.798 (+/-0.070) for {'C': 100.0, 'degree': 1, 'gamma': 0.001, 'kernel': 'poly'}\n",
      "0.762 (+/-0.043) for {'C': 100.0, 'degree': 1, 'gamma': 0.01, 'kernel': 'poly'}\n",
      "0.762 (+/-0.043) for {'C': 100.0, 'degree': 1, 'gamma': 0.1, 'kernel': 'poly'}\n",
      "0.762 (+/-0.043) for {'C': 100.0, 'degree': 1, 'gamma': 1.0, 'kernel': 'poly'}\n",
      "0.762 (+/-0.043) for {'C': 100.0, 'degree': 1, 'gamma': 10.0, 'kernel': 'poly'}\n",
      "0.762 (+/-0.043) for {'C': 100.0, 'degree': 1, 'gamma': 100.0, 'kernel': 'poly'}\n",
      "0.464 (+/-0.088) for {'C': 100.0, 'degree': 2, 'gamma': 0.0001, 'kernel': 'poly'}\n",
      "0.730 (+/-0.062) for {'C': 100.0, 'degree': 2, 'gamma': 0.001, 'kernel': 'poly'}\n",
      "0.762 (+/-0.069) for {'C': 100.0, 'degree': 2, 'gamma': 0.01, 'kernel': 'poly'}\n",
      "0.762 (+/-0.073) for {'C': 100.0, 'degree': 2, 'gamma': 0.1, 'kernel': 'poly'}\n",
      "0.762 (+/-0.073) for {'C': 100.0, 'degree': 2, 'gamma': 1.0, 'kernel': 'poly'}\n",
      "0.762 (+/-0.073) for {'C': 100.0, 'degree': 2, 'gamma': 10.0, 'kernel': 'poly'}\n",
      "0.762 (+/-0.073) for {'C': 100.0, 'degree': 2, 'gamma': 100.0, 'kernel': 'poly'}\n",
      "0.346 (+/-0.056) for {'C': 100.0, 'degree': 3, 'gamma': 0.0001, 'kernel': 'poly'}\n",
      "0.602 (+/-0.034) for {'C': 100.0, 'degree': 3, 'gamma': 0.001, 'kernel': 'poly'}\n",
      "0.756 (+/-0.064) for {'C': 100.0, 'degree': 3, 'gamma': 0.01, 'kernel': 'poly'}\n",
      "0.728 (+/-0.096) for {'C': 100.0, 'degree': 3, 'gamma': 0.1, 'kernel': 'poly'}\n",
      "0.728 (+/-0.096) for {'C': 100.0, 'degree': 3, 'gamma': 1.0, 'kernel': 'poly'}\n",
      "0.728 (+/-0.096) for {'C': 100.0, 'degree': 3, 'gamma': 10.0, 'kernel': 'poly'}\n",
      "0.728 (+/-0.096) for {'C': 100.0, 'degree': 3, 'gamma': 100.0, 'kernel': 'poly'}\n",
      "\n",
      "Klassifikationsreport\n",
      "\n"
     ]
    },
    {
     "name": "stdout",
     "output_type": "stream",
     "text": [
      "              precision    recall  f1-score   support\n",
      "\n",
      "           0       0.78      0.73      0.76      1000\n",
      "           1       0.99      0.93      0.96      1000\n",
      "           2       0.60      0.69      0.64      1000\n",
      "           3       0.78      0.81      0.79      1000\n",
      "           4       0.61      0.70      0.65      1000\n",
      "           5       0.87      0.88      0.87      1000\n",
      "           6       0.56      0.43      0.49      1000\n",
      "           7       0.86      0.88      0.87      1000\n",
      "           8       0.94      0.91      0.92      1000\n",
      "           9       0.90      0.90      0.90      1000\n",
      "\n",
      "   micro avg       0.79      0.79      0.79     10000\n",
      "   macro avg       0.79      0.79      0.79     10000\n",
      "weighted avg       0.79      0.79      0.79     10000\n",
      "\n",
      "\n"
     ]
    }
   ],
   "source": [
    "gs_poly_svc_cv5_500 = tuning_hyper_params(X_train_500.reshape(-1,784), y_train_500, 'poly', 5, 'accuracy', np.logspace(-4,2,7), np.logspace(-4,2,7))"
   ]
  },
  {
   "cell_type": "code",
   "execution_count": 183,
   "metadata": {},
   "outputs": [
    {
     "data": {
      "text/plain": [
       "'\\nTRAININGSMENGE 1000\\n'"
      ]
     },
     "execution_count": 183,
     "metadata": {},
     "output_type": "execute_result"
    }
   ],
   "source": [
    "'''\n",
    "TRAININGSMENGE 1000\n",
    "'''"
   ]
  },
  {
   "cell_type": "code",
   "execution_count": 209,
   "metadata": {},
   "outputs": [
    {
     "name": "stdout",
     "output_type": "stream",
     "text": [
      "Tuning des Hyperparameers C zu Score accuracy\n",
      "\n",
      "Zeit für Suche:  53.93213129043579\n",
      "Zeit für Suche:  0.7332046999999875\n",
      "Zeit für Suche:  53.93044757685129\n",
      "Besten gefundenen Parameter lauten:\n",
      "\n",
      "{'C': 0.01}\n",
      "\n",
      "0.670 (+/-0.052) for {'C': 0.0001}\n",
      "0.740 (+/-0.046) for {'C': 0.001}\n",
      "0.808 (+/-0.051) for {'C': 0.01}\n",
      "0.790 (+/-0.085) for {'C': 0.1}\n",
      "0.764 (+/-0.067) for {'C': 1.0}\n",
      "0.753 (+/-0.079) for {'C': 10.0}\n",
      "0.755 (+/-0.082) for {'C': 100.0}\n",
      "\n",
      "Klassifikationsreport\n",
      "\n",
      "              precision    recall  f1-score   support\n",
      "\n",
      "           0       0.78      0.75      0.77      1000\n",
      "           1       0.98      0.94      0.96      1000\n",
      "           2       0.63      0.70      0.66      1000\n",
      "           3       0.78      0.84      0.81      1000\n",
      "           4       0.64      0.75      0.69      1000\n",
      "           5       0.93      0.79      0.86      1000\n",
      "           6       0.63      0.42      0.50      1000\n",
      "           7       0.83      0.89      0.86      1000\n",
      "           8       0.89      0.93      0.91      1000\n",
      "           9       0.85      0.93      0.88      1000\n",
      "\n",
      "   micro avg       0.79      0.79      0.79     10000\n",
      "   macro avg       0.79      0.79      0.79     10000\n",
      "weighted avg       0.79      0.79      0.79     10000\n",
      "\n",
      "\n"
     ]
    }
   ],
   "source": [
    "gs_linearSVC_cv10_1000= tuning_hyper_param_LinearSVC(X_train_1000.reshape(-1,784),y_train_1000,\n",
    "                                                   10, 'accuracy', np.logspace(-4,2,7))"
   ]
  },
  {
   "cell_type": "code",
   "execution_count": 220,
   "metadata": {},
   "outputs": [
    {
     "name": "stdout",
     "output_type": "stream",
     "text": [
      "Tuning des Hyperparameers C zu Score accuracy\n",
      "\n",
      "Zeit für Suche:  24.844284772872925\n",
      "Zeit für Suche:  1.0452066999999943\n",
      "Zeit für Suche:  24.836859789724258\n",
      "Besten gefundenen Parameter lauten:\n",
      "\n",
      "{'C': 0.03162277660168379}\n",
      "\n",
      "0.740 (+/-0.046) for {'C': 0.001}\n",
      "0.774 (+/-0.061) for {'C': 0.0031622776601683794}\n",
      "0.808 (+/-0.051) for {'C': 0.01}\n",
      "0.810 (+/-0.072) for {'C': 0.03162277660168379}\n",
      "0.790 (+/-0.085) for {'C': 0.1}\n",
      "\n",
      "Klassifikationsreport\n",
      "\n",
      "              precision    recall  f1-score   support\n",
      "\n",
      "           0       0.80      0.72      0.76      1000\n",
      "           1       0.98      0.95      0.96      1000\n",
      "           2       0.63      0.73      0.68      1000\n",
      "           3       0.78      0.84      0.81      1000\n",
      "           4       0.67      0.72      0.70      1000\n",
      "           5       0.92      0.83      0.87      1000\n",
      "           6       0.59      0.46      0.52      1000\n",
      "           7       0.85      0.90      0.87      1000\n",
      "           8       0.90      0.93      0.91      1000\n",
      "           9       0.87      0.91      0.89      1000\n",
      "\n",
      "   micro avg       0.80      0.80      0.80     10000\n",
      "   macro avg       0.80      0.80      0.80     10000\n",
      "weighted avg       0.80      0.80      0.80     10000\n",
      "\n",
      "\n"
     ]
    }
   ],
   "source": [
    "gs_linearSVC_cv10_1000B= tuning_hyper_param_LinearSVC(X_train_1000.reshape(-1,784),y_train_1000,\n",
    "                                                   10, 'accuracy', np.logspace(-3,-1,5))"
   ]
  },
  {
   "cell_type": "code",
   "execution_count": 222,
   "metadata": {},
   "outputs": [
    {
     "name": "stdout",
     "output_type": "stream",
     "text": [
      "Tuning des Hyperparameers C zu Score accuracy\n",
      "\n",
      "Zeit für Suche:  35.160017013549805\n",
      "Zeit für Suche:  1.0140065000000504\n",
      "Zeit für Suche:  35.16632479976215\n",
      "Besten gefundenen Parameter lauten:\n",
      "\n",
      "{'C': 0.03162277660168379}\n",
      "\n",
      "0.808 (+/-0.051) for {'C': 0.01}\n",
      "0.809 (+/-0.057) for {'C': 0.01778279410038923}\n",
      "0.810 (+/-0.072) for {'C': 0.03162277660168379}\n",
      "0.802 (+/-0.075) for {'C': 0.05623413251903491}\n",
      "0.790 (+/-0.085) for {'C': 0.1}\n",
      "\n",
      "Klassifikationsreport\n",
      "\n",
      "              precision    recall  f1-score   support\n",
      "\n",
      "           0       0.80      0.72      0.76      1000\n",
      "           1       0.98      0.95      0.96      1000\n",
      "           2       0.63      0.73      0.68      1000\n",
      "           3       0.78      0.84      0.81      1000\n",
      "           4       0.67      0.72      0.70      1000\n",
      "           5       0.92      0.83      0.87      1000\n",
      "           6       0.59      0.46      0.52      1000\n",
      "           7       0.85      0.90      0.87      1000\n",
      "           8       0.90      0.93      0.91      1000\n",
      "           9       0.87      0.91      0.89      1000\n",
      "\n",
      "   micro avg       0.80      0.80      0.80     10000\n",
      "   macro avg       0.80      0.80      0.80     10000\n",
      "weighted avg       0.80      0.80      0.80     10000\n",
      "\n",
      "\n"
     ]
    }
   ],
   "source": [
    "gs_linearSVC_cv10_1000C= tuning_hyper_param_LinearSVC(X_train_1000.reshape(-1,784),y_train_1000,\n",
    "                                                   10, 'accuracy', np.logspace(-2,-1,5))"
   ]
  },
  {
   "cell_type": "code",
   "execution_count": 224,
   "metadata": {},
   "outputs": [
    {
     "name": "stdout",
     "output_type": "stream",
     "text": [
      "Tuning des Hyperparameers C zu Score accuracy\n",
      "\n",
      "Zeit für Suche:  36.851640462875366\n",
      "Zeit für Suche:  1.2012077000000545\n",
      "Zeit für Suche:  36.85820938463257\n",
      "Besten gefundenen Parameter lauten:\n",
      "\n",
      "{'C': 0.03162277660168379}\n",
      "\n",
      "0.808 (+/-0.051) for {'C': 0.01}\n",
      "0.808 (+/-0.061) for {'C': 0.014677992676220698}\n",
      "0.807 (+/-0.069) for {'C': 0.021544346900318832}\n",
      "0.810 (+/-0.072) for {'C': 0.03162277660168379}\n",
      "0.809 (+/-0.068) for {'C': 0.046415888336127774}\n",
      "0.796 (+/-0.084) for {'C': 0.06812920690579612}\n",
      "0.790 (+/-0.085) for {'C': 0.1}\n",
      "\n",
      "Klassifikationsreport\n",
      "\n",
      "              precision    recall  f1-score   support\n",
      "\n",
      "           0       0.80      0.72      0.76      1000\n",
      "           1       0.98      0.95      0.96      1000\n",
      "           2       0.63      0.73      0.68      1000\n",
      "           3       0.78      0.84      0.81      1000\n",
      "           4       0.67      0.72      0.70      1000\n",
      "           5       0.92      0.83      0.87      1000\n",
      "           6       0.59      0.46      0.52      1000\n",
      "           7       0.85      0.90      0.87      1000\n",
      "           8       0.90      0.93      0.91      1000\n",
      "           9       0.87      0.91      0.89      1000\n",
      "\n",
      "   micro avg       0.80      0.80      0.80     10000\n",
      "   macro avg       0.80      0.80      0.80     10000\n",
      "weighted avg       0.80      0.80      0.80     10000\n",
      "\n",
      "\n"
     ]
    }
   ],
   "source": [
    "gs_linearSVC_cv10_1000C= tuning_hyper_param_LinearSVC(X_train_1000.reshape(-1,784),y_train_1000,\n",
    "                                                   10, 'accuracy', np.logspace(-2,-1,7))"
   ]
  },
  {
   "cell_type": "code",
   "execution_count": 225,
   "metadata": {},
   "outputs": [
    {
     "data": {
      "text/plain": [
       "0.7981"
      ]
     },
     "execution_count": 225,
     "metadata": {},
     "output_type": "execute_result"
    }
   ],
   "source": [
    "gs_linearSVC_cv10_1000C.score(X_test.reshape(-1,784), y_test)"
   ]
  },
  {
   "cell_type": "code",
   "execution_count": 223,
   "metadata": {},
   "outputs": [
    {
     "data": {
      "text/plain": [
       "array([0.01 , 0.015, 0.022, 0.032, 0.046, 0.068, 0.1  ])"
      ]
     },
     "execution_count": 223,
     "metadata": {},
     "output_type": "execute_result"
    }
   ],
   "source": [
    "np.logspace(-2,-1,7)"
   ]
  },
  {
   "cell_type": "code",
   "execution_count": 215,
   "metadata": {},
   "outputs": [
    {
     "data": {
      "text/plain": [
       "array([1.e-04, 1.e-03, 1.e-02, 1.e-01, 1.e+00, 1.e+01, 1.e+02])"
      ]
     },
     "execution_count": 215,
     "metadata": {},
     "output_type": "execute_result"
    }
   ],
   "source": [
    "np.logspace(-4,2,7)"
   ]
  },
  {
   "cell_type": "code",
   "execution_count": 185,
   "metadata": {},
   "outputs": [
    {
     "name": "stdout",
     "output_type": "stream",
     "text": [
      "Tuning Hyperparameter zu Score accuracy\n",
      "\n",
      "Zeit für Suche:  32.77337074279785\n",
      "Zeit für Suche:  0.9828063000000498\n",
      "Zeit für Suche:  32.774121472294155\n",
      "Besten gefundenen Parameter lauten:\n",
      "\n",
      "{'C': 0.1, 'kernel': 'linear'}\n",
      "\n",
      "0.613 (+/-0.051) for {'C': 0.0001, 'kernel': 'linear'}\n",
      "0.684 (+/-0.033) for {'C': 0.001, 'kernel': 'linear'}\n",
      "0.777 (+/-0.041) for {'C': 0.01, 'kernel': 'linear'}\n",
      "0.801 (+/-0.044) for {'C': 0.1, 'kernel': 'linear'}\n",
      "0.780 (+/-0.067) for {'C': 1.0, 'kernel': 'linear'}\n",
      "0.780 (+/-0.067) for {'C': 10.0, 'kernel': 'linear'}\n",
      "0.780 (+/-0.067) for {'C': 100.0, 'kernel': 'linear'}\n",
      "\n",
      "Klassifikationsreport\n",
      "\n",
      "              precision    recall  f1-score   support\n",
      "\n",
      "           0       0.77      0.72      0.75      1000\n",
      "           1       0.99      0.94      0.97      1000\n",
      "           2       0.63      0.74      0.68      1000\n",
      "           3       0.78      0.82      0.80      1000\n",
      "           4       0.69      0.70      0.69      1000\n",
      "           5       0.88      0.88      0.88      1000\n",
      "           6       0.57      0.49      0.53      1000\n",
      "           7       0.86      0.89      0.88      1000\n",
      "           8       0.94      0.93      0.94      1000\n",
      "           9       0.91      0.90      0.90      1000\n",
      "\n",
      "   micro avg       0.80      0.80      0.80     10000\n",
      "   macro avg       0.80      0.80      0.80     10000\n",
      "weighted avg       0.80      0.80      0.80     10000\n",
      "\n",
      "\n"
     ]
    }
   ],
   "source": [
    "gs_lin_svc_cv5_1000 = tuning_hyper_params(X_train_1000.reshape(-1,784), y_train_1000, 'linear', 5, 'accuracy', np.logspace(-4,2,7), np.logspace(-4,2,7))"
   ]
  },
  {
   "cell_type": "code",
   "execution_count": null,
   "metadata": {},
   "outputs": [],
   "source": [
    "gs_lin_svc_cv5_1000.score(X_test.reshape(-1,784), y_test)"
   ]
  },
  {
   "cell_type": "code",
   "execution_count": 189,
   "metadata": {},
   "outputs": [
    {
     "name": "stdout",
     "output_type": "stream",
     "text": [
      "Tuning Hyperparameter zu Score f1\n",
      "\n"
     ]
    },
    {
     "ename": "ValueError",
     "evalue": "Target is multiclass but average='binary'. Please choose another average setting.",
     "output_type": "error",
     "traceback": [
      "\u001b[1;31m---------------------------------------------------------------------------\u001b[0m",
      "\u001b[1;31m_RemoteTraceback\u001b[0m                          Traceback (most recent call last)",
      "\u001b[1;31m_RemoteTraceback\u001b[0m: \n\"\"\"\nTraceback (most recent call last):\n  File \"C:\\Users\\Martins-Lapt\\AppData\\Local\\conda\\conda\\envs\\python36\\lib\\site-packages\\sklearn\\externals\\joblib\\externals\\loky\\process_executor.py\", line 418, in _process_worker\n    r = call_item()\n  File \"C:\\Users\\Martins-Lapt\\AppData\\Local\\conda\\conda\\envs\\python36\\lib\\site-packages\\sklearn\\externals\\joblib\\externals\\loky\\process_executor.py\", line 272, in __call__\n    return self.fn(*self.args, **self.kwargs)\n  File \"C:\\Users\\Martins-Lapt\\AppData\\Local\\conda\\conda\\envs\\python36\\lib\\site-packages\\sklearn\\externals\\joblib\\_parallel_backends.py\", line 567, in __call__\n    return self.func(*args, **kwargs)\n  File \"C:\\Users\\Martins-Lapt\\AppData\\Local\\conda\\conda\\envs\\python36\\lib\\site-packages\\sklearn\\externals\\joblib\\parallel.py\", line 225, in __call__\n    for func, args, kwargs in self.items]\n  File \"C:\\Users\\Martins-Lapt\\AppData\\Local\\conda\\conda\\envs\\python36\\lib\\site-packages\\sklearn\\externals\\joblib\\parallel.py\", line 225, in <listcomp>\n    for func, args, kwargs in self.items]\n  File \"C:\\Users\\Martins-Lapt\\AppData\\Local\\conda\\conda\\envs\\python36\\lib\\site-packages\\sklearn\\model_selection\\_validation.py\", line 568, in _fit_and_score\n    test_scores = _score(estimator, X_test, y_test, scorer, is_multimetric)\n  File \"C:\\Users\\Martins-Lapt\\AppData\\Local\\conda\\conda\\envs\\python36\\lib\\site-packages\\sklearn\\model_selection\\_validation.py\", line 605, in _score\n    return _multimetric_score(estimator, X_test, y_test, scorer)\n  File \"C:\\Users\\Martins-Lapt\\AppData\\Local\\conda\\conda\\envs\\python36\\lib\\site-packages\\sklearn\\model_selection\\_validation.py\", line 635, in _multimetric_score\n    score = scorer(estimator, X_test, y_test)\n  File \"C:\\Users\\Martins-Lapt\\AppData\\Local\\conda\\conda\\envs\\python36\\lib\\site-packages\\sklearn\\metrics\\scorer.py\", line 98, in __call__\n    **self._kwargs)\n  File \"C:\\Users\\Martins-Lapt\\AppData\\Local\\conda\\conda\\envs\\python36\\lib\\site-packages\\sklearn\\metrics\\classification.py\", line 720, in f1_score\n    sample_weight=sample_weight)\n  File \"C:\\Users\\Martins-Lapt\\AppData\\Local\\conda\\conda\\envs\\python36\\lib\\site-packages\\sklearn\\metrics\\classification.py\", line 834, in fbeta_score\n    sample_weight=sample_weight)\n  File \"C:\\Users\\Martins-Lapt\\AppData\\Local\\conda\\conda\\envs\\python36\\lib\\site-packages\\sklearn\\metrics\\classification.py\", line 1047, in precision_recall_fscore_support\n    \"choose another average setting.\" % y_type)\nValueError: Target is multiclass but average='binary'. Please choose another average setting.\n\"\"\"",
      "\nThe above exception was the direct cause of the following exception:\n",
      "\u001b[1;31mValueError\u001b[0m                                Traceback (most recent call last)",
      "\u001b[1;32m<ipython-input-189-c00f96f34792>\u001b[0m in \u001b[0;36m<module>\u001b[1;34m\u001b[0m\n\u001b[1;32m----> 1\u001b[1;33m \u001b[0mgs_lin_svc_cv5_1000_f1\u001b[0m \u001b[1;33m=\u001b[0m \u001b[0mtuning_hyper_params\u001b[0m\u001b[1;33m(\u001b[0m\u001b[0mX_train_1000\u001b[0m\u001b[1;33m.\u001b[0m\u001b[0mreshape\u001b[0m\u001b[1;33m(\u001b[0m\u001b[1;33m-\u001b[0m\u001b[1;36m1\u001b[0m\u001b[1;33m,\u001b[0m\u001b[1;36m784\u001b[0m\u001b[1;33m)\u001b[0m\u001b[1;33m,\u001b[0m \u001b[0my_train_1000\u001b[0m\u001b[1;33m,\u001b[0m \u001b[1;34m'linear'\u001b[0m\u001b[1;33m,\u001b[0m \u001b[1;36m5\u001b[0m\u001b[1;33m,\u001b[0m \u001b[1;34m'f1'\u001b[0m\u001b[1;33m,\u001b[0m \u001b[0mnp\u001b[0m\u001b[1;33m.\u001b[0m\u001b[0mlogspace\u001b[0m\u001b[1;33m(\u001b[0m\u001b[1;33m-\u001b[0m\u001b[1;36m4\u001b[0m\u001b[1;33m,\u001b[0m\u001b[1;36m2\u001b[0m\u001b[1;33m,\u001b[0m\u001b[1;36m7\u001b[0m\u001b[1;33m)\u001b[0m\u001b[1;33m,\u001b[0m \u001b[0mnp\u001b[0m\u001b[1;33m.\u001b[0m\u001b[0mlogspace\u001b[0m\u001b[1;33m(\u001b[0m\u001b[1;33m-\u001b[0m\u001b[1;36m4\u001b[0m\u001b[1;33m,\u001b[0m\u001b[1;36m2\u001b[0m\u001b[1;33m,\u001b[0m\u001b[1;36m7\u001b[0m\u001b[1;33m)\u001b[0m\u001b[1;33m)\u001b[0m\u001b[1;33m\u001b[0m\u001b[1;33m\u001b[0m\u001b[0m\n\u001b[0m",
      "\u001b[1;32m<ipython-input-145-ed869a2f6be2>\u001b[0m in \u001b[0;36mtuning_hyper_params\u001b[1;34m(X, y, kernel, cv, scoring, c_range, gamma_range)\u001b[0m\n\u001b[0;32m     34\u001b[0m     \u001b[0mstart2\u001b[0m \u001b[1;33m=\u001b[0m \u001b[0mtime\u001b[0m\u001b[1;33m.\u001b[0m\u001b[0mprocess_time\u001b[0m\u001b[1;33m(\u001b[0m\u001b[1;33m)\u001b[0m\u001b[1;33m\u001b[0m\u001b[1;33m\u001b[0m\u001b[0m\n\u001b[0;32m     35\u001b[0m     \u001b[0mstart3\u001b[0m \u001b[1;33m=\u001b[0m \u001b[0mtime\u001b[0m\u001b[1;33m.\u001b[0m\u001b[0mperf_counter\u001b[0m\u001b[1;33m(\u001b[0m\u001b[1;33m)\u001b[0m\u001b[1;33m\u001b[0m\u001b[1;33m\u001b[0m\u001b[0m\n\u001b[1;32m---> 36\u001b[1;33m     \u001b[0mclf\u001b[0m\u001b[1;33m.\u001b[0m\u001b[0mfit\u001b[0m\u001b[1;33m(\u001b[0m\u001b[0mX\u001b[0m\u001b[1;33m,\u001b[0m\u001b[0my\u001b[0m\u001b[1;33m)\u001b[0m\u001b[1;33m\u001b[0m\u001b[1;33m\u001b[0m\u001b[0m\n\u001b[0m\u001b[0;32m     37\u001b[0m     \u001b[0mprint\u001b[0m\u001b[1;33m(\u001b[0m\u001b[1;34m\"Zeit für Suche: \"\u001b[0m\u001b[1;33m,\u001b[0m \u001b[0mtime\u001b[0m\u001b[1;33m.\u001b[0m\u001b[0mtime\u001b[0m\u001b[1;33m(\u001b[0m\u001b[1;33m)\u001b[0m\u001b[1;33m-\u001b[0m\u001b[0mstart\u001b[0m\u001b[1;33m)\u001b[0m\u001b[1;33m\u001b[0m\u001b[1;33m\u001b[0m\u001b[0m\n\u001b[0;32m     38\u001b[0m     \u001b[0mprint\u001b[0m\u001b[1;33m(\u001b[0m\u001b[1;34m\"Zeit für Suche: \"\u001b[0m\u001b[1;33m,\u001b[0m \u001b[0mtime\u001b[0m\u001b[1;33m.\u001b[0m\u001b[0mprocess_time\u001b[0m\u001b[1;33m(\u001b[0m\u001b[1;33m)\u001b[0m\u001b[1;33m-\u001b[0m\u001b[0mstart2\u001b[0m\u001b[1;33m)\u001b[0m\u001b[1;33m\u001b[0m\u001b[1;33m\u001b[0m\u001b[0m\n",
      "\u001b[1;32m~\\AppData\\Local\\conda\\conda\\envs\\python36\\lib\\site-packages\\sklearn\\model_selection\\_search.py\u001b[0m in \u001b[0;36mfit\u001b[1;34m(self, X, y, groups, **fit_params)\u001b[0m\n\u001b[0;32m    720\u001b[0m                 \u001b[1;32mreturn\u001b[0m \u001b[0mresults_container\u001b[0m\u001b[1;33m[\u001b[0m\u001b[1;36m0\u001b[0m\u001b[1;33m]\u001b[0m\u001b[1;33m\u001b[0m\u001b[1;33m\u001b[0m\u001b[0m\n\u001b[0;32m    721\u001b[0m \u001b[1;33m\u001b[0m\u001b[0m\n\u001b[1;32m--> 722\u001b[1;33m             \u001b[0mself\u001b[0m\u001b[1;33m.\u001b[0m\u001b[0m_run_search\u001b[0m\u001b[1;33m(\u001b[0m\u001b[0mevaluate_candidates\u001b[0m\u001b[1;33m)\u001b[0m\u001b[1;33m\u001b[0m\u001b[1;33m\u001b[0m\u001b[0m\n\u001b[0m\u001b[0;32m    723\u001b[0m \u001b[1;33m\u001b[0m\u001b[0m\n\u001b[0;32m    724\u001b[0m         \u001b[0mresults\u001b[0m \u001b[1;33m=\u001b[0m \u001b[0mresults_container\u001b[0m\u001b[1;33m[\u001b[0m\u001b[1;36m0\u001b[0m\u001b[1;33m]\u001b[0m\u001b[1;33m\u001b[0m\u001b[1;33m\u001b[0m\u001b[0m\n",
      "\u001b[1;32m~\\AppData\\Local\\conda\\conda\\envs\\python36\\lib\\site-packages\\sklearn\\model_selection\\_search.py\u001b[0m in \u001b[0;36m_run_search\u001b[1;34m(self, evaluate_candidates)\u001b[0m\n\u001b[0;32m   1189\u001b[0m     \u001b[1;32mdef\u001b[0m \u001b[0m_run_search\u001b[0m\u001b[1;33m(\u001b[0m\u001b[0mself\u001b[0m\u001b[1;33m,\u001b[0m \u001b[0mevaluate_candidates\u001b[0m\u001b[1;33m)\u001b[0m\u001b[1;33m:\u001b[0m\u001b[1;33m\u001b[0m\u001b[1;33m\u001b[0m\u001b[0m\n\u001b[0;32m   1190\u001b[0m         \u001b[1;34m\"\"\"Search all candidates in param_grid\"\"\"\u001b[0m\u001b[1;33m\u001b[0m\u001b[1;33m\u001b[0m\u001b[0m\n\u001b[1;32m-> 1191\u001b[1;33m         \u001b[0mevaluate_candidates\u001b[0m\u001b[1;33m(\u001b[0m\u001b[0mParameterGrid\u001b[0m\u001b[1;33m(\u001b[0m\u001b[0mself\u001b[0m\u001b[1;33m.\u001b[0m\u001b[0mparam_grid\u001b[0m\u001b[1;33m)\u001b[0m\u001b[1;33m)\u001b[0m\u001b[1;33m\u001b[0m\u001b[1;33m\u001b[0m\u001b[0m\n\u001b[0m\u001b[0;32m   1192\u001b[0m \u001b[1;33m\u001b[0m\u001b[0m\n\u001b[0;32m   1193\u001b[0m \u001b[1;33m\u001b[0m\u001b[0m\n",
      "\u001b[1;32m~\\AppData\\Local\\conda\\conda\\envs\\python36\\lib\\site-packages\\sklearn\\model_selection\\_search.py\u001b[0m in \u001b[0;36mevaluate_candidates\u001b[1;34m(candidate_params)\u001b[0m\n\u001b[0;32m    709\u001b[0m                                \u001b[1;32mfor\u001b[0m \u001b[0mparameters\u001b[0m\u001b[1;33m,\u001b[0m \u001b[1;33m(\u001b[0m\u001b[0mtrain\u001b[0m\u001b[1;33m,\u001b[0m \u001b[0mtest\u001b[0m\u001b[1;33m)\u001b[0m\u001b[1;33m\u001b[0m\u001b[1;33m\u001b[0m\u001b[0m\n\u001b[0;32m    710\u001b[0m                                in product(candidate_params,\n\u001b[1;32m--> 711\u001b[1;33m                                           cv.split(X, y, groups)))\n\u001b[0m\u001b[0;32m    712\u001b[0m \u001b[1;33m\u001b[0m\u001b[0m\n\u001b[0;32m    713\u001b[0m                 \u001b[0mall_candidate_params\u001b[0m\u001b[1;33m.\u001b[0m\u001b[0mextend\u001b[0m\u001b[1;33m(\u001b[0m\u001b[0mcandidate_params\u001b[0m\u001b[1;33m)\u001b[0m\u001b[1;33m\u001b[0m\u001b[1;33m\u001b[0m\u001b[0m\n",
      "\u001b[1;32m~\\AppData\\Local\\conda\\conda\\envs\\python36\\lib\\site-packages\\sklearn\\externals\\joblib\\parallel.py\u001b[0m in \u001b[0;36m__call__\u001b[1;34m(self, iterable)\u001b[0m\n\u001b[0;32m    928\u001b[0m \u001b[1;33m\u001b[0m\u001b[0m\n\u001b[0;32m    929\u001b[0m             \u001b[1;32mwith\u001b[0m \u001b[0mself\u001b[0m\u001b[1;33m.\u001b[0m\u001b[0m_backend\u001b[0m\u001b[1;33m.\u001b[0m\u001b[0mretrieval_context\u001b[0m\u001b[1;33m(\u001b[0m\u001b[1;33m)\u001b[0m\u001b[1;33m:\u001b[0m\u001b[1;33m\u001b[0m\u001b[1;33m\u001b[0m\u001b[0m\n\u001b[1;32m--> 930\u001b[1;33m                 \u001b[0mself\u001b[0m\u001b[1;33m.\u001b[0m\u001b[0mretrieve\u001b[0m\u001b[1;33m(\u001b[0m\u001b[1;33m)\u001b[0m\u001b[1;33m\u001b[0m\u001b[1;33m\u001b[0m\u001b[0m\n\u001b[0m\u001b[0;32m    931\u001b[0m             \u001b[1;31m# Make sure that we get a last message telling us we are done\u001b[0m\u001b[1;33m\u001b[0m\u001b[1;33m\u001b[0m\u001b[1;33m\u001b[0m\u001b[0m\n\u001b[0;32m    932\u001b[0m             \u001b[0melapsed_time\u001b[0m \u001b[1;33m=\u001b[0m \u001b[0mtime\u001b[0m\u001b[1;33m.\u001b[0m\u001b[0mtime\u001b[0m\u001b[1;33m(\u001b[0m\u001b[1;33m)\u001b[0m \u001b[1;33m-\u001b[0m \u001b[0mself\u001b[0m\u001b[1;33m.\u001b[0m\u001b[0m_start_time\u001b[0m\u001b[1;33m\u001b[0m\u001b[1;33m\u001b[0m\u001b[0m\n",
      "\u001b[1;32m~\\AppData\\Local\\conda\\conda\\envs\\python36\\lib\\site-packages\\sklearn\\externals\\joblib\\parallel.py\u001b[0m in \u001b[0;36mretrieve\u001b[1;34m(self)\u001b[0m\n\u001b[0;32m    831\u001b[0m             \u001b[1;32mtry\u001b[0m\u001b[1;33m:\u001b[0m\u001b[1;33m\u001b[0m\u001b[1;33m\u001b[0m\u001b[0m\n\u001b[0;32m    832\u001b[0m                 \u001b[1;32mif\u001b[0m \u001b[0mgetattr\u001b[0m\u001b[1;33m(\u001b[0m\u001b[0mself\u001b[0m\u001b[1;33m.\u001b[0m\u001b[0m_backend\u001b[0m\u001b[1;33m,\u001b[0m \u001b[1;34m'supports_timeout'\u001b[0m\u001b[1;33m,\u001b[0m \u001b[1;32mFalse\u001b[0m\u001b[1;33m)\u001b[0m\u001b[1;33m:\u001b[0m\u001b[1;33m\u001b[0m\u001b[1;33m\u001b[0m\u001b[0m\n\u001b[1;32m--> 833\u001b[1;33m                     \u001b[0mself\u001b[0m\u001b[1;33m.\u001b[0m\u001b[0m_output\u001b[0m\u001b[1;33m.\u001b[0m\u001b[0mextend\u001b[0m\u001b[1;33m(\u001b[0m\u001b[0mjob\u001b[0m\u001b[1;33m.\u001b[0m\u001b[0mget\u001b[0m\u001b[1;33m(\u001b[0m\u001b[0mtimeout\u001b[0m\u001b[1;33m=\u001b[0m\u001b[0mself\u001b[0m\u001b[1;33m.\u001b[0m\u001b[0mtimeout\u001b[0m\u001b[1;33m)\u001b[0m\u001b[1;33m)\u001b[0m\u001b[1;33m\u001b[0m\u001b[1;33m\u001b[0m\u001b[0m\n\u001b[0m\u001b[0;32m    834\u001b[0m                 \u001b[1;32melse\u001b[0m\u001b[1;33m:\u001b[0m\u001b[1;33m\u001b[0m\u001b[1;33m\u001b[0m\u001b[0m\n\u001b[0;32m    835\u001b[0m                     \u001b[0mself\u001b[0m\u001b[1;33m.\u001b[0m\u001b[0m_output\u001b[0m\u001b[1;33m.\u001b[0m\u001b[0mextend\u001b[0m\u001b[1;33m(\u001b[0m\u001b[0mjob\u001b[0m\u001b[1;33m.\u001b[0m\u001b[0mget\u001b[0m\u001b[1;33m(\u001b[0m\u001b[1;33m)\u001b[0m\u001b[1;33m)\u001b[0m\u001b[1;33m\u001b[0m\u001b[1;33m\u001b[0m\u001b[0m\n",
      "\u001b[1;32m~\\AppData\\Local\\conda\\conda\\envs\\python36\\lib\\site-packages\\sklearn\\externals\\joblib\\_parallel_backends.py\u001b[0m in \u001b[0;36mwrap_future_result\u001b[1;34m(future, timeout)\u001b[0m\n\u001b[0;32m    519\u001b[0m         AsyncResults.get from multiprocessing.\"\"\"\n\u001b[0;32m    520\u001b[0m         \u001b[1;32mtry\u001b[0m\u001b[1;33m:\u001b[0m\u001b[1;33m\u001b[0m\u001b[1;33m\u001b[0m\u001b[0m\n\u001b[1;32m--> 521\u001b[1;33m             \u001b[1;32mreturn\u001b[0m \u001b[0mfuture\u001b[0m\u001b[1;33m.\u001b[0m\u001b[0mresult\u001b[0m\u001b[1;33m(\u001b[0m\u001b[0mtimeout\u001b[0m\u001b[1;33m=\u001b[0m\u001b[0mtimeout\u001b[0m\u001b[1;33m)\u001b[0m\u001b[1;33m\u001b[0m\u001b[1;33m\u001b[0m\u001b[0m\n\u001b[0m\u001b[0;32m    522\u001b[0m         \u001b[1;32mexcept\u001b[0m \u001b[0mLokyTimeoutError\u001b[0m\u001b[1;33m:\u001b[0m\u001b[1;33m\u001b[0m\u001b[1;33m\u001b[0m\u001b[0m\n\u001b[0;32m    523\u001b[0m             \u001b[1;32mraise\u001b[0m \u001b[0mTimeoutError\u001b[0m\u001b[1;33m(\u001b[0m\u001b[1;33m)\u001b[0m\u001b[1;33m\u001b[0m\u001b[1;33m\u001b[0m\u001b[0m\n",
      "\u001b[1;32m~\\AppData\\Local\\conda\\conda\\envs\\python36\\lib\\concurrent\\futures\\_base.py\u001b[0m in \u001b[0;36mresult\u001b[1;34m(self, timeout)\u001b[0m\n\u001b[0;32m    430\u001b[0m                 \u001b[1;32mraise\u001b[0m \u001b[0mCancelledError\u001b[0m\u001b[1;33m(\u001b[0m\u001b[1;33m)\u001b[0m\u001b[1;33m\u001b[0m\u001b[1;33m\u001b[0m\u001b[0m\n\u001b[0;32m    431\u001b[0m             \u001b[1;32melif\u001b[0m \u001b[0mself\u001b[0m\u001b[1;33m.\u001b[0m\u001b[0m_state\u001b[0m \u001b[1;33m==\u001b[0m \u001b[0mFINISHED\u001b[0m\u001b[1;33m:\u001b[0m\u001b[1;33m\u001b[0m\u001b[1;33m\u001b[0m\u001b[0m\n\u001b[1;32m--> 432\u001b[1;33m                 \u001b[1;32mreturn\u001b[0m \u001b[0mself\u001b[0m\u001b[1;33m.\u001b[0m\u001b[0m__get_result\u001b[0m\u001b[1;33m(\u001b[0m\u001b[1;33m)\u001b[0m\u001b[1;33m\u001b[0m\u001b[1;33m\u001b[0m\u001b[0m\n\u001b[0m\u001b[0;32m    433\u001b[0m             \u001b[1;32melse\u001b[0m\u001b[1;33m:\u001b[0m\u001b[1;33m\u001b[0m\u001b[1;33m\u001b[0m\u001b[0m\n\u001b[0;32m    434\u001b[0m                 \u001b[1;32mraise\u001b[0m \u001b[0mTimeoutError\u001b[0m\u001b[1;33m(\u001b[0m\u001b[1;33m)\u001b[0m\u001b[1;33m\u001b[0m\u001b[1;33m\u001b[0m\u001b[0m\n",
      "\u001b[1;32m~\\AppData\\Local\\conda\\conda\\envs\\python36\\lib\\concurrent\\futures\\_base.py\u001b[0m in \u001b[0;36m__get_result\u001b[1;34m(self)\u001b[0m\n\u001b[0;32m    382\u001b[0m     \u001b[1;32mdef\u001b[0m \u001b[0m__get_result\u001b[0m\u001b[1;33m(\u001b[0m\u001b[0mself\u001b[0m\u001b[1;33m)\u001b[0m\u001b[1;33m:\u001b[0m\u001b[1;33m\u001b[0m\u001b[1;33m\u001b[0m\u001b[0m\n\u001b[0;32m    383\u001b[0m         \u001b[1;32mif\u001b[0m \u001b[0mself\u001b[0m\u001b[1;33m.\u001b[0m\u001b[0m_exception\u001b[0m\u001b[1;33m:\u001b[0m\u001b[1;33m\u001b[0m\u001b[1;33m\u001b[0m\u001b[0m\n\u001b[1;32m--> 384\u001b[1;33m             \u001b[1;32mraise\u001b[0m \u001b[0mself\u001b[0m\u001b[1;33m.\u001b[0m\u001b[0m_exception\u001b[0m\u001b[1;33m\u001b[0m\u001b[1;33m\u001b[0m\u001b[0m\n\u001b[0m\u001b[0;32m    385\u001b[0m         \u001b[1;32melse\u001b[0m\u001b[1;33m:\u001b[0m\u001b[1;33m\u001b[0m\u001b[1;33m\u001b[0m\u001b[0m\n\u001b[0;32m    386\u001b[0m             \u001b[1;32mreturn\u001b[0m \u001b[0mself\u001b[0m\u001b[1;33m.\u001b[0m\u001b[0m_result\u001b[0m\u001b[1;33m\u001b[0m\u001b[1;33m\u001b[0m\u001b[0m\n",
      "\u001b[1;31mValueError\u001b[0m: Target is multiclass but average='binary'. Please choose another average setting."
     ]
    }
   ],
   "source": [
    "gs_lin_svc_cv5_1000_f1 = tuning_hyper_params(X_train_1000.reshape(-1,784), y_train_1000, 'linear', 5, 'f1', np.logspace(-4,2,7), np.logspace(-4,2,7))"
   ]
  },
  {
   "cell_type": "code",
   "execution_count": 186,
   "metadata": {},
   "outputs": [
    {
     "name": "stdout",
     "output_type": "stream",
     "text": [
      "Tuning Hyperparameter zu Score accuracy\n",
      "\n",
      "Zeit für Suche:  338.7347061634064\n",
      "Zeit für Suche:  1.8876120999999557\n",
      "Zeit für Suche:  338.73595745560306\n",
      "Besten gefundenen Parameter lauten:\n",
      "\n",
      "{'C': 10.0, 'gamma': 0.01, 'kernel': 'rbf'}\n",
      "\n",
      "0.613 (+/-0.051) for {'C': 0.0001, 'gamma': 0.0001, 'kernel': 'rbf'}\n",
      "0.629 (+/-0.037) for {'C': 0.0001, 'gamma': 0.001, 'kernel': 'rbf'}\n",
      "0.666 (+/-0.029) for {'C': 0.0001, 'gamma': 0.01, 'kernel': 'rbf'}\n",
      "0.436 (+/-0.085) for {'C': 0.0001, 'gamma': 0.1, 'kernel': 'rbf'}\n",
      "0.134 (+/-0.031) for {'C': 0.0001, 'gamma': 1.0, 'kernel': 'rbf'}\n",
      "0.754 (+/-0.041) for {'C': 0.0001, 'gamma': 10.0, 'kernel': 'rbf'}\n",
      "0.118 (+/-0.015) for {'C': 0.0001, 'gamma': 100.0, 'kernel': 'rbf'}\n",
      "0.613 (+/-0.051) for {'C': 0.001, 'gamma': 0.0001, 'kernel': 'rbf'}\n",
      "0.629 (+/-0.037) for {'C': 0.001, 'gamma': 0.001, 'kernel': 'rbf'}\n",
      "0.666 (+/-0.029) for {'C': 0.001, 'gamma': 0.01, 'kernel': 'rbf'}\n",
      "0.436 (+/-0.085) for {'C': 0.001, 'gamma': 0.1, 'kernel': 'rbf'}\n",
      "0.134 (+/-0.031) for {'C': 0.001, 'gamma': 1.0, 'kernel': 'rbf'}\n",
      "0.754 (+/-0.041) for {'C': 0.001, 'gamma': 10.0, 'kernel': 'rbf'}\n",
      "0.118 (+/-0.015) for {'C': 0.001, 'gamma': 100.0, 'kernel': 'rbf'}\n",
      "0.613 (+/-0.051) for {'C': 0.01, 'gamma': 0.0001, 'kernel': 'rbf'}\n",
      "0.629 (+/-0.037) for {'C': 0.01, 'gamma': 0.001, 'kernel': 'rbf'}\n",
      "0.666 (+/-0.029) for {'C': 0.01, 'gamma': 0.01, 'kernel': 'rbf'}\n",
      "0.436 (+/-0.085) for {'C': 0.01, 'gamma': 0.1, 'kernel': 'rbf'}\n",
      "0.134 (+/-0.031) for {'C': 0.01, 'gamma': 1.0, 'kernel': 'rbf'}\n",
      "0.754 (+/-0.041) for {'C': 0.01, 'gamma': 10.0, 'kernel': 'rbf'}\n",
      "0.118 (+/-0.015) for {'C': 0.01, 'gamma': 100.0, 'kernel': 'rbf'}\n",
      "0.613 (+/-0.051) for {'C': 0.1, 'gamma': 0.0001, 'kernel': 'rbf'}\n",
      "0.629 (+/-0.037) for {'C': 0.1, 'gamma': 0.001, 'kernel': 'rbf'}\n",
      "0.693 (+/-0.026) for {'C': 0.1, 'gamma': 0.01, 'kernel': 'rbf'}\n",
      "0.436 (+/-0.085) for {'C': 0.1, 'gamma': 0.1, 'kernel': 'rbf'}\n",
      "0.134 (+/-0.031) for {'C': 0.1, 'gamma': 1.0, 'kernel': 'rbf'}\n",
      "0.754 (+/-0.041) for {'C': 0.1, 'gamma': 10.0, 'kernel': 'rbf'}\n",
      "0.118 (+/-0.015) for {'C': 0.1, 'gamma': 100.0, 'kernel': 'rbf'}\n",
      "0.616 (+/-0.047) for {'C': 1.0, 'gamma': 0.0001, 'kernel': 'rbf'}\n",
      "0.718 (+/-0.027) for {'C': 1.0, 'gamma': 0.001, 'kernel': 'rbf'}\n",
      "0.787 (+/-0.028) for {'C': 1.0, 'gamma': 0.01, 'kernel': 'rbf'}\n",
      "0.664 (+/-0.077) for {'C': 1.0, 'gamma': 0.1, 'kernel': 'rbf'}\n",
      "0.212 (+/-0.026) for {'C': 1.0, 'gamma': 1.0, 'kernel': 'rbf'}\n",
      "0.323 (+/-0.164) for {'C': 1.0, 'gamma': 10.0, 'kernel': 'rbf'}\n",
      "0.118 (+/-0.015) for {'C': 1.0, 'gamma': 100.0, 'kernel': 'rbf'}\n",
      "0.727 (+/-0.042) for {'C': 10.0, 'gamma': 0.0001, 'kernel': 'rbf'}\n",
      "0.790 (+/-0.042) for {'C': 10.0, 'gamma': 0.001, 'kernel': 'rbf'}\n",
      "0.817 (+/-0.010) for {'C': 10.0, 'gamma': 0.01, 'kernel': 'rbf'}\n",
      "0.684 (+/-0.065) for {'C': 10.0, 'gamma': 0.1, 'kernel': 'rbf'}\n",
      "0.222 (+/-0.036) for {'C': 10.0, 'gamma': 1.0, 'kernel': 'rbf'}\n",
      "0.308 (+/-0.150) for {'C': 10.0, 'gamma': 10.0, 'kernel': 'rbf'}\n",
      "0.118 (+/-0.015) for {'C': 10.0, 'gamma': 100.0, 'kernel': 'rbf'}\n",
      "0.801 (+/-0.047) for {'C': 100.0, 'gamma': 0.0001, 'kernel': 'rbf'}\n",
      "0.794 (+/-0.039) for {'C': 100.0, 'gamma': 0.001, 'kernel': 'rbf'}\n",
      "0.815 (+/-0.023) for {'C': 100.0, 'gamma': 0.01, 'kernel': 'rbf'}\n",
      "0.684 (+/-0.065) for {'C': 100.0, 'gamma': 0.1, 'kernel': 'rbf'}\n",
      "0.222 (+/-0.036) for {'C': 100.0, 'gamma': 1.0, 'kernel': 'rbf'}\n",
      "0.308 (+/-0.150) for {'C': 100.0, 'gamma': 10.0, 'kernel': 'rbf'}\n",
      "0.118 (+/-0.015) for {'C': 100.0, 'gamma': 100.0, 'kernel': 'rbf'}\n",
      "\n",
      "Klassifikationsreport\n",
      "\n",
      "              precision    recall  f1-score   support\n",
      "\n",
      "           0       0.78      0.75      0.77      1000\n",
      "           1       0.99      0.94      0.96      1000\n",
      "           2       0.65      0.74      0.69      1000\n",
      "           3       0.81      0.81      0.81      1000\n",
      "           4       0.69      0.71      0.70      1000\n",
      "           5       0.91      0.92      0.91      1000\n",
      "           6       0.59      0.53      0.56      1000\n",
      "           7       0.89      0.90      0.89      1000\n",
      "           8       0.95      0.95      0.95      1000\n",
      "           9       0.92      0.91      0.92      1000\n",
      "\n",
      "   micro avg       0.82      0.82      0.82     10000\n",
      "   macro avg       0.82      0.82      0.82     10000\n",
      "weighted avg       0.82      0.82      0.82     10000\n",
      "\n",
      "\n"
     ]
    }
   ],
   "source": [
    "gs_rbf_svc_cv5_1000 = tuning_hyper_params(X_train_1000.reshape(-1,784), y_train_1000, 'rbf', 5, 'accuracy', np.logspace(-4,2,7), np.logspace(-4,2,7))"
   ]
  },
  {
   "cell_type": "code",
   "execution_count": 187,
   "metadata": {},
   "outputs": [
    {
     "name": "stdout",
     "output_type": "stream",
     "text": [
      "Tuning Hyperparameter zu Score accuracy\n",
      "\n",
      "Zeit für Suche:  354.4841992855072\n",
      "Zeit für Suche:  1.5132097000000044\n",
      "Zeit für Suche:  354.4767880341451\n",
      "Besten gefundenen Parameter lauten:\n",
      "\n",
      "{'C': 100.0, 'gamma': 0.001, 'kernel': 'sigmoid'}\n",
      "\n",
      "0.613 (+/-0.051) for {'C': 0.0001, 'gamma': 0.0001, 'kernel': 'sigmoid'}\n",
      "0.618 (+/-0.045) for {'C': 0.0001, 'gamma': 0.001, 'kernel': 'sigmoid'}\n",
      "0.566 (+/-0.053) for {'C': 0.0001, 'gamma': 0.01, 'kernel': 'sigmoid'}\n",
      "0.122 (+/-0.043) for {'C': 0.0001, 'gamma': 0.1, 'kernel': 'sigmoid'}\n",
      "0.060 (+/-0.018) for {'C': 0.0001, 'gamma': 1.0, 'kernel': 'sigmoid'}\n",
      "0.100 (+/-0.000) for {'C': 0.0001, 'gamma': 10.0, 'kernel': 'sigmoid'}\n",
      "0.100 (+/-0.000) for {'C': 0.0001, 'gamma': 100.0, 'kernel': 'sigmoid'}\n",
      "0.613 (+/-0.051) for {'C': 0.001, 'gamma': 0.0001, 'kernel': 'sigmoid'}\n",
      "0.618 (+/-0.045) for {'C': 0.001, 'gamma': 0.001, 'kernel': 'sigmoid'}\n",
      "0.566 (+/-0.053) for {'C': 0.001, 'gamma': 0.01, 'kernel': 'sigmoid'}\n",
      "0.122 (+/-0.043) for {'C': 0.001, 'gamma': 0.1, 'kernel': 'sigmoid'}\n",
      "0.045 (+/-0.026) for {'C': 0.001, 'gamma': 1.0, 'kernel': 'sigmoid'}\n",
      "0.100 (+/-0.000) for {'C': 0.001, 'gamma': 10.0, 'kernel': 'sigmoid'}\n",
      "0.100 (+/-0.000) for {'C': 0.001, 'gamma': 100.0, 'kernel': 'sigmoid'}\n",
      "0.613 (+/-0.051) for {'C': 0.01, 'gamma': 0.0001, 'kernel': 'sigmoid'}\n",
      "0.618 (+/-0.045) for {'C': 0.01, 'gamma': 0.001, 'kernel': 'sigmoid'}\n",
      "0.566 (+/-0.053) for {'C': 0.01, 'gamma': 0.01, 'kernel': 'sigmoid'}\n",
      "0.122 (+/-0.043) for {'C': 0.01, 'gamma': 0.1, 'kernel': 'sigmoid'}\n",
      "0.045 (+/-0.026) for {'C': 0.01, 'gamma': 1.0, 'kernel': 'sigmoid'}\n",
      "0.100 (+/-0.000) for {'C': 0.01, 'gamma': 10.0, 'kernel': 'sigmoid'}\n",
      "0.100 (+/-0.000) for {'C': 0.01, 'gamma': 100.0, 'kernel': 'sigmoid'}\n",
      "0.613 (+/-0.051) for {'C': 0.1, 'gamma': 0.0001, 'kernel': 'sigmoid'}\n",
      "0.618 (+/-0.045) for {'C': 0.1, 'gamma': 0.001, 'kernel': 'sigmoid'}\n",
      "0.573 (+/-0.049) for {'C': 0.1, 'gamma': 0.01, 'kernel': 'sigmoid'}\n",
      "0.115 (+/-0.036) for {'C': 0.1, 'gamma': 0.1, 'kernel': 'sigmoid'}\n",
      "0.045 (+/-0.026) for {'C': 0.1, 'gamma': 1.0, 'kernel': 'sigmoid'}\n",
      "0.100 (+/-0.000) for {'C': 0.1, 'gamma': 10.0, 'kernel': 'sigmoid'}\n",
      "0.100 (+/-0.000) for {'C': 0.1, 'gamma': 100.0, 'kernel': 'sigmoid'}\n",
      "0.613 (+/-0.051) for {'C': 1.0, 'gamma': 0.0001, 'kernel': 'sigmoid'}\n",
      "0.686 (+/-0.031) for {'C': 1.0, 'gamma': 0.001, 'kernel': 'sigmoid'}\n",
      "0.429 (+/-0.041) for {'C': 1.0, 'gamma': 0.01, 'kernel': 'sigmoid'}\n",
      "0.124 (+/-0.077) for {'C': 1.0, 'gamma': 0.1, 'kernel': 'sigmoid'}\n",
      "0.045 (+/-0.026) for {'C': 1.0, 'gamma': 1.0, 'kernel': 'sigmoid'}\n",
      "0.100 (+/-0.000) for {'C': 1.0, 'gamma': 10.0, 'kernel': 'sigmoid'}\n",
      "0.100 (+/-0.000) for {'C': 1.0, 'gamma': 100.0, 'kernel': 'sigmoid'}\n",
      "0.684 (+/-0.033) for {'C': 10.0, 'gamma': 0.0001, 'kernel': 'sigmoid'}\n",
      "0.779 (+/-0.037) for {'C': 10.0, 'gamma': 0.001, 'kernel': 'sigmoid'}\n",
      "0.405 (+/-0.014) for {'C': 10.0, 'gamma': 0.01, 'kernel': 'sigmoid'}\n",
      "0.125 (+/-0.037) for {'C': 10.0, 'gamma': 0.1, 'kernel': 'sigmoid'}\n",
      "0.045 (+/-0.026) for {'C': 10.0, 'gamma': 1.0, 'kernel': 'sigmoid'}\n",
      "0.100 (+/-0.000) for {'C': 10.0, 'gamma': 10.0, 'kernel': 'sigmoid'}\n",
      "0.100 (+/-0.000) for {'C': 10.0, 'gamma': 100.0, 'kernel': 'sigmoid'}\n",
      "0.777 (+/-0.041) for {'C': 100.0, 'gamma': 0.0001, 'kernel': 'sigmoid'}\n",
      "0.795 (+/-0.021) for {'C': 100.0, 'gamma': 0.001, 'kernel': 'sigmoid'}\n",
      "0.378 (+/-0.020) for {'C': 100.0, 'gamma': 0.01, 'kernel': 'sigmoid'}\n",
      "0.133 (+/-0.079) for {'C': 100.0, 'gamma': 0.1, 'kernel': 'sigmoid'}\n",
      "0.045 (+/-0.026) for {'C': 100.0, 'gamma': 1.0, 'kernel': 'sigmoid'}\n",
      "0.100 (+/-0.000) for {'C': 100.0, 'gamma': 10.0, 'kernel': 'sigmoid'}\n",
      "0.100 (+/-0.000) for {'C': 100.0, 'gamma': 100.0, 'kernel': 'sigmoid'}\n",
      "\n",
      "Klassifikationsreport\n",
      "\n",
      "              precision    recall  f1-score   support\n",
      "\n",
      "           0       0.78      0.72      0.75      1000\n",
      "           1       0.99      0.94      0.97      1000\n",
      "           2       0.60      0.72      0.66      1000\n",
      "           3       0.78      0.83      0.80      1000\n",
      "           4       0.69      0.70      0.69      1000\n",
      "           5       0.88      0.88      0.88      1000\n",
      "           6       0.54      0.45      0.49      1000\n",
      "           7       0.86      0.89      0.87      1000\n",
      "           8       0.94      0.93      0.93      1000\n",
      "           9       0.91      0.90      0.90      1000\n",
      "\n",
      "   micro avg       0.80      0.80      0.80     10000\n",
      "   macro avg       0.80      0.80      0.79     10000\n",
      "weighted avg       0.80      0.80      0.79     10000\n",
      "\n",
      "\n"
     ]
    }
   ],
   "source": [
    "gs_sig_svc_cv5_1000 = tuning_hyper_params(X_train_1000.reshape(-1,784), y_train_1000, 'sigmoid', 5, 'accuracy', np.logspace(-4,2,7), np.logspace(-4,2,7))"
   ]
  },
  {
   "cell_type": "code",
   "execution_count": 188,
   "metadata": {},
   "outputs": [
    {
     "name": "stdout",
     "output_type": "stream",
     "text": [
      "Tuning Hyperparameter zu Score accuracy\n",
      "\n",
      "Zeit für Suche:  726.5227403640747\n",
      "Zeit für Suche:  3.7284238999999957\n",
      "Zeit für Suche:  726.5228002667936\n",
      "Besten gefundenen Parameter lauten:\n",
      "\n",
      "{'C': 0.001, 'degree': 1, 'gamma': 100.0, 'kernel': 'poly'}\n",
      "\n",
      "0.613 (+/-0.051) for {'C': 0.0001, 'degree': 1, 'gamma': 0.0001, 'kernel': 'poly'}\n",
      "0.613 (+/-0.051) for {'C': 0.0001, 'degree': 1, 'gamma': 0.001, 'kernel': 'poly'}\n",
      "0.613 (+/-0.051) for {'C': 0.0001, 'degree': 1, 'gamma': 0.01, 'kernel': 'poly'}\n",
      "0.613 (+/-0.051) for {'C': 0.0001, 'degree': 1, 'gamma': 0.1, 'kernel': 'poly'}\n",
      "0.613 (+/-0.051) for {'C': 0.0001, 'degree': 1, 'gamma': 1.0, 'kernel': 'poly'}\n",
      "0.684 (+/-0.033) for {'C': 0.0001, 'degree': 1, 'gamma': 10.0, 'kernel': 'poly'}\n",
      "0.777 (+/-0.041) for {'C': 0.0001, 'degree': 1, 'gamma': 100.0, 'kernel': 'poly'}\n",
      "0.419 (+/-0.032) for {'C': 0.0001, 'degree': 2, 'gamma': 0.0001, 'kernel': 'poly'}\n",
      "0.419 (+/-0.032) for {'C': 0.0001, 'degree': 2, 'gamma': 0.001, 'kernel': 'poly'}\n",
      "0.419 (+/-0.032) for {'C': 0.0001, 'degree': 2, 'gamma': 0.01, 'kernel': 'poly'}\n",
      "0.455 (+/-0.017) for {'C': 0.0001, 'degree': 2, 'gamma': 0.1, 'kernel': 'poly'}\n",
      "0.750 (+/-0.030) for {'C': 0.0001, 'degree': 2, 'gamma': 1.0, 'kernel': 'poly'}\n",
      "0.794 (+/-0.040) for {'C': 0.0001, 'degree': 2, 'gamma': 10.0, 'kernel': 'poly'}\n",
      "0.786 (+/-0.032) for {'C': 0.0001, 'degree': 2, 'gamma': 100.0, 'kernel': 'poly'}\n",
      "0.312 (+/-0.039) for {'C': 0.0001, 'degree': 3, 'gamma': 0.0001, 'kernel': 'poly'}\n",
      "0.312 (+/-0.039) for {'C': 0.0001, 'degree': 3, 'gamma': 0.001, 'kernel': 'poly'}\n",
      "0.312 (+/-0.039) for {'C': 0.0001, 'degree': 3, 'gamma': 0.01, 'kernel': 'poly'}\n",
      "0.623 (+/-0.050) for {'C': 0.0001, 'degree': 3, 'gamma': 0.1, 'kernel': 'poly'}\n",
      "0.775 (+/-0.047) for {'C': 0.0001, 'degree': 3, 'gamma': 1.0, 'kernel': 'poly'}\n",
      "0.772 (+/-0.008) for {'C': 0.0001, 'degree': 3, 'gamma': 10.0, 'kernel': 'poly'}\n",
      "0.772 (+/-0.008) for {'C': 0.0001, 'degree': 3, 'gamma': 100.0, 'kernel': 'poly'}\n",
      "0.613 (+/-0.051) for {'C': 0.001, 'degree': 1, 'gamma': 0.0001, 'kernel': 'poly'}\n",
      "0.613 (+/-0.051) for {'C': 0.001, 'degree': 1, 'gamma': 0.001, 'kernel': 'poly'}\n",
      "0.613 (+/-0.051) for {'C': 0.001, 'degree': 1, 'gamma': 0.01, 'kernel': 'poly'}\n",
      "0.613 (+/-0.051) for {'C': 0.001, 'degree': 1, 'gamma': 0.1, 'kernel': 'poly'}\n",
      "0.684 (+/-0.033) for {'C': 0.001, 'degree': 1, 'gamma': 1.0, 'kernel': 'poly'}\n",
      "0.777 (+/-0.041) for {'C': 0.001, 'degree': 1, 'gamma': 10.0, 'kernel': 'poly'}\n",
      "0.801 (+/-0.044) for {'C': 0.001, 'degree': 1, 'gamma': 100.0, 'kernel': 'poly'}\n",
      "0.419 (+/-0.032) for {'C': 0.001, 'degree': 2, 'gamma': 0.0001, 'kernel': 'poly'}\n",
      "0.419 (+/-0.032) for {'C': 0.001, 'degree': 2, 'gamma': 0.001, 'kernel': 'poly'}\n",
      "0.419 (+/-0.032) for {'C': 0.001, 'degree': 2, 'gamma': 0.01, 'kernel': 'poly'}\n",
      "0.648 (+/-0.034) for {'C': 0.001, 'degree': 2, 'gamma': 0.1, 'kernel': 'poly'}\n",
      "0.800 (+/-0.033) for {'C': 0.001, 'degree': 2, 'gamma': 1.0, 'kernel': 'poly'}\n",
      "0.786 (+/-0.032) for {'C': 0.001, 'degree': 2, 'gamma': 10.0, 'kernel': 'poly'}\n",
      "0.786 (+/-0.032) for {'C': 0.001, 'degree': 2, 'gamma': 100.0, 'kernel': 'poly'}\n",
      "0.312 (+/-0.039) for {'C': 0.001, 'degree': 3, 'gamma': 0.0001, 'kernel': 'poly'}\n",
      "0.312 (+/-0.039) for {'C': 0.001, 'degree': 3, 'gamma': 0.001, 'kernel': 'poly'}\n",
      "0.312 (+/-0.039) for {'C': 0.001, 'degree': 3, 'gamma': 0.01, 'kernel': 'poly'}\n",
      "0.711 (+/-0.045) for {'C': 0.001, 'degree': 3, 'gamma': 0.1, 'kernel': 'poly'}\n",
      "0.774 (+/-0.022) for {'C': 0.001, 'degree': 3, 'gamma': 1.0, 'kernel': 'poly'}\n",
      "0.772 (+/-0.008) for {'C': 0.001, 'degree': 3, 'gamma': 10.0, 'kernel': 'poly'}\n",
      "0.772 (+/-0.008) for {'C': 0.001, 'degree': 3, 'gamma': 100.0, 'kernel': 'poly'}\n",
      "0.613 (+/-0.051) for {'C': 0.01, 'degree': 1, 'gamma': 0.0001, 'kernel': 'poly'}\n",
      "0.613 (+/-0.051) for {'C': 0.01, 'degree': 1, 'gamma': 0.001, 'kernel': 'poly'}\n",
      "0.613 (+/-0.051) for {'C': 0.01, 'degree': 1, 'gamma': 0.01, 'kernel': 'poly'}\n",
      "0.684 (+/-0.033) for {'C': 0.01, 'degree': 1, 'gamma': 0.1, 'kernel': 'poly'}\n",
      "0.777 (+/-0.041) for {'C': 0.01, 'degree': 1, 'gamma': 1.0, 'kernel': 'poly'}\n",
      "0.801 (+/-0.044) for {'C': 0.01, 'degree': 1, 'gamma': 10.0, 'kernel': 'poly'}\n",
      "0.780 (+/-0.067) for {'C': 0.01, 'degree': 1, 'gamma': 100.0, 'kernel': 'poly'}\n",
      "0.419 (+/-0.032) for {'C': 0.01, 'degree': 2, 'gamma': 0.0001, 'kernel': 'poly'}\n",
      "0.419 (+/-0.032) for {'C': 0.01, 'degree': 2, 'gamma': 0.001, 'kernel': 'poly'}\n",
      "0.455 (+/-0.017) for {'C': 0.01, 'degree': 2, 'gamma': 0.01, 'kernel': 'poly'}\n",
      "0.750 (+/-0.030) for {'C': 0.01, 'degree': 2, 'gamma': 0.1, 'kernel': 'poly'}\n",
      "0.794 (+/-0.040) for {'C': 0.01, 'degree': 2, 'gamma': 1.0, 'kernel': 'poly'}\n",
      "0.786 (+/-0.032) for {'C': 0.01, 'degree': 2, 'gamma': 10.0, 'kernel': 'poly'}\n",
      "0.786 (+/-0.032) for {'C': 0.01, 'degree': 2, 'gamma': 100.0, 'kernel': 'poly'}\n",
      "0.312 (+/-0.039) for {'C': 0.01, 'degree': 3, 'gamma': 0.0001, 'kernel': 'poly'}\n",
      "0.312 (+/-0.039) for {'C': 0.01, 'degree': 3, 'gamma': 0.001, 'kernel': 'poly'}\n",
      "0.442 (+/-0.027) for {'C': 0.01, 'degree': 3, 'gamma': 0.01, 'kernel': 'poly'}\n",
      "0.765 (+/-0.022) for {'C': 0.01, 'degree': 3, 'gamma': 0.1, 'kernel': 'poly'}\n",
      "0.772 (+/-0.008) for {'C': 0.01, 'degree': 3, 'gamma': 1.0, 'kernel': 'poly'}\n",
      "0.772 (+/-0.008) for {'C': 0.01, 'degree': 3, 'gamma': 10.0, 'kernel': 'poly'}\n",
      "0.772 (+/-0.008) for {'C': 0.01, 'degree': 3, 'gamma': 100.0, 'kernel': 'poly'}\n",
      "0.613 (+/-0.051) for {'C': 0.1, 'degree': 1, 'gamma': 0.0001, 'kernel': 'poly'}\n",
      "0.613 (+/-0.051) for {'C': 0.1, 'degree': 1, 'gamma': 0.001, 'kernel': 'poly'}\n",
      "0.684 (+/-0.033) for {'C': 0.1, 'degree': 1, 'gamma': 0.01, 'kernel': 'poly'}\n",
      "0.777 (+/-0.041) for {'C': 0.1, 'degree': 1, 'gamma': 0.1, 'kernel': 'poly'}\n",
      "0.801 (+/-0.044) for {'C': 0.1, 'degree': 1, 'gamma': 1.0, 'kernel': 'poly'}\n",
      "0.780 (+/-0.067) for {'C': 0.1, 'degree': 1, 'gamma': 10.0, 'kernel': 'poly'}\n",
      "0.780 (+/-0.067) for {'C': 0.1, 'degree': 1, 'gamma': 100.0, 'kernel': 'poly'}\n",
      "0.419 (+/-0.032) for {'C': 0.1, 'degree': 2, 'gamma': 0.0001, 'kernel': 'poly'}\n",
      "0.419 (+/-0.032) for {'C': 0.1, 'degree': 2, 'gamma': 0.001, 'kernel': 'poly'}\n",
      "0.648 (+/-0.034) for {'C': 0.1, 'degree': 2, 'gamma': 0.01, 'kernel': 'poly'}\n",
      "0.800 (+/-0.033) for {'C': 0.1, 'degree': 2, 'gamma': 0.1, 'kernel': 'poly'}\n",
      "0.786 (+/-0.032) for {'C': 0.1, 'degree': 2, 'gamma': 1.0, 'kernel': 'poly'}\n",
      "0.786 (+/-0.032) for {'C': 0.1, 'degree': 2, 'gamma': 10.0, 'kernel': 'poly'}\n",
      "0.786 (+/-0.032) for {'C': 0.1, 'degree': 2, 'gamma': 100.0, 'kernel': 'poly'}\n",
      "0.312 (+/-0.039) for {'C': 0.1, 'degree': 3, 'gamma': 0.0001, 'kernel': 'poly'}\n",
      "0.312 (+/-0.039) for {'C': 0.1, 'degree': 3, 'gamma': 0.001, 'kernel': 'poly'}\n",
      "0.623 (+/-0.050) for {'C': 0.1, 'degree': 3, 'gamma': 0.01, 'kernel': 'poly'}\n",
      "0.775 (+/-0.047) for {'C': 0.1, 'degree': 3, 'gamma': 0.1, 'kernel': 'poly'}\n",
      "0.772 (+/-0.008) for {'C': 0.1, 'degree': 3, 'gamma': 1.0, 'kernel': 'poly'}\n",
      "0.772 (+/-0.008) for {'C': 0.1, 'degree': 3, 'gamma': 10.0, 'kernel': 'poly'}\n",
      "0.772 (+/-0.008) for {'C': 0.1, 'degree': 3, 'gamma': 100.0, 'kernel': 'poly'}\n",
      "0.613 (+/-0.051) for {'C': 1.0, 'degree': 1, 'gamma': 0.0001, 'kernel': 'poly'}\n",
      "0.684 (+/-0.033) for {'C': 1.0, 'degree': 1, 'gamma': 0.001, 'kernel': 'poly'}\n",
      "0.777 (+/-0.041) for {'C': 1.0, 'degree': 1, 'gamma': 0.01, 'kernel': 'poly'}\n",
      "0.801 (+/-0.044) for {'C': 1.0, 'degree': 1, 'gamma': 0.1, 'kernel': 'poly'}\n",
      "0.780 (+/-0.067) for {'C': 1.0, 'degree': 1, 'gamma': 1.0, 'kernel': 'poly'}\n",
      "0.780 (+/-0.067) for {'C': 1.0, 'degree': 1, 'gamma': 10.0, 'kernel': 'poly'}\n",
      "0.780 (+/-0.067) for {'C': 1.0, 'degree': 1, 'gamma': 100.0, 'kernel': 'poly'}\n",
      "0.419 (+/-0.032) for {'C': 1.0, 'degree': 2, 'gamma': 0.0001, 'kernel': 'poly'}\n",
      "0.455 (+/-0.017) for {'C': 1.0, 'degree': 2, 'gamma': 0.001, 'kernel': 'poly'}\n",
      "0.750 (+/-0.030) for {'C': 1.0, 'degree': 2, 'gamma': 0.01, 'kernel': 'poly'}\n",
      "0.794 (+/-0.040) for {'C': 1.0, 'degree': 2, 'gamma': 0.1, 'kernel': 'poly'}\n",
      "0.786 (+/-0.032) for {'C': 1.0, 'degree': 2, 'gamma': 1.0, 'kernel': 'poly'}\n",
      "0.786 (+/-0.032) for {'C': 1.0, 'degree': 2, 'gamma': 10.0, 'kernel': 'poly'}\n",
      "0.786 (+/-0.032) for {'C': 1.0, 'degree': 2, 'gamma': 100.0, 'kernel': 'poly'}\n",
      "0.312 (+/-0.039) for {'C': 1.0, 'degree': 3, 'gamma': 0.0001, 'kernel': 'poly'}\n",
      "0.312 (+/-0.039) for {'C': 1.0, 'degree': 3, 'gamma': 0.001, 'kernel': 'poly'}\n",
      "0.711 (+/-0.045) for {'C': 1.0, 'degree': 3, 'gamma': 0.01, 'kernel': 'poly'}\n",
      "0.774 (+/-0.022) for {'C': 1.0, 'degree': 3, 'gamma': 0.1, 'kernel': 'poly'}\n",
      "0.772 (+/-0.008) for {'C': 1.0, 'degree': 3, 'gamma': 1.0, 'kernel': 'poly'}\n",
      "0.772 (+/-0.008) for {'C': 1.0, 'degree': 3, 'gamma': 10.0, 'kernel': 'poly'}\n",
      "0.772 (+/-0.008) for {'C': 1.0, 'degree': 3, 'gamma': 100.0, 'kernel': 'poly'}\n",
      "0.684 (+/-0.033) for {'C': 10.0, 'degree': 1, 'gamma': 0.0001, 'kernel': 'poly'}\n",
      "0.777 (+/-0.041) for {'C': 10.0, 'degree': 1, 'gamma': 0.001, 'kernel': 'poly'}\n",
      "0.801 (+/-0.044) for {'C': 10.0, 'degree': 1, 'gamma': 0.01, 'kernel': 'poly'}\n",
      "0.780 (+/-0.067) for {'C': 10.0, 'degree': 1, 'gamma': 0.1, 'kernel': 'poly'}\n",
      "0.780 (+/-0.067) for {'C': 10.0, 'degree': 1, 'gamma': 1.0, 'kernel': 'poly'}\n",
      "0.780 (+/-0.067) for {'C': 10.0, 'degree': 1, 'gamma': 10.0, 'kernel': 'poly'}\n",
      "0.780 (+/-0.067) for {'C': 10.0, 'degree': 1, 'gamma': 100.0, 'kernel': 'poly'}\n",
      "0.419 (+/-0.032) for {'C': 10.0, 'degree': 2, 'gamma': 0.0001, 'kernel': 'poly'}\n",
      "0.648 (+/-0.034) for {'C': 10.0, 'degree': 2, 'gamma': 0.001, 'kernel': 'poly'}\n",
      "0.800 (+/-0.033) for {'C': 10.0, 'degree': 2, 'gamma': 0.01, 'kernel': 'poly'}\n",
      "0.786 (+/-0.032) for {'C': 10.0, 'degree': 2, 'gamma': 0.1, 'kernel': 'poly'}\n",
      "0.786 (+/-0.032) for {'C': 10.0, 'degree': 2, 'gamma': 1.0, 'kernel': 'poly'}\n",
      "0.786 (+/-0.032) for {'C': 10.0, 'degree': 2, 'gamma': 10.0, 'kernel': 'poly'}\n",
      "0.786 (+/-0.032) for {'C': 10.0, 'degree': 2, 'gamma': 100.0, 'kernel': 'poly'}\n",
      "0.312 (+/-0.039) for {'C': 10.0, 'degree': 3, 'gamma': 0.0001, 'kernel': 'poly'}\n",
      "0.442 (+/-0.027) for {'C': 10.0, 'degree': 3, 'gamma': 0.001, 'kernel': 'poly'}\n",
      "0.765 (+/-0.022) for {'C': 10.0, 'degree': 3, 'gamma': 0.01, 'kernel': 'poly'}\n",
      "0.772 (+/-0.008) for {'C': 10.0, 'degree': 3, 'gamma': 0.1, 'kernel': 'poly'}\n",
      "0.772 (+/-0.008) for {'C': 10.0, 'degree': 3, 'gamma': 1.0, 'kernel': 'poly'}\n",
      "0.772 (+/-0.008) for {'C': 10.0, 'degree': 3, 'gamma': 10.0, 'kernel': 'poly'}\n",
      "0.772 (+/-0.008) for {'C': 10.0, 'degree': 3, 'gamma': 100.0, 'kernel': 'poly'}\n",
      "0.777 (+/-0.041) for {'C': 100.0, 'degree': 1, 'gamma': 0.0001, 'kernel': 'poly'}\n",
      "0.801 (+/-0.044) for {'C': 100.0, 'degree': 1, 'gamma': 0.001, 'kernel': 'poly'}\n",
      "0.780 (+/-0.067) for {'C': 100.0, 'degree': 1, 'gamma': 0.01, 'kernel': 'poly'}\n",
      "0.780 (+/-0.067) for {'C': 100.0, 'degree': 1, 'gamma': 0.1, 'kernel': 'poly'}\n",
      "0.780 (+/-0.067) for {'C': 100.0, 'degree': 1, 'gamma': 1.0, 'kernel': 'poly'}\n",
      "0.780 (+/-0.067) for {'C': 100.0, 'degree': 1, 'gamma': 10.0, 'kernel': 'poly'}\n",
      "0.780 (+/-0.067) for {'C': 100.0, 'degree': 1, 'gamma': 100.0, 'kernel': 'poly'}\n",
      "0.455 (+/-0.017) for {'C': 100.0, 'degree': 2, 'gamma': 0.0001, 'kernel': 'poly'}\n",
      "0.750 (+/-0.030) for {'C': 100.0, 'degree': 2, 'gamma': 0.001, 'kernel': 'poly'}\n",
      "0.794 (+/-0.040) for {'C': 100.0, 'degree': 2, 'gamma': 0.01, 'kernel': 'poly'}\n",
      "0.786 (+/-0.032) for {'C': 100.0, 'degree': 2, 'gamma': 0.1, 'kernel': 'poly'}\n",
      "0.786 (+/-0.032) for {'C': 100.0, 'degree': 2, 'gamma': 1.0, 'kernel': 'poly'}\n",
      "0.786 (+/-0.032) for {'C': 100.0, 'degree': 2, 'gamma': 10.0, 'kernel': 'poly'}\n",
      "0.786 (+/-0.032) for {'C': 100.0, 'degree': 2, 'gamma': 100.0, 'kernel': 'poly'}\n",
      "0.312 (+/-0.039) for {'C': 100.0, 'degree': 3, 'gamma': 0.0001, 'kernel': 'poly'}\n",
      "0.623 (+/-0.050) for {'C': 100.0, 'degree': 3, 'gamma': 0.001, 'kernel': 'poly'}\n",
      "0.775 (+/-0.047) for {'C': 100.0, 'degree': 3, 'gamma': 0.01, 'kernel': 'poly'}\n",
      "0.772 (+/-0.008) for {'C': 100.0, 'degree': 3, 'gamma': 0.1, 'kernel': 'poly'}\n",
      "0.772 (+/-0.008) for {'C': 100.0, 'degree': 3, 'gamma': 1.0, 'kernel': 'poly'}\n",
      "0.772 (+/-0.008) for {'C': 100.0, 'degree': 3, 'gamma': 10.0, 'kernel': 'poly'}\n",
      "0.772 (+/-0.008) for {'C': 100.0, 'degree': 3, 'gamma': 100.0, 'kernel': 'poly'}\n",
      "\n",
      "Klassifikationsreport\n",
      "\n"
     ]
    },
    {
     "name": "stdout",
     "output_type": "stream",
     "text": [
      "              precision    recall  f1-score   support\n",
      "\n",
      "           0       0.77      0.72      0.75      1000\n",
      "           1       0.99      0.94      0.97      1000\n",
      "           2       0.63      0.74      0.68      1000\n",
      "           3       0.78      0.82      0.80      1000\n",
      "           4       0.69      0.70      0.70      1000\n",
      "           5       0.88      0.88      0.88      1000\n",
      "           6       0.57      0.49      0.53      1000\n",
      "           7       0.86      0.89      0.88      1000\n",
      "           8       0.94      0.93      0.94      1000\n",
      "           9       0.91      0.90      0.90      1000\n",
      "\n",
      "   micro avg       0.80      0.80      0.80     10000\n",
      "   macro avg       0.80      0.80      0.80     10000\n",
      "weighted avg       0.80      0.80      0.80     10000\n",
      "\n",
      "\n"
     ]
    }
   ],
   "source": [
    "gs_poly_svc_cv5_1000 = tuning_hyper_params(X_train_1000.reshape(-1,784), y_train_1000, 'poly', 5, 'accuracy', np.logspace(-4,2,7), np.logspace(-4,2,7))"
   ]
  },
  {
   "cell_type": "code",
   "execution_count": null,
   "metadata": {},
   "outputs": [],
   "source": [
    "'''\n",
    "TRAININGSMENGE 2000\n",
    "'''"
   ]
  },
  {
   "cell_type": "code",
   "execution_count": 210,
   "metadata": {},
   "outputs": [
    {
     "name": "stdout",
     "output_type": "stream",
     "text": [
      "Tuning des Hyperparameers C zu Score accuracy\n",
      "\n",
      "Zeit für Suche:  55.5107536315918\n",
      "Zeit für Suche:  4.0248258000000305\n",
      "Zeit für Suche:  55.51380245414839\n",
      "Besten gefundenen Parameter lauten:\n",
      "\n",
      "{'C': 0.1}\n",
      "\n",
      "0.671 (+/-0.023) for {'C': 0.0001}\n",
      "0.765 (+/-0.043) for {'C': 0.001}\n",
      "0.809 (+/-0.026) for {'C': 0.01}\n",
      "0.815 (+/-0.021) for {'C': 0.1}\n",
      "0.785 (+/-0.021) for {'C': 1.0}\n",
      "0.776 (+/-0.028) for {'C': 10.0}\n",
      "0.777 (+/-0.021) for {'C': 100.0}\n",
      "\n",
      "Klassifikationsreport\n",
      "\n",
      "              precision    recall  f1-score   support\n",
      "\n",
      "           0       0.76      0.76      0.76      1000\n",
      "           1       0.97      0.95      0.96      1000\n",
      "           2       0.66      0.73      0.70      1000\n",
      "           3       0.78      0.84      0.81      1000\n",
      "           4       0.70      0.69      0.70      1000\n",
      "           5       0.92      0.86      0.89      1000\n",
      "           6       0.58      0.50      0.54      1000\n",
      "           7       0.86      0.91      0.89      1000\n",
      "           8       0.91      0.91      0.91      1000\n",
      "           9       0.90      0.91      0.91      1000\n",
      "\n",
      "   micro avg       0.81      0.81      0.81     10000\n",
      "   macro avg       0.81      0.81      0.81     10000\n",
      "weighted avg       0.81      0.81      0.81     10000\n",
      "\n",
      "\n"
     ]
    }
   ],
   "source": [
    "gs_linearSVC_cv5_2000= tuning_hyper_param_LinearSVC(X_train_2000.reshape(-1,784),y_train_2000,\n",
    "                                                   5, 'accuracy', np.logspace(-4,2,7))"
   ]
  },
  {
   "cell_type": "code",
   "execution_count": 233,
   "metadata": {},
   "outputs": [
    {
     "name": "stdout",
     "output_type": "stream",
     "text": [
      "Tuning des Hyperparameers C zu Score accuracy\n",
      "\n",
      "Zeit für Suche:  46.25319504737854\n",
      "Zeit für Suche:  1.9344123999999852\n",
      "Zeit für Suche:  46.26893511768685\n",
      "Besten gefundenen Parameter lauten:\n",
      "\n",
      "{'C': 0.03162277660168379}\n",
      "\n",
      "0.809 (+/-0.026) for {'C': 0.01}\n",
      "0.819 (+/-0.026) for {'C': 0.03162277660168379}\n",
      "0.815 (+/-0.021) for {'C': 0.1}\n",
      "0.797 (+/-0.026) for {'C': 0.31622776601683794}\n",
      "0.787 (+/-0.022) for {'C': 1.0}\n",
      "\n",
      "Klassifikationsreport\n",
      "\n",
      "              precision    recall  f1-score   support\n",
      "\n",
      "           0       0.78      0.76      0.77      1000\n",
      "           1       0.98      0.95      0.96      1000\n",
      "           2       0.68      0.73      0.70      1000\n",
      "           3       0.78      0.86      0.82      1000\n",
      "           4       0.71      0.71      0.71      1000\n",
      "           5       0.93      0.87      0.90      1000\n",
      "           6       0.61      0.51      0.55      1000\n",
      "           7       0.86      0.91      0.88      1000\n",
      "           8       0.91      0.92      0.92      1000\n",
      "           9       0.90      0.92      0.91      1000\n",
      "\n",
      "   micro avg       0.81      0.81      0.81     10000\n",
      "   macro avg       0.81      0.81      0.81     10000\n",
      "weighted avg       0.81      0.81      0.81     10000\n",
      "\n",
      "\n"
     ]
    }
   ],
   "source": [
    "gs_linearSVC_cv5_2000B= tuning_hyper_param_LinearSVC(X_train_2000.reshape(-1,784),y_train_2000,\n",
    "                                                   5, 'accuracy', np.logspace(-2,0,5))"
   ]
  },
  {
   "cell_type": "code",
   "execution_count": 235,
   "metadata": {},
   "outputs": [
    {
     "name": "stdout",
     "output_type": "stream",
     "text": [
      "Tuning des Hyperparameers C zu Score accuracy\n",
      "\n",
      "Zeit für Suche:  35.4576153755188\n",
      "Zeit für Suche:  3.2760210000000143\n",
      "Zeit für Suche:  35.46330124295855\n",
      "Besten gefundenen Parameter lauten:\n",
      "\n",
      "{'C': 0.05623413251903491}\n",
      "\n",
      "0.809 (+/-0.026) for {'C': 0.01}\n",
      "0.813 (+/-0.018) for {'C': 0.01778279410038923}\n",
      "0.819 (+/-0.026) for {'C': 0.03162277660168379}\n",
      "0.819 (+/-0.025) for {'C': 0.05623413251903491}\n",
      "0.815 (+/-0.021) for {'C': 0.1}\n",
      "\n",
      "Klassifikationsreport\n",
      "\n",
      "              precision    recall  f1-score   support\n",
      "\n",
      "           0       0.77      0.76      0.76      1000\n",
      "           1       0.97      0.95      0.96      1000\n",
      "           2       0.67      0.74      0.70      1000\n",
      "           3       0.78      0.85      0.81      1000\n",
      "           4       0.70      0.70      0.70      1000\n",
      "           5       0.93      0.87      0.90      1000\n",
      "           6       0.60      0.51      0.55      1000\n",
      "           7       0.86      0.91      0.89      1000\n",
      "           8       0.91      0.92      0.92      1000\n",
      "           9       0.90      0.92      0.91      1000\n",
      "\n",
      "   micro avg       0.81      0.81      0.81     10000\n",
      "   macro avg       0.81      0.81      0.81     10000\n",
      "weighted avg       0.81      0.81      0.81     10000\n",
      "\n",
      "\n"
     ]
    }
   ],
   "source": [
    "gs_linearSVC_cv5_2000C= tuning_hyper_param_LinearSVC(X_train_2000.reshape(-1,784),y_train_2000,\n",
    "                                                   5, 'accuracy', np.logspace(-2,-1,5))"
   ]
  },
  {
   "cell_type": "code",
   "execution_count": 237,
   "metadata": {},
   "outputs": [
    {
     "name": "stdout",
     "output_type": "stream",
     "text": [
      "Tuning des Hyperparameers C zu Score accuracy\n",
      "\n",
      "Zeit für Suche:  43.637042760849\n",
      "Zeit für Suche:  2.340014999999994\n",
      "Zeit für Suche:  43.62778595863165\n",
      "Besten gefundenen Parameter lauten:\n",
      "\n",
      "{'C': 0.042169650342858224}\n",
      "\n",
      "0.819 (+/-0.026) for {'C': 0.03162277660168379}\n",
      "0.820 (+/-0.027) for {'C': 0.042169650342858224}\n",
      "0.819 (+/-0.025) for {'C': 0.05623413251903491}\n",
      "0.819 (+/-0.023) for {'C': 0.07498942093324558}\n",
      "0.815 (+/-0.021) for {'C': 0.1}\n",
      "\n",
      "Klassifikationsreport\n",
      "\n",
      "              precision    recall  f1-score   support\n",
      "\n",
      "           0       0.77      0.77      0.77      1000\n",
      "           1       0.97      0.95      0.96      1000\n",
      "           2       0.67      0.73      0.70      1000\n",
      "           3       0.78      0.85      0.82      1000\n",
      "           4       0.70      0.71      0.70      1000\n",
      "           5       0.93      0.87      0.90      1000\n",
      "           6       0.61      0.51      0.55      1000\n",
      "           7       0.86      0.91      0.89      1000\n",
      "           8       0.91      0.92      0.92      1000\n",
      "           9       0.90      0.92      0.91      1000\n",
      "\n",
      "   micro avg       0.81      0.81      0.81     10000\n",
      "   macro avg       0.81      0.81      0.81     10000\n",
      "weighted avg       0.81      0.81      0.81     10000\n",
      "\n",
      "\n"
     ]
    }
   ],
   "source": [
    "gs_linearSVC_cv5_2000D= tuning_hyper_param_LinearSVC(X_train_2000.reshape(-1,784),y_train_2000,\n",
    "                                                   5, 'accuracy', np.logspace(-1.5,-1,5))"
   ]
  },
  {
   "cell_type": "code",
   "execution_count": 238,
   "metadata": {},
   "outputs": [
    {
     "data": {
      "text/plain": [
       "0.8132"
      ]
     },
     "execution_count": 238,
     "metadata": {},
     "output_type": "execute_result"
    }
   ],
   "source": [
    "gs_linearSVC_cv5_2000D.score(X_test.reshape(-1,784), y_test)"
   ]
  },
  {
   "cell_type": "code",
   "execution_count": 246,
   "metadata": {},
   "outputs": [
    {
     "name": "stdout",
     "output_type": "stream",
     "text": [
      "Tuning des Hyperparameers C zu Score accuracy\n",
      "\n",
      "Zeit für Suche:  34.6519820690155\n",
      "Zeit für Suche:  2.1996140999999625\n",
      "Zeit für Suche:  34.653576311418874\n",
      "Besten gefundenen Parameter lauten:\n",
      "\n",
      "{'C': 0.042169650342858224}\n",
      "\n",
      "0.819 (+/-0.026) for {'C': 0.03162277660168379}\n",
      "0.818 (+/-0.024) for {'C': 0.03651741272548377}\n",
      "0.820 (+/-0.027) for {'C': 0.042169650342858224}\n",
      "0.820 (+/-0.026) for {'C': 0.04869675251658631}\n",
      "0.819 (+/-0.025) for {'C': 0.05623413251903491}\n",
      "\n",
      "Klassifikationsreport\n",
      "\n",
      "              precision    recall  f1-score   support\n",
      "\n",
      "           0       0.77      0.77      0.77      1000\n",
      "           1       0.97      0.95      0.96      1000\n",
      "           2       0.67      0.73      0.70      1000\n",
      "           3       0.78      0.85      0.82      1000\n",
      "           4       0.70      0.71      0.70      1000\n",
      "           5       0.93      0.87      0.90      1000\n",
      "           6       0.61      0.51      0.55      1000\n",
      "           7       0.86      0.91      0.89      1000\n",
      "           8       0.91      0.92      0.92      1000\n",
      "           9       0.90      0.92      0.91      1000\n",
      "\n",
      "   micro avg       0.81      0.81      0.81     10000\n",
      "   macro avg       0.81      0.81      0.81     10000\n",
      "weighted avg       0.81      0.81      0.81     10000\n",
      "\n",
      "\n"
     ]
    }
   ],
   "source": [
    "gs_linearSVC_cv5_2000E= tuning_hyper_param_LinearSVC(X_train_2000.reshape(-1,784),y_train_2000,\n",
    "                                                   5, 'accuracy', np.logspace(-1.5,-1.25,5))"
   ]
  },
  {
   "cell_type": "code",
   "execution_count": 248,
   "metadata": {},
   "outputs": [
    {
     "name": "stdout",
     "output_type": "stream",
     "text": [
      "Tuning des Hyperparameers C zu Score accuracy\n",
      "\n",
      "Zeit für Suche:  36.89656639099121\n",
      "Zeit für Suche:  2.433615599999996\n",
      "Zeit für Suche:  36.89104116909584\n",
      "Besten gefundenen Parameter lauten:\n",
      "\n",
      "{'C': 0.042169650342858224}\n",
      "\n",
      "0.818 (+/-0.024) for {'C': 0.03651741272548377}\n",
      "0.818 (+/-0.026) for {'C': 0.03924189758484536}\n",
      "0.820 (+/-0.027) for {'C': 0.042169650342858224}\n",
      "0.819 (+/-0.028) for {'C': 0.04531583637600818}\n",
      "0.820 (+/-0.026) for {'C': 0.04869675251658631}\n",
      "\n",
      "Klassifikationsreport\n",
      "\n",
      "              precision    recall  f1-score   support\n",
      "\n",
      "           0       0.77      0.77      0.77      1000\n",
      "           1       0.97      0.95      0.96      1000\n",
      "           2       0.67      0.73      0.70      1000\n",
      "           3       0.78      0.85      0.82      1000\n",
      "           4       0.70      0.71      0.70      1000\n",
      "           5       0.93      0.87      0.90      1000\n",
      "           6       0.61      0.51      0.55      1000\n",
      "           7       0.86      0.91      0.89      1000\n",
      "           8       0.91      0.92      0.92      1000\n",
      "           9       0.90      0.92      0.91      1000\n",
      "\n",
      "   micro avg       0.81      0.81      0.81     10000\n",
      "   macro avg       0.81      0.81      0.81     10000\n",
      "weighted avg       0.81      0.81      0.81     10000\n",
      "\n",
      "\n"
     ]
    }
   ],
   "source": [
    "gs_linearSVC_cv5_2000F= tuning_hyper_param_LinearSVC(X_train_2000.reshape(-1,784),y_train_2000,\n",
    "                                                   5, 'accuracy', np.logspace(-1.4375,-1.3125,5))"
   ]
  },
  {
   "cell_type": "code",
   "execution_count": 247,
   "metadata": {},
   "outputs": [
    {
     "data": {
      "text/plain": [
       "array([0.037, 0.039, 0.042, 0.045, 0.049])"
      ]
     },
     "execution_count": 247,
     "metadata": {},
     "output_type": "execute_result"
    }
   ],
   "source": [
    "np.logspace(-1.4375,-1.3125,5)"
   ]
  },
  {
   "cell_type": "code",
   "execution_count": 243,
   "metadata": {},
   "outputs": [
    {
     "data": {
      "text/plain": [
       "0.8168"
      ]
     },
     "execution_count": 243,
     "metadata": {},
     "output_type": "execute_result"
    }
   ],
   "source": [
    "jj = LinearSVC(C=0.018)\n",
    "jj.fit(X_train_2000.reshape(-1,784), y_train_2000)\n",
    "jj.score(X_test.reshape(-1,784), y_test)"
   ]
  },
  {
   "cell_type": "code",
   "execution_count": 244,
   "metadata": {},
   "outputs": [
    {
     "data": {
      "text/plain": [
       "0.8132"
      ]
     },
     "execution_count": 244,
     "metadata": {},
     "output_type": "execute_result"
    }
   ],
   "source": [
    "jj = LinearSVC(C=0.042169650342858224)\n",
    "jj.fit(X_train_2000.reshape(-1,784), y_train_2000)\n",
    "jj.score(X_test.reshape(-1,784), y_test)"
   ]
  },
  {
   "cell_type": "code",
   "execution_count": null,
   "metadata": {},
   "outputs": [],
   "source": [
    "'''\n",
    "TRAININGSMENGE 5000\n",
    "'''"
   ]
  },
  {
   "cell_type": "code",
   "execution_count": 211,
   "metadata": {},
   "outputs": [
    {
     "name": "stdout",
     "output_type": "stream",
     "text": [
      "Tuning des Hyperparameers C zu Score accuracy\n",
      "\n",
      "Zeit für Suche:  178.9140181541443\n",
      "Zeit für Suche:  2.932818800000007\n",
      "Zeit für Suche:  178.9236545423455\n",
      "Besten gefundenen Parameter lauten:\n",
      "\n",
      "{'C': 0.01}\n",
      "\n",
      "0.695 (+/-0.022) for {'C': 0.0001}\n",
      "0.803 (+/-0.021) for {'C': 0.001}\n",
      "0.831 (+/-0.011) for {'C': 0.01}\n",
      "0.819 (+/-0.019) for {'C': 0.1}\n",
      "0.785 (+/-0.018) for {'C': 1.0}\n",
      "0.763 (+/-0.023) for {'C': 10.0}\n",
      "0.758 (+/-0.022) for {'C': 100.0}\n",
      "\n",
      "Klassifikationsreport\n",
      "\n",
      "              precision    recall  f1-score   support\n",
      "\n",
      "           0       0.78      0.82      0.80      1000\n",
      "           1       0.97      0.95      0.96      1000\n",
      "           2       0.70      0.74      0.72      1000\n",
      "           3       0.81      0.85      0.83      1000\n",
      "           4       0.71      0.75      0.73      1000\n",
      "           5       0.93      0.89      0.91      1000\n",
      "           6       0.65      0.48      0.55      1000\n",
      "           7       0.89      0.91      0.90      1000\n",
      "           8       0.90      0.95      0.93      1000\n",
      "           9       0.91      0.93      0.92      1000\n",
      "\n",
      "   micro avg       0.83      0.83      0.83     10000\n",
      "   macro avg       0.82      0.83      0.82     10000\n",
      "weighted avg       0.82      0.83      0.82     10000\n",
      "\n",
      "\n"
     ]
    }
   ],
   "source": [
    "gs_linearSVC_cv5_5000= tuning_hyper_param_LinearSVC(X_train_5000.reshape(-1,784),y_train_5000,\n",
    "                                                   5, 'accuracy', np.logspace(-4,2,7))"
   ]
  },
  {
   "cell_type": "code",
   "execution_count": 295,
   "metadata": {},
   "outputs": [
    {
     "name": "stdout",
     "output_type": "stream",
     "text": [
      "Tuning des Hyperparameters C zu Score accuracy\n",
      "\n",
      "Zeit für Suche:  89.31847023963928\n",
      "Zeit für Suche:  2.917218700000035\n",
      "Zeit für Suche:  89.329371000018\n",
      "Besten gefundenen Parameter lauten:\n",
      "\n",
      "{'C': 0.01}\n",
      "\n",
      "0.803 (+/-0.021) for {'C': 0.001}\n",
      "0.822 (+/-0.014) for {'C': 0.0031622776601683794}\n",
      "0.831 (+/-0.011) for {'C': 0.01}\n",
      "0.829 (+/-0.015) for {'C': 0.03162277660168379}\n",
      "0.819 (+/-0.019) for {'C': 0.1}\n",
      "\n",
      "Klassifikationsreport\n",
      "\n",
      "              precision    recall  f1-score   support\n",
      "\n",
      "           0       0.78      0.82      0.80      1000\n",
      "           1       0.97      0.95      0.96      1000\n",
      "           2       0.70      0.74      0.72      1000\n",
      "           3       0.81      0.85      0.83      1000\n",
      "           4       0.71      0.75      0.73      1000\n",
      "           5       0.93      0.89      0.91      1000\n",
      "           6       0.65      0.48      0.55      1000\n",
      "           7       0.89      0.91      0.90      1000\n",
      "           8       0.90      0.95      0.93      1000\n",
      "           9       0.91      0.93      0.92      1000\n",
      "\n",
      "   micro avg       0.83      0.83      0.83     10000\n",
      "   macro avg       0.82      0.83      0.82     10000\n",
      "weighted avg       0.82      0.83      0.82     10000\n",
      "\n",
      "\n"
     ]
    }
   ],
   "source": [
    "gs_linearSVC_cv5_5000B= tuning_hyper_param_LinearSVC(X_train_5000.reshape(-1,784),y_train_5000,\n",
    "                                                   5, 'accuracy', np.logspace(-3,-1,5))"
   ]
  },
  {
   "cell_type": "code",
   "execution_count": 294,
   "metadata": {},
   "outputs": [
    {
     "data": {
      "text/plain": [
       "array([0.001, 0.003, 0.01 , 0.032, 0.1  ])"
      ]
     },
     "execution_count": 294,
     "metadata": {},
     "output_type": "execute_result"
    }
   ],
   "source": [
    "np.logspace(-3,-1,5)"
   ]
  },
  {
   "cell_type": "code",
   "execution_count": 296,
   "metadata": {},
   "outputs": [
    {
     "name": "stdout",
     "output_type": "stream",
     "text": [
      "Tuning des Hyperparameters C zu Score accuracy\n",
      "\n",
      "Zeit für Suche:  583.9465205669403\n",
      "Zeit für Suche:  2.9796191000000363\n",
      "Zeit für Suche:  583.9484918280141\n",
      "Besten gefundenen Parameter lauten:\n",
      "\n",
      "{'C': 0.01}\n",
      "\n",
      "0.699 (+/-0.026) for {'C': 0.0001}\n",
      "0.804 (+/-0.020) for {'C': 0.001}\n",
      "0.831 (+/-0.028) for {'C': 0.01}\n",
      "0.825 (+/-0.027) for {'C': 0.1}\n",
      "0.792 (+/-0.024) for {'C': 1.0}\n",
      "0.765 (+/-0.021) for {'C': 10.0}\n",
      "0.756 (+/-0.031) for {'C': 100.0}\n",
      "\n",
      "Klassifikationsreport\n",
      "\n",
      "              precision    recall  f1-score   support\n",
      "\n",
      "           0       0.78      0.82      0.80      1000\n",
      "           1       0.97      0.95      0.96      1000\n",
      "           2       0.70      0.74      0.72      1000\n",
      "           3       0.81      0.85      0.83      1000\n",
      "           4       0.71      0.75      0.73      1000\n",
      "           5       0.93      0.89      0.91      1000\n",
      "           6       0.65      0.48      0.55      1000\n",
      "           7       0.89      0.91      0.90      1000\n",
      "           8       0.90      0.95      0.93      1000\n",
      "           9       0.91      0.93      0.92      1000\n",
      "\n",
      "   micro avg       0.83      0.83      0.83     10000\n",
      "   macro avg       0.82      0.83      0.82     10000\n",
      "weighted avg       0.82      0.83      0.82     10000\n",
      "\n",
      "\n"
     ]
    }
   ],
   "source": [
    "#nochmal mit cv=10\n",
    "gs_linearSVC_cv10_5000= tuning_hyper_param_LinearSVC(X_train_5000.reshape(-1,784),y_train_5000,\n",
    "                                                   10, 'accuracy', np.logspace(-4,2,7))"
   ]
  },
  {
   "cell_type": "code",
   "execution_count": 297,
   "metadata": {},
   "outputs": [
    {
     "name": "stdout",
     "output_type": "stream",
     "text": [
      "Tuning des Hyperparameters C zu Score accuracy\n",
      "\n",
      "Zeit für Suche:  187.13670372962952\n",
      "Zeit für Suche:  3.08881980000001\n",
      "Zeit für Suche:  187.13805655351098\n",
      "Besten gefundenen Parameter lauten:\n",
      "\n",
      "{'C': 0.01}\n",
      "\n",
      "0.804 (+/-0.020) for {'C': 0.001}\n",
      "0.823 (+/-0.020) for {'C': 0.0031622776601683794}\n",
      "0.831 (+/-0.028) for {'C': 0.01}\n",
      "0.830 (+/-0.022) for {'C': 0.03162277660168379}\n",
      "0.825 (+/-0.027) for {'C': 0.1}\n",
      "\n",
      "Klassifikationsreport\n",
      "\n",
      "              precision    recall  f1-score   support\n",
      "\n",
      "           0       0.78      0.82      0.80      1000\n",
      "           1       0.97      0.95      0.96      1000\n",
      "           2       0.70      0.74      0.72      1000\n",
      "           3       0.81      0.85      0.83      1000\n",
      "           4       0.71      0.75      0.73      1000\n",
      "           5       0.93      0.89      0.91      1000\n",
      "           6       0.65      0.48      0.55      1000\n",
      "           7       0.89      0.91      0.90      1000\n",
      "           8       0.90      0.95      0.93      1000\n",
      "           9       0.91      0.93      0.92      1000\n",
      "\n",
      "   micro avg       0.83      0.83      0.83     10000\n",
      "   macro avg       0.82      0.83      0.82     10000\n",
      "weighted avg       0.82      0.83      0.82     10000\n",
      "\n",
      "\n"
     ]
    }
   ],
   "source": [
    "gs_linearSVC_cv10_5000B= tuning_hyper_param_LinearSVC(X_train_5000.reshape(-1,784),y_train_5000,\n",
    "                                                   10, 'accuracy', np.logspace(-3,-1,5))"
   ]
  },
  {
   "cell_type": "code",
   "execution_count": null,
   "metadata": {},
   "outputs": [],
   "source": []
  },
  {
   "cell_type": "code",
   "execution_count": null,
   "metadata": {},
   "outputs": [],
   "source": [
    "'''\n",
    "TRAININGSMENGE 10000\n",
    "'''"
   ]
  },
  {
   "cell_type": "code",
   "execution_count": 212,
   "metadata": {},
   "outputs": [
    {
     "name": "stdout",
     "output_type": "stream",
     "text": [
      "Tuning des Hyperparameers C zu Score accuracy\n",
      "\n",
      "Zeit für Suche:  221.56744194030762\n",
      "Zeit für Suche:  5.912437899999986\n",
      "Zeit für Suche:  221.57819607735019\n",
      "Besten gefundenen Parameter lauten:\n",
      "\n",
      "{'C': 0.01}\n",
      "\n",
      "0.729 (+/-0.008) for {'C': 0.0001}\n",
      "0.818 (+/-0.005) for {'C': 0.001}\n",
      "0.838 (+/-0.009) for {'C': 0.01}\n",
      "0.836 (+/-0.004) for {'C': 0.1}\n",
      "0.809 (+/-0.016) for {'C': 1.0}\n",
      "0.783 (+/-0.015) for {'C': 10.0}\n",
      "0.768 (+/-0.050) for {'C': 100.0}\n",
      "\n",
      "Klassifikationsreport\n",
      "\n",
      "              precision    recall  f1-score   support\n",
      "\n",
      "           0       0.79      0.84      0.81      1000\n",
      "           1       0.97      0.95      0.96      1000\n",
      "           2       0.70      0.73      0.71      1000\n",
      "           3       0.82      0.86      0.84      1000\n",
      "           4       0.71      0.77      0.73      1000\n",
      "           5       0.94      0.90      0.92      1000\n",
      "           6       0.65      0.48      0.56      1000\n",
      "           7       0.89      0.92      0.91      1000\n",
      "           8       0.91      0.95      0.93      1000\n",
      "           9       0.92      0.94      0.93      1000\n",
      "\n",
      "   micro avg       0.83      0.83      0.83     10000\n",
      "   macro avg       0.83      0.83      0.83     10000\n",
      "weighted avg       0.83      0.83      0.83     10000\n",
      "\n",
      "\n"
     ]
    }
   ],
   "source": [
    "gs_linearSVC_cv3_10000= tuning_hyper_param_LinearSVC(X_train_10000.reshape(-1,784),y_train_10000,\n",
    "                                                   3, 'accuracy', np.logspace(-4,2,7))"
   ]
  },
  {
   "cell_type": "code",
   "execution_count": 255,
   "metadata": {},
   "outputs": [
    {
     "name": "stdout",
     "output_type": "stream",
     "text": [
      "Tuning des Hyperparameters C zu Score accuracy\n",
      "\n",
      "Zeit für Suche:  112.1016776561737\n",
      "Zeit für Suche:  12.246078499999953\n",
      "Zeit für Suche:  112.11522062774384\n",
      "Besten gefundenen Parameter lauten:\n",
      "\n",
      "{'C': 0.03162277660168379}\n",
      "\n",
      "0.818 (+/-0.005) for {'C': 0.001}\n",
      "0.834 (+/-0.009) for {'C': 0.0031622776601683794}\n",
      "0.838 (+/-0.009) for {'C': 0.01}\n",
      "0.838 (+/-0.010) for {'C': 0.03162277660168379}\n",
      "0.836 (+/-0.004) for {'C': 0.1}\n",
      "\n",
      "Klassifikationsreport\n",
      "\n",
      "              precision    recall  f1-score   support\n",
      "\n",
      "           0       0.78      0.82      0.80      1000\n",
      "           1       0.96      0.95      0.96      1000\n",
      "           2       0.70      0.73      0.72      1000\n",
      "           3       0.81      0.86      0.84      1000\n",
      "           4       0.71      0.75      0.73      1000\n",
      "           5       0.93      0.91      0.92      1000\n",
      "           6       0.64      0.49      0.55      1000\n",
      "           7       0.89      0.92      0.91      1000\n",
      "           8       0.91      0.94      0.93      1000\n",
      "           9       0.93      0.93      0.93      1000\n",
      "\n",
      "   micro avg       0.83      0.83      0.83     10000\n",
      "   macro avg       0.83      0.83      0.83     10000\n",
      "weighted avg       0.83      0.83      0.83     10000\n",
      "\n",
      "\n"
     ]
    }
   ],
   "source": [
    "gs_linearSVC_cv3_10000B= tuning_hyper_param_LinearSVC(X_train_10000.reshape(-1,784),y_train_10000,\n",
    "                                                   3, 'accuracy', np.logspace(-3,-1,5))"
   ]
  },
  {
   "cell_type": "code",
   "execution_count": 263,
   "metadata": {},
   "outputs": [
    {
     "name": "stdout",
     "output_type": "stream",
     "text": [
      "Tuning des Hyperparameters C zu Score accuracy\n",
      "\n",
      "Zeit für Suche:  153.80095911026\n",
      "Zeit für Suche:  8.48645440000007\n",
      "Zeit für Suche:  153.7933011376026\n",
      "Besten gefundenen Parameter lauten:\n",
      "\n",
      "{'C': 0.01778279410038923}\n",
      "\n",
      "0.818 (+/-0.005) for {'C': 0.001}\n",
      "0.828 (+/-0.008) for {'C': 0.0017782794100389228}\n",
      "0.834 (+/-0.009) for {'C': 0.0031622776601683794}\n",
      "0.837 (+/-0.007) for {'C': 0.005623413251903491}\n",
      "0.838 (+/-0.009) for {'C': 0.01}\n",
      "0.839 (+/-0.012) for {'C': 0.01778279410038923}\n",
      "0.838 (+/-0.010) for {'C': 0.03162277660168379}\n",
      "0.838 (+/-0.008) for {'C': 0.05623413251903491}\n",
      "0.836 (+/-0.004) for {'C': 0.1}\n",
      "\n",
      "Klassifikationsreport\n",
      "\n",
      "              precision    recall  f1-score   support\n",
      "\n",
      "           0       0.79      0.82      0.81      1000\n",
      "           1       0.97      0.95      0.96      1000\n",
      "           2       0.70      0.73      0.71      1000\n",
      "           3       0.81      0.86      0.84      1000\n",
      "           4       0.71      0.76      0.73      1000\n",
      "           5       0.93      0.90      0.92      1000\n",
      "           6       0.65      0.49      0.55      1000\n",
      "           7       0.89      0.92      0.91      1000\n",
      "           8       0.91      0.95      0.93      1000\n",
      "           9       0.92      0.93      0.93      1000\n",
      "\n",
      "   micro avg       0.83      0.83      0.83     10000\n",
      "   macro avg       0.83      0.83      0.83     10000\n",
      "weighted avg       0.83      0.83      0.83     10000\n",
      "\n",
      "\n"
     ]
    }
   ],
   "source": [
    "gs_linearSVC_cv3_10000C= tuning_hyper_param_LinearSVC(X_train_10000.reshape(-1,784),y_train_10000,\n",
    "                                                   3, 'accuracy', np.logspace(-3,-1,9))"
   ]
  },
  {
   "cell_type": "code",
   "execution_count": 270,
   "metadata": {
    "scrolled": true
   },
   "outputs": [
    {
     "name": "stdout",
     "output_type": "stream",
     "text": [
      "Tuning des Hyperparameters C zu Score accuracy\n",
      "\n",
      "Zeit für Suche:  127.31695985794067\n",
      "Zeit für Suche:  8.283653099999924\n",
      "Zeit für Suche:  127.31879689864218\n",
      "Besten gefundenen Parameter lauten:\n",
      "\n",
      "{'C': 0.01778279410038923}\n",
      "\n",
      "0.838 (+/-0.009) for {'C': 0.01}\n",
      "0.839 (+/-0.010) for {'C': 0.011547819846894581}\n",
      "0.839 (+/-0.012) for {'C': 0.01333521432163324}\n",
      "0.839 (+/-0.013) for {'C': 0.01539926526059492}\n",
      "0.839 (+/-0.012) for {'C': 0.01778279410038923}\n",
      "0.839 (+/-0.012) for {'C': 0.02053525026457146}\n",
      "0.839 (+/-0.011) for {'C': 0.023713737056616554}\n",
      "0.838 (+/-0.010) for {'C': 0.027384196342643614}\n",
      "0.838 (+/-0.010) for {'C': 0.03162277660168379}\n",
      "\n",
      "Klassifikationsreport\n",
      "\n",
      "              precision    recall  f1-score   support\n",
      "\n",
      "           0       0.79      0.82      0.81      1000\n",
      "           1       0.97      0.95      0.96      1000\n",
      "           2       0.70      0.73      0.71      1000\n",
      "           3       0.81      0.86      0.84      1000\n",
      "           4       0.71      0.76      0.73      1000\n",
      "           5       0.93      0.90      0.92      1000\n",
      "           6       0.65      0.49      0.55      1000\n",
      "           7       0.89      0.92      0.91      1000\n",
      "           8       0.91      0.95      0.93      1000\n",
      "           9       0.92      0.93      0.93      1000\n",
      "\n",
      "   micro avg       0.83      0.83      0.83     10000\n",
      "   macro avg       0.83      0.83      0.83     10000\n",
      "weighted avg       0.83      0.83      0.83     10000\n",
      "\n",
      "\n"
     ]
    }
   ],
   "source": [
    "gs_linearSVC_cv3_10000D= tuning_hyper_param_LinearSVC(X_train_10000.reshape(-1,784),y_train_10000,\n",
    "                                                   3, 'accuracy', np.logspace(-2,-1.5,9))"
   ]
  },
  {
   "cell_type": "code",
   "execution_count": 272,
   "metadata": {},
   "outputs": [
    {
     "name": "stdout",
     "output_type": "stream",
     "text": [
      "Tuning des Hyperparameters C zu Score accuracy\n",
      "\n",
      "Zeit für Suche:  129.96637845039368\n",
      "Zeit für Suche:  9.391260200000033\n",
      "Zeit für Suche:  129.96011503260888\n",
      "Besten gefundenen Parameter lauten:\n",
      "\n",
      "{'C': 0.019109529749704406}\n",
      "\n",
      "0.839 (+/-0.012) for {'C': 0.01333521432163324}\n",
      "0.839 (+/-0.012) for {'C': 0.014330125702369627}\n",
      "0.839 (+/-0.013) for {'C': 0.01539926526059492}\n",
      "0.839 (+/-0.012) for {'C': 0.016548170999431813}\n",
      "0.839 (+/-0.012) for {'C': 0.01778279410038923}\n",
      "0.839 (+/-0.012) for {'C': 0.019109529749704406}\n",
      "0.839 (+/-0.012) for {'C': 0.02053525026457146}\n",
      "0.838 (+/-0.012) for {'C': 0.0220673406908459}\n",
      "0.839 (+/-0.011) for {'C': 0.023713737056616554}\n",
      "\n",
      "Klassifikationsreport\n",
      "\n",
      "              precision    recall  f1-score   support\n",
      "\n",
      "           0       0.79      0.82      0.81      1000\n",
      "           1       0.96      0.95      0.96      1000\n",
      "           2       0.70      0.73      0.71      1000\n",
      "           3       0.81      0.86      0.84      1000\n",
      "           4       0.71      0.76      0.73      1000\n",
      "           5       0.93      0.90      0.92      1000\n",
      "           6       0.65      0.49      0.56      1000\n",
      "           7       0.89      0.92      0.91      1000\n",
      "           8       0.91      0.95      0.93      1000\n",
      "           9       0.93      0.93      0.93      1000\n",
      "\n",
      "   micro avg       0.83      0.83      0.83     10000\n",
      "   macro avg       0.83      0.83      0.83     10000\n",
      "weighted avg       0.83      0.83      0.83     10000\n",
      "\n",
      "\n"
     ]
    }
   ],
   "source": [
    "gs_linearSVC_cv3_10000E= tuning_hyper_param_LinearSVC(X_train_10000.reshape(-1,784),y_train_10000,\n",
    "                                                   3, 'accuracy', np.logspace(-1.875,-1.625,9))"
   ]
  },
  {
   "cell_type": "code",
   "execution_count": 273,
   "metadata": {},
   "outputs": [
    {
     "data": {
      "text/plain": [
       "0.8315"
      ]
     },
     "execution_count": 273,
     "metadata": {},
     "output_type": "execute_result"
    }
   ],
   "source": [
    "gs_linearSVC_cv3_10000E.score(X_test.reshape(-1,784), y_test)"
   ]
  },
  {
   "cell_type": "code",
   "execution_count": 282,
   "metadata": {},
   "outputs": [
    {
     "name": "stdout",
     "output_type": "stream",
     "text": [
      "Tuning des Hyperparameters C zu Score accuracy\n",
      "\n",
      "Zeit für Suche:  127.45041131973267\n",
      "Zeit für Suche:  8.704855800000018\n",
      "Zeit für Suche:  127.45816837681014\n",
      "Besten gefundenen Parameter lauten:\n",
      "\n",
      "{'C': 0.019109529749704406}\n",
      "\n",
      "0.839 (+/-0.012) for {'C': 0.01778279410038923}\n",
      "0.839 (+/-0.011) for {'C': 0.01810558243027122}\n",
      "0.839 (+/-0.010) for {'C': 0.018434229924091106}\n",
      "0.839 (+/-0.011) for {'C': 0.018768842935762187}\n",
      "0.839 (+/-0.012) for {'C': 0.019109529749704406}\n",
      "0.839 (+/-0.012) for {'C': 0.019456400615886358}\n",
      "0.839 (+/-0.012) for {'C': 0.019809567785503388}\n",
      "0.839 (+/-0.012) for {'C': 0.020169145547303306}\n",
      "0.839 (+/-0.012) for {'C': 0.02053525026457146}\n",
      "\n",
      "Klassifikationsreport\n",
      "\n",
      "              precision    recall  f1-score   support\n",
      "\n",
      "           0       0.79      0.82      0.81      1000\n",
      "           1       0.96      0.95      0.96      1000\n",
      "           2       0.70      0.73      0.71      1000\n",
      "           3       0.81      0.86      0.84      1000\n",
      "           4       0.71      0.76      0.73      1000\n",
      "           5       0.93      0.90      0.92      1000\n",
      "           6       0.65      0.49      0.56      1000\n",
      "           7       0.89      0.92      0.91      1000\n",
      "           8       0.91      0.95      0.93      1000\n",
      "           9       0.93      0.93      0.93      1000\n",
      "\n",
      "   micro avg       0.83      0.83      0.83     10000\n",
      "   macro avg       0.83      0.83      0.83     10000\n",
      "weighted avg       0.83      0.83      0.83     10000\n",
      "\n",
      "\n"
     ]
    }
   ],
   "source": [
    "gs_linearSVC_cv3_10000F= tuning_hyper_param_LinearSVC(X_train_10000.reshape(-1,784),y_train_10000,\n",
    "                                                   3, 'accuracy', np.logspace(-1.75,-1.6875,9))"
   ]
  },
  {
   "cell_type": "code",
   "execution_count": 281,
   "metadata": {},
   "outputs": [
    {
     "data": {
      "text/plain": [
       "array([0.018, 0.018, 0.018, 0.019, 0.019, 0.019, 0.02 , 0.02 , 0.021])"
      ]
     },
     "execution_count": 281,
     "metadata": {},
     "output_type": "execute_result"
    }
   ],
   "source": [
    "np.logspace(-1.75,-1.6875,9)"
   ]
  },
  {
   "cell_type": "code",
   "execution_count": 254,
   "metadata": {},
   "outputs": [
    {
     "data": {
      "text/plain": [
       "array([0.001, 0.003, 0.01 , 0.032, 0.1  ])"
      ]
     },
     "execution_count": 254,
     "metadata": {},
     "output_type": "execute_result"
    }
   ],
   "source": [
    "np.logspace(-3,-1,5)"
   ]
  },
  {
   "cell_type": "code",
   "execution_count": null,
   "metadata": {},
   "outputs": [],
   "source": [
    "'''\n",
    "TRAININGSMENGE 20000\n",
    "'''"
   ]
  },
  {
   "cell_type": "code",
   "execution_count": 249,
   "metadata": {},
   "outputs": [
    {
     "name": "stdout",
     "output_type": "stream",
     "text": [
      "Tuning des Hyperparameers C zu Score accuracy\n",
      "\n",
      "Zeit für Suche:  646.0853595733643\n",
      "Zeit für Suche:  12.168078000000037\n",
      "Zeit für Suche:  646.0792557161731\n",
      "Besten gefundenen Parameter lauten:\n",
      "\n",
      "{'C': 0.01}\n",
      "\n",
      "0.764 (+/-0.010) for {'C': 0.0001}\n",
      "0.828 (+/-0.012) for {'C': 0.001}\n",
      "0.843 (+/-0.011) for {'C': 0.01}\n",
      "0.839 (+/-0.013) for {'C': 0.1}\n",
      "0.822 (+/-0.015) for {'C': 1.0}\n",
      "0.788 (+/-0.034) for {'C': 10.0}\n",
      "0.772 (+/-0.006) for {'C': 100.0}\n",
      "\n",
      "Klassifikationsreport\n",
      "\n",
      "              precision    recall  f1-score   support\n",
      "\n",
      "           0       0.79      0.83      0.81      1000\n",
      "           1       0.97      0.95      0.96      1000\n",
      "           2       0.72      0.73      0.72      1000\n",
      "           3       0.82      0.87      0.84      1000\n",
      "           4       0.71      0.76      0.73      1000\n",
      "           5       0.94      0.91      0.93      1000\n",
      "           6       0.65      0.51      0.57      1000\n",
      "           7       0.90      0.92      0.91      1000\n",
      "           8       0.92      0.95      0.93      1000\n",
      "           9       0.93      0.94      0.94      1000\n",
      "\n",
      "   micro avg       0.84      0.84      0.84     10000\n",
      "   macro avg       0.84      0.84      0.84     10000\n",
      "weighted avg       0.84      0.84      0.84     10000\n",
      "\n",
      "\n"
     ]
    }
   ],
   "source": [
    "gs_linearSVC_cv3_20000= tuning_hyper_param_LinearSVC(X_train_20000.reshape(-1,784),y_train_20000,\n",
    "                                                   3, 'accuracy', np.logspace(-4,2,7))"
   ]
  },
  {
   "cell_type": "code",
   "execution_count": 256,
   "metadata": {},
   "outputs": [
    {
     "name": "stdout",
     "output_type": "stream",
     "text": [
      "Tuning des Hyperparameters C zu Score accuracy\n",
      "\n",
      "Zeit für Suche:  235.587749004364\n",
      "Zeit für Suche:  29.608989799999904\n",
      "Zeit für Suche:  235.59947800124974\n",
      "Besten gefundenen Parameter lauten:\n",
      "\n",
      "{'C': 0.03162277660168379}\n",
      "\n",
      "0.828 (+/-0.012) for {'C': 0.001}\n",
      "0.839 (+/-0.008) for {'C': 0.0031622776601683794}\n",
      "0.843 (+/-0.011) for {'C': 0.01}\n",
      "0.843 (+/-0.009) for {'C': 0.03162277660168379}\n",
      "0.839 (+/-0.013) for {'C': 0.1}\n",
      "\n",
      "Klassifikationsreport\n",
      "\n",
      "              precision    recall  f1-score   support\n",
      "\n",
      "           0       0.79      0.83      0.81      1000\n",
      "           1       0.97      0.96      0.96      1000\n",
      "           2       0.71      0.74      0.73      1000\n",
      "           3       0.82      0.86      0.84      1000\n",
      "           4       0.72      0.76      0.74      1000\n",
      "           5       0.94      0.92      0.93      1000\n",
      "           6       0.65      0.52      0.58      1000\n",
      "           7       0.90      0.93      0.92      1000\n",
      "           8       0.92      0.95      0.94      1000\n",
      "           9       0.94      0.94      0.94      1000\n",
      "\n",
      "   micro avg       0.84      0.84      0.84     10000\n",
      "   macro avg       0.84      0.84      0.84     10000\n",
      "weighted avg       0.84      0.84      0.84     10000\n",
      "\n",
      "\n"
     ]
    }
   ],
   "source": [
    "gs_linearSVC_cv3_20000B= tuning_hyper_param_LinearSVC(X_train_20000.reshape(-1,784),y_train_20000,\n",
    "                                                   3, 'accuracy', np.logspace(-3,-1,5))"
   ]
  },
  {
   "cell_type": "code",
   "execution_count": 289,
   "metadata": {},
   "outputs": [
    {
     "name": "stdout",
     "output_type": "stream",
     "text": [
      "Tuning des Hyperparameters C zu Score accuracy\n",
      "\n",
      "Zeit für Suche:  324.0572295188904\n",
      "Zeit für Suche:  18.75132020000001\n",
      "Zeit für Suche:  324.05254552394763\n",
      "Besten gefundenen Parameter lauten:\n",
      "\n",
      "{'C': 0.01778279410038923}\n",
      "\n",
      "0.828 (+/-0.012) for {'C': 0.001}\n",
      "0.835 (+/-0.011) for {'C': 0.0017782794100389228}\n",
      "0.839 (+/-0.008) for {'C': 0.0031622776601683794}\n",
      "0.843 (+/-0.010) for {'C': 0.005623413251903491}\n",
      "0.843 (+/-0.011) for {'C': 0.01}\n",
      "0.844 (+/-0.009) for {'C': 0.01778279410038923}\n",
      "0.843 (+/-0.009) for {'C': 0.03162277660168379}\n",
      "0.841 (+/-0.011) for {'C': 0.05623413251903491}\n",
      "0.839 (+/-0.013) for {'C': 0.1}\n",
      "\n",
      "Klassifikationsreport\n",
      "\n",
      "              precision    recall  f1-score   support\n",
      "\n",
      "           0       0.79      0.83      0.81      1000\n",
      "           1       0.97      0.95      0.96      1000\n",
      "           2       0.72      0.74      0.73      1000\n",
      "           3       0.83      0.86      0.84      1000\n",
      "           4       0.72      0.76      0.74      1000\n",
      "           5       0.94      0.92      0.93      1000\n",
      "           6       0.66      0.51      0.58      1000\n",
      "           7       0.90      0.93      0.91      1000\n",
      "           8       0.92      0.95      0.93      1000\n",
      "           9       0.94      0.94      0.94      1000\n",
      "\n",
      "   micro avg       0.84      0.84      0.84     10000\n",
      "   macro avg       0.84      0.84      0.84     10000\n",
      "weighted avg       0.84      0.84      0.84     10000\n",
      "\n",
      "\n"
     ]
    }
   ],
   "source": [
    "gs_linearSVC_cv3_20000C= tuning_hyper_param_LinearSVC(X_train_20000.reshape(-1,784),y_train_20000,\n",
    "                                                   3, 'accuracy', np.logspace(-3,-1,9))"
   ]
  },
  {
   "cell_type": "code",
   "execution_count": 283,
   "metadata": {},
   "outputs": [
    {
     "data": {
      "text/plain": [
       "array([0.001, 0.002, 0.003, 0.006, 0.01 , 0.018, 0.032, 0.056, 0.1  ])"
      ]
     },
     "execution_count": 283,
     "metadata": {},
     "output_type": "execute_result"
    }
   ],
   "source": [
    "np.logspace(-3,-1,9)"
   ]
  },
  {
   "cell_type": "code",
   "execution_count": 288,
   "metadata": {},
   "outputs": [
    {
     "data": {
      "text/plain": [
       "array([0.003, 0.006, 0.01 , 0.018, 0.032, 0.056, 0.1  ])"
      ]
     },
     "execution_count": 288,
     "metadata": {},
     "output_type": "execute_result"
    }
   ],
   "source": [
    "np.logspace(-2.5,-1,7)"
   ]
  },
  {
   "cell_type": "code",
   "execution_count": null,
   "metadata": {},
   "outputs": [],
   "source": [
    "'''\n",
    "TRAININGSMENGE 30000\n",
    "'''"
   ]
  },
  {
   "cell_type": "code",
   "execution_count": null,
   "metadata": {},
   "outputs": [],
   "source": []
  },
  {
   "cell_type": "code",
   "execution_count": null,
   "metadata": {},
   "outputs": [],
   "source": [
    "'''\n",
    "TRAININGSMENGE 40000\n",
    "'''"
   ]
  },
  {
   "cell_type": "code",
   "execution_count": null,
   "metadata": {},
   "outputs": [],
   "source": [
    "'''\n",
    "TRAININGSMENGE 50000\n",
    "'''"
   ]
  },
  {
   "cell_type": "code",
   "execution_count": null,
   "metadata": {},
   "outputs": [],
   "source": [
    "'''\n",
    "TRAININGSMENGE 60000\n",
    "'''"
   ]
  }
 ],
 "metadata": {
  "kernelspec": {
   "display_name": "Python 3",
   "language": "python",
   "name": "python3"
  },
  "language_info": {
   "codemirror_mode": {
    "name": "ipython",
    "version": 3
   },
   "file_extension": ".py",
   "mimetype": "text/x-python",
   "name": "python",
   "nbconvert_exporter": "python",
   "pygments_lexer": "ipython3",
   "version": "3.6.8"
  }
 },
 "nbformat": 4,
 "nbformat_minor": 2
}
